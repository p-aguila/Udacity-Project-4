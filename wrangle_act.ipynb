{
 "cells": [
  {
   "cell_type": "markdown",
   "metadata": {},
   "source": [
    "# Wrangle and Analyze Data: WeRateDogs"
   ]
  },
  {
   "cell_type": "markdown",
   "metadata": {},
   "source": [
    "<h1 id=\"tocheading\">Table of Contents</h1>\n",
    "<div id=\"toc\"></div>"
   ]
  },
  {
   "cell_type": "markdown",
   "metadata": {},
   "source": [
    "*(The code below is for generating the Table of Content)*"
   ]
  },
  {
   "cell_type": "code",
   "execution_count": 1,
   "metadata": {},
   "outputs": [
    {
     "data": {
      "application/javascript": [
       "$.getScript('https://kmahelona.github.io/ipython_notebook_goodies/ipython_notebook_toc.js') \n"
      ],
      "text/plain": [
       "<IPython.core.display.Javascript object>"
      ]
     },
     "metadata": {},
     "output_type": "display_data"
    }
   ],
   "source": [
    "%%javascript\n",
    "$.getScript('https://kmahelona.github.io/ipython_notebook_goodies/ipython_notebook_toc.js') "
   ]
  },
  {
   "cell_type": "markdown",
   "metadata": {},
   "source": [
    "## 1st Step: Gathering Data"
   ]
  },
  {
   "cell_type": "markdown",
   "metadata": {},
   "source": [
    "### Import packages and config some features:"
   ]
  },
  {
   "cell_type": "code",
   "execution_count": 2,
   "metadata": {},
   "outputs": [],
   "source": [
    "import pandas as pd\n",
    "import requests\n",
    "import numpy as np\n",
    "\n",
    "# Packages for the file obtained from Twitter API:\n",
    "import tweepy\n",
    "from tweepy import OAuthHandler\n",
    "import json\n",
    "from timeit import default_timer as timer\n",
    "\n",
    "# Package for visualization purposes:\n",
    "import matplotlib.pyplot as plt\n",
    "%matplotlib inline\n",
    "import seaborn as sns"
   ]
  },
  {
   "cell_type": "markdown",
   "metadata": {},
   "source": [
    "### First source and format:"
   ]
  },
  {
   "cell_type": "markdown",
   "metadata": {},
   "source": [
    "* **Source**: file already downloaded\n",
    "* **Format**: 'csv'\n",
    "* **Name of the file**: 'twitter-archive-enhanced.csv'"
   ]
  },
  {
   "cell_type": "code",
   "execution_count": 3,
   "metadata": {},
   "outputs": [
    {
     "data": {
      "text/html": [
       "<div>\n",
       "<style scoped>\n",
       "    .dataframe tbody tr th:only-of-type {\n",
       "        vertical-align: middle;\n",
       "    }\n",
       "\n",
       "    .dataframe tbody tr th {\n",
       "        vertical-align: top;\n",
       "    }\n",
       "\n",
       "    .dataframe thead th {\n",
       "        text-align: right;\n",
       "    }\n",
       "</style>\n",
       "<table border=\"1\" class=\"dataframe\">\n",
       "  <thead>\n",
       "    <tr style=\"text-align: right;\">\n",
       "      <th></th>\n",
       "      <th>tweet_id</th>\n",
       "      <th>in_reply_to_status_id</th>\n",
       "      <th>in_reply_to_user_id</th>\n",
       "      <th>timestamp</th>\n",
       "      <th>source</th>\n",
       "      <th>text</th>\n",
       "      <th>retweeted_status_id</th>\n",
       "      <th>retweeted_status_user_id</th>\n",
       "      <th>retweeted_status_timestamp</th>\n",
       "      <th>expanded_urls</th>\n",
       "      <th>rating_numerator</th>\n",
       "      <th>rating_denominator</th>\n",
       "      <th>name</th>\n",
       "      <th>doggo</th>\n",
       "      <th>floofer</th>\n",
       "      <th>pupper</th>\n",
       "      <th>puppo</th>\n",
       "    </tr>\n",
       "  </thead>\n",
       "  <tbody>\n",
       "    <tr>\n",
       "      <th>0</th>\n",
       "      <td>892420643555336193</td>\n",
       "      <td>NaN</td>\n",
       "      <td>NaN</td>\n",
       "      <td>2017-08-01 16:23:56 +0000</td>\n",
       "      <td>&lt;a href=\"http://twitter.com/download/iphone\" r...</td>\n",
       "      <td>This is Phineas. He's a mystical boy. Only eve...</td>\n",
       "      <td>NaN</td>\n",
       "      <td>NaN</td>\n",
       "      <td>NaN</td>\n",
       "      <td>https://twitter.com/dog_rates/status/892420643...</td>\n",
       "      <td>13</td>\n",
       "      <td>10</td>\n",
       "      <td>Phineas</td>\n",
       "      <td>None</td>\n",
       "      <td>None</td>\n",
       "      <td>None</td>\n",
       "      <td>None</td>\n",
       "    </tr>\n",
       "    <tr>\n",
       "      <th>1</th>\n",
       "      <td>892177421306343426</td>\n",
       "      <td>NaN</td>\n",
       "      <td>NaN</td>\n",
       "      <td>2017-08-01 00:17:27 +0000</td>\n",
       "      <td>&lt;a href=\"http://twitter.com/download/iphone\" r...</td>\n",
       "      <td>This is Tilly. She's just checking pup on you....</td>\n",
       "      <td>NaN</td>\n",
       "      <td>NaN</td>\n",
       "      <td>NaN</td>\n",
       "      <td>https://twitter.com/dog_rates/status/892177421...</td>\n",
       "      <td>13</td>\n",
       "      <td>10</td>\n",
       "      <td>Tilly</td>\n",
       "      <td>None</td>\n",
       "      <td>None</td>\n",
       "      <td>None</td>\n",
       "      <td>None</td>\n",
       "    </tr>\n",
       "    <tr>\n",
       "      <th>2</th>\n",
       "      <td>891815181378084864</td>\n",
       "      <td>NaN</td>\n",
       "      <td>NaN</td>\n",
       "      <td>2017-07-31 00:18:03 +0000</td>\n",
       "      <td>&lt;a href=\"http://twitter.com/download/iphone\" r...</td>\n",
       "      <td>This is Archie. He is a rare Norwegian Pouncin...</td>\n",
       "      <td>NaN</td>\n",
       "      <td>NaN</td>\n",
       "      <td>NaN</td>\n",
       "      <td>https://twitter.com/dog_rates/status/891815181...</td>\n",
       "      <td>12</td>\n",
       "      <td>10</td>\n",
       "      <td>Archie</td>\n",
       "      <td>None</td>\n",
       "      <td>None</td>\n",
       "      <td>None</td>\n",
       "      <td>None</td>\n",
       "    </tr>\n",
       "  </tbody>\n",
       "</table>\n",
       "</div>"
      ],
      "text/plain": [
       "             tweet_id  in_reply_to_status_id  in_reply_to_user_id  \\\n",
       "0  892420643555336193                    NaN                  NaN   \n",
       "1  892177421306343426                    NaN                  NaN   \n",
       "2  891815181378084864                    NaN                  NaN   \n",
       "\n",
       "                   timestamp  \\\n",
       "0  2017-08-01 16:23:56 +0000   \n",
       "1  2017-08-01 00:17:27 +0000   \n",
       "2  2017-07-31 00:18:03 +0000   \n",
       "\n",
       "                                              source  \\\n",
       "0  <a href=\"http://twitter.com/download/iphone\" r...   \n",
       "1  <a href=\"http://twitter.com/download/iphone\" r...   \n",
       "2  <a href=\"http://twitter.com/download/iphone\" r...   \n",
       "\n",
       "                                                text  retweeted_status_id  \\\n",
       "0  This is Phineas. He's a mystical boy. Only eve...                  NaN   \n",
       "1  This is Tilly. She's just checking pup on you....                  NaN   \n",
       "2  This is Archie. He is a rare Norwegian Pouncin...                  NaN   \n",
       "\n",
       "   retweeted_status_user_id retweeted_status_timestamp  \\\n",
       "0                       NaN                        NaN   \n",
       "1                       NaN                        NaN   \n",
       "2                       NaN                        NaN   \n",
       "\n",
       "                                       expanded_urls  rating_numerator  \\\n",
       "0  https://twitter.com/dog_rates/status/892420643...                13   \n",
       "1  https://twitter.com/dog_rates/status/892177421...                13   \n",
       "2  https://twitter.com/dog_rates/status/891815181...                12   \n",
       "\n",
       "   rating_denominator     name doggo floofer pupper puppo  \n",
       "0                  10  Phineas  None    None   None  None  \n",
       "1                  10    Tilly  None    None   None  None  \n",
       "2                  10   Archie  None    None   None  None  "
      ]
     },
     "metadata": {},
     "output_type": "display_data"
    }
   ],
   "source": [
    "# First Data Frame\n",
    "df_1=pd.read_csv('twitter-archive-enhanced.csv')\n",
    "display(df_1.head(3))"
   ]
  },
  {
   "cell_type": "markdown",
   "metadata": {},
   "source": [
    "### Second source and format:"
   ]
  },
  {
   "cell_type": "markdown",
   "metadata": {},
   "source": [
    "* **Source**: url\n",
    "* **Format**: 'tsv'\n",
    "* **Name of the file**: 'image_predictions.tsv'"
   ]
  },
  {
   "cell_type": "markdown",
   "metadata": {},
   "source": [
    "I found two ways to read the data. The first one is reading the url without saving a 'tsv' file:\n",
    "\n",
    "    from io import StringIO\n",
    "    url = 'https://video.udacity-data.com/topher/2018/November/5bf60c69_image-predictions-3/image-predictions-3.tsv'\n",
    "    response = requests.get(url).text\n",
    "    df_2 = pd.read_csv(StringIO(response), sep='\\t')\n",
    "    \n",
    "And the second one is storing it in the  disc. I executed the second option:"
   ]
  },
  {
   "cell_type": "code",
   "execution_count": 4,
   "metadata": {},
   "outputs": [
    {
     "data": {
      "text/html": [
       "<div>\n",
       "<style scoped>\n",
       "    .dataframe tbody tr th:only-of-type {\n",
       "        vertical-align: middle;\n",
       "    }\n",
       "\n",
       "    .dataframe tbody tr th {\n",
       "        vertical-align: top;\n",
       "    }\n",
       "\n",
       "    .dataframe thead th {\n",
       "        text-align: right;\n",
       "    }\n",
       "</style>\n",
       "<table border=\"1\" class=\"dataframe\">\n",
       "  <thead>\n",
       "    <tr style=\"text-align: right;\">\n",
       "      <th></th>\n",
       "      <th>tweet_id</th>\n",
       "      <th>jpg_url</th>\n",
       "      <th>img_num</th>\n",
       "      <th>p1</th>\n",
       "      <th>p1_conf</th>\n",
       "      <th>p1_dog</th>\n",
       "      <th>p2</th>\n",
       "      <th>p2_conf</th>\n",
       "      <th>p2_dog</th>\n",
       "      <th>p3</th>\n",
       "      <th>p3_conf</th>\n",
       "      <th>p3_dog</th>\n",
       "    </tr>\n",
       "  </thead>\n",
       "  <tbody>\n",
       "    <tr>\n",
       "      <th>0</th>\n",
       "      <td>666020888022790149</td>\n",
       "      <td>https://pbs.twimg.com/media/CT4udn0WwAA0aMy.jpg</td>\n",
       "      <td>1</td>\n",
       "      <td>Welsh_springer_spaniel</td>\n",
       "      <td>0.465074</td>\n",
       "      <td>True</td>\n",
       "      <td>collie</td>\n",
       "      <td>0.156665</td>\n",
       "      <td>True</td>\n",
       "      <td>Shetland_sheepdog</td>\n",
       "      <td>0.061428</td>\n",
       "      <td>True</td>\n",
       "    </tr>\n",
       "    <tr>\n",
       "      <th>1</th>\n",
       "      <td>666029285002620928</td>\n",
       "      <td>https://pbs.twimg.com/media/CT42GRgUYAA5iDo.jpg</td>\n",
       "      <td>1</td>\n",
       "      <td>redbone</td>\n",
       "      <td>0.506826</td>\n",
       "      <td>True</td>\n",
       "      <td>miniature_pinscher</td>\n",
       "      <td>0.074192</td>\n",
       "      <td>True</td>\n",
       "      <td>Rhodesian_ridgeback</td>\n",
       "      <td>0.072010</td>\n",
       "      <td>True</td>\n",
       "    </tr>\n",
       "    <tr>\n",
       "      <th>2</th>\n",
       "      <td>666033412701032449</td>\n",
       "      <td>https://pbs.twimg.com/media/CT4521TWwAEvMyu.jpg</td>\n",
       "      <td>1</td>\n",
       "      <td>German_shepherd</td>\n",
       "      <td>0.596461</td>\n",
       "      <td>True</td>\n",
       "      <td>malinois</td>\n",
       "      <td>0.138584</td>\n",
       "      <td>True</td>\n",
       "      <td>bloodhound</td>\n",
       "      <td>0.116197</td>\n",
       "      <td>True</td>\n",
       "    </tr>\n",
       "  </tbody>\n",
       "</table>\n",
       "</div>"
      ],
      "text/plain": [
       "             tweet_id                                          jpg_url  \\\n",
       "0  666020888022790149  https://pbs.twimg.com/media/CT4udn0WwAA0aMy.jpg   \n",
       "1  666029285002620928  https://pbs.twimg.com/media/CT42GRgUYAA5iDo.jpg   \n",
       "2  666033412701032449  https://pbs.twimg.com/media/CT4521TWwAEvMyu.jpg   \n",
       "\n",
       "   img_num                      p1   p1_conf  p1_dog                  p2  \\\n",
       "0        1  Welsh_springer_spaniel  0.465074    True              collie   \n",
       "1        1                 redbone  0.506826    True  miniature_pinscher   \n",
       "2        1         German_shepherd  0.596461    True            malinois   \n",
       "\n",
       "    p2_conf  p2_dog                   p3   p3_conf  p3_dog  \n",
       "0  0.156665    True    Shetland_sheepdog  0.061428    True  \n",
       "1  0.074192    True  Rhodesian_ridgeback  0.072010    True  \n",
       "2  0.138584    True           bloodhound  0.116197    True  "
      ]
     },
     "metadata": {},
     "output_type": "display_data"
    }
   ],
   "source": [
    "url = 'https://d17h27t6h515a5.cloudfront.net/topher/2017/August/599fd2ad_image-predictions/image-predictions.tsv'\n",
    "response = requests.get(url)\n",
    "with open  ('image_predictions.tsv', 'wb') as file:\n",
    "    file.write(response.content)\n",
    "df_2 = pd.read_csv('image_predictions.tsv', sep='\\t')\n",
    "display(df_2.head(3))"
   ]
  },
  {
   "cell_type": "markdown",
   "metadata": {},
   "source": [
    "### Third source and format:"
   ]
  },
  {
   "cell_type": "markdown",
   "metadata": {},
   "source": [
    "* **Source**: Twitter API\n",
    "* **Format**: 'txt'\n",
    "* **Name of the file**: 'tweet-json.txt'"
   ]
  },
  {
   "cell_type": "markdown",
   "metadata": {},
   "source": [
    "In this section it was used the code given by Udacity from the file 'twitter-api.py'"
   ]
  },
  {
   "cell_type": "code",
   "execution_count": null,
   "metadata": {},
   "outputs": [],
   "source": [
    "# Query Twitter API for each tweet in the Twitter archive and save JSON in a text file\n",
    "# These are hidden to comply with Twitter's API terms and conditions\n",
    "consumer_key = 'HIDDEN'\n",
    "consumer_secret = 'HIDDEN'\n",
    "access_token = 'HIDDEN'\n",
    "access_secret = 'HIDDEN'\n",
    "\n",
    "auth = OAuthHandler(consumer_key, consumer_secret)\n",
    "auth.set_access_token(access_token, access_secret)\n",
    "\n",
    "api = tweepy.API(auth, wait_on_rate_limit=True)"
   ]
  },
  {
   "cell_type": "markdown",
   "metadata": {},
   "source": [
    "With the length of tweet ids it can be checked if all the tweets were gathered:"
   ]
  },
  {
   "cell_type": "code",
   "execution_count": 5,
   "metadata": {},
   "outputs": [
    {
     "data": {
      "text/plain": [
       "2356"
      ]
     },
     "execution_count": 5,
     "metadata": {},
     "output_type": "execute_result"
    }
   ],
   "source": [
    "tweet_ids = df_1.tweet_id.values\n",
    "len(tweet_ids)"
   ]
  },
  {
   "cell_type": "code",
   "execution_count": null,
   "metadata": {},
   "outputs": [],
   "source": [
    "# Query Twitter's API for JSON data for each tweet ID in the Twitter archive\n",
    "count = 0\n",
    "fails_dict = {}\n",
    "start = timer()\n",
    "# Save each tweet's returned JSON as a new line in a .txt file\n",
    "with open('tweet_json.txt', 'w') as outfile:\n",
    "    # This loop will likely take 20-30 minutes to run because of Twitter's rate limit\n",
    "    for tweet_id in tweet_ids:\n",
    "        count += 1\n",
    "        print(str(count) + \": \" + str(tweet_id))\n",
    "        try:\n",
    "            tweet = api.get_status(tweet_id, tweet_mode='extended')\n",
    "            print(\"Success\")\n",
    "            json.dump(tweet._json, outfile)\n",
    "            outfile.write('\\n')\n",
    "        except tweepy.TweepError as e:\n",
    "            print(\"Fail\")\n",
    "            fails_dict[tweet_id] = e\n",
    "            pass\n",
    "end = timer()\n",
    "print(end - start)\n",
    "print(fails_dict)"
   ]
  },
  {
   "cell_type": "markdown",
   "metadata": {},
   "source": [
    "* The result of this step was a 'txt' file with missing values in tweet id's. For example, number 20 `tweet_id` says 'Fail': ![alt text](capture_01.png)\n",
    "* This also can be seen in the number of 'Fail' obtained in the `fails_dict`: ![alt text](capture_02.png)\n",
    "* The code above took me around 35 minutes to be executed (2108.9 seconds): ![alt text](capture_03.png)\n",
    "* Due to this results it will be used the file given by Udacity that contains more tweet id's than the file obtained above."
   ]
  },
  {
   "cell_type": "code",
   "execution_count": 6,
   "metadata": {
    "scrolled": true
   },
   "outputs": [
    {
     "data": {
      "text/html": [
       "<div>\n",
       "<style scoped>\n",
       "    .dataframe tbody tr th:only-of-type {\n",
       "        vertical-align: middle;\n",
       "    }\n",
       "\n",
       "    .dataframe tbody tr th {\n",
       "        vertical-align: top;\n",
       "    }\n",
       "\n",
       "    .dataframe thead th {\n",
       "        text-align: right;\n",
       "    }\n",
       "</style>\n",
       "<table border=\"1\" class=\"dataframe\">\n",
       "  <thead>\n",
       "    <tr style=\"text-align: right;\">\n",
       "      <th></th>\n",
       "      <th>created_at</th>\n",
       "      <th>id</th>\n",
       "      <th>id_str</th>\n",
       "      <th>full_text</th>\n",
       "      <th>truncated</th>\n",
       "      <th>display_text_range</th>\n",
       "      <th>entities</th>\n",
       "      <th>extended_entities</th>\n",
       "      <th>source</th>\n",
       "      <th>in_reply_to_status_id</th>\n",
       "      <th>...</th>\n",
       "      <th>favorite_count</th>\n",
       "      <th>favorited</th>\n",
       "      <th>retweeted</th>\n",
       "      <th>possibly_sensitive</th>\n",
       "      <th>possibly_sensitive_appealable</th>\n",
       "      <th>lang</th>\n",
       "      <th>retweeted_status</th>\n",
       "      <th>quoted_status_id</th>\n",
       "      <th>quoted_status_id_str</th>\n",
       "      <th>quoted_status</th>\n",
       "    </tr>\n",
       "  </thead>\n",
       "  <tbody>\n",
       "    <tr>\n",
       "      <th>0</th>\n",
       "      <td>Tue Aug 01 16:23:56 +0000 2017</td>\n",
       "      <td>892420643555336193</td>\n",
       "      <td>892420643555336193</td>\n",
       "      <td>This is Phineas. He's a mystical boy. Only eve...</td>\n",
       "      <td>False</td>\n",
       "      <td>[0, 85]</td>\n",
       "      <td>{'hashtags': [], 'symbols': [], 'user_mentions...</td>\n",
       "      <td>{'media': [{'id': 892420639486877696, 'id_str'...</td>\n",
       "      <td>&lt;a href=\"http://twitter.com/download/iphone\" r...</td>\n",
       "      <td>NaN</td>\n",
       "      <td>...</td>\n",
       "      <td>39467</td>\n",
       "      <td>False</td>\n",
       "      <td>False</td>\n",
       "      <td>False</td>\n",
       "      <td>False</td>\n",
       "      <td>en</td>\n",
       "      <td>NaN</td>\n",
       "      <td>NaN</td>\n",
       "      <td>NaN</td>\n",
       "      <td>NaN</td>\n",
       "    </tr>\n",
       "    <tr>\n",
       "      <th>1</th>\n",
       "      <td>Tue Aug 01 00:17:27 +0000 2017</td>\n",
       "      <td>892177421306343426</td>\n",
       "      <td>892177421306343426</td>\n",
       "      <td>This is Tilly. She's just checking pup on you....</td>\n",
       "      <td>False</td>\n",
       "      <td>[0, 138]</td>\n",
       "      <td>{'hashtags': [], 'symbols': [], 'user_mentions...</td>\n",
       "      <td>{'media': [{'id': 892177413194625024, 'id_str'...</td>\n",
       "      <td>&lt;a href=\"http://twitter.com/download/iphone\" r...</td>\n",
       "      <td>NaN</td>\n",
       "      <td>...</td>\n",
       "      <td>33819</td>\n",
       "      <td>False</td>\n",
       "      <td>False</td>\n",
       "      <td>False</td>\n",
       "      <td>False</td>\n",
       "      <td>en</td>\n",
       "      <td>NaN</td>\n",
       "      <td>NaN</td>\n",
       "      <td>NaN</td>\n",
       "      <td>NaN</td>\n",
       "    </tr>\n",
       "    <tr>\n",
       "      <th>2</th>\n",
       "      <td>Mon Jul 31 00:18:03 +0000 2017</td>\n",
       "      <td>891815181378084864</td>\n",
       "      <td>891815181378084864</td>\n",
       "      <td>This is Archie. He is a rare Norwegian Pouncin...</td>\n",
       "      <td>False</td>\n",
       "      <td>[0, 121]</td>\n",
       "      <td>{'hashtags': [], 'symbols': [], 'user_mentions...</td>\n",
       "      <td>{'media': [{'id': 891815175371796480, 'id_str'...</td>\n",
       "      <td>&lt;a href=\"http://twitter.com/download/iphone\" r...</td>\n",
       "      <td>NaN</td>\n",
       "      <td>...</td>\n",
       "      <td>25461</td>\n",
       "      <td>False</td>\n",
       "      <td>False</td>\n",
       "      <td>False</td>\n",
       "      <td>False</td>\n",
       "      <td>en</td>\n",
       "      <td>NaN</td>\n",
       "      <td>NaN</td>\n",
       "      <td>NaN</td>\n",
       "      <td>NaN</td>\n",
       "    </tr>\n",
       "  </tbody>\n",
       "</table>\n",
       "<p>3 rows × 31 columns</p>\n",
       "</div>"
      ],
      "text/plain": [
       "                       created_at                  id              id_str  \\\n",
       "0  Tue Aug 01 16:23:56 +0000 2017  892420643555336193  892420643555336193   \n",
       "1  Tue Aug 01 00:17:27 +0000 2017  892177421306343426  892177421306343426   \n",
       "2  Mon Jul 31 00:18:03 +0000 2017  891815181378084864  891815181378084864   \n",
       "\n",
       "                                           full_text  truncated  \\\n",
       "0  This is Phineas. He's a mystical boy. Only eve...      False   \n",
       "1  This is Tilly. She's just checking pup on you....      False   \n",
       "2  This is Archie. He is a rare Norwegian Pouncin...      False   \n",
       "\n",
       "  display_text_range                                           entities  \\\n",
       "0            [0, 85]  {'hashtags': [], 'symbols': [], 'user_mentions...   \n",
       "1           [0, 138]  {'hashtags': [], 'symbols': [], 'user_mentions...   \n",
       "2           [0, 121]  {'hashtags': [], 'symbols': [], 'user_mentions...   \n",
       "\n",
       "                                   extended_entities  \\\n",
       "0  {'media': [{'id': 892420639486877696, 'id_str'...   \n",
       "1  {'media': [{'id': 892177413194625024, 'id_str'...   \n",
       "2  {'media': [{'id': 891815175371796480, 'id_str'...   \n",
       "\n",
       "                                              source  in_reply_to_status_id  \\\n",
       "0  <a href=\"http://twitter.com/download/iphone\" r...                    NaN   \n",
       "1  <a href=\"http://twitter.com/download/iphone\" r...                    NaN   \n",
       "2  <a href=\"http://twitter.com/download/iphone\" r...                    NaN   \n",
       "\n",
       "   ... favorite_count  favorited retweeted possibly_sensitive  \\\n",
       "0  ...          39467      False     False              False   \n",
       "1  ...          33819      False     False              False   \n",
       "2  ...          25461      False     False              False   \n",
       "\n",
       "  possibly_sensitive_appealable lang retweeted_status quoted_status_id  \\\n",
       "0                         False   en              NaN              NaN   \n",
       "1                         False   en              NaN              NaN   \n",
       "2                         False   en              NaN              NaN   \n",
       "\n",
       "  quoted_status_id_str  quoted_status  \n",
       "0                  NaN            NaN  \n",
       "1                  NaN            NaN  \n",
       "2                  NaN            NaN  \n",
       "\n",
       "[3 rows x 31 columns]"
      ]
     },
     "metadata": {},
     "output_type": "display_data"
    }
   ],
   "source": [
    "with open ('tweet_json.txt') as file: \n",
    "    data = [json.loads(line) for line in file]\n",
    "df_3 = pd.DataFrame(data)\n",
    "display(df_3.head(3))"
   ]
  },
  {
   "cell_type": "markdown",
   "metadata": {},
   "source": [
    "## 2nd Step: Assessing Data"
   ]
  },
  {
   "cell_type": "markdown",
   "metadata": {},
   "source": [
    "Looking for **data quality issues** (completeness, validity, accuracy, consistency) and **tidiness issues**"
   ]
  },
  {
   "cell_type": "markdown",
   "metadata": {},
   "source": [
    "### Visual Assessment"
   ]
  },
  {
   "cell_type": "markdown",
   "metadata": {},
   "source": [
    "#### Data Frame 1: Twitter Archive Enhanced"
   ]
  },
  {
   "cell_type": "code",
   "execution_count": 7,
   "metadata": {},
   "outputs": [
    {
     "data": {
      "text/html": [
       "<div>\n",
       "<style scoped>\n",
       "    .dataframe tbody tr th:only-of-type {\n",
       "        vertical-align: middle;\n",
       "    }\n",
       "\n",
       "    .dataframe tbody tr th {\n",
       "        vertical-align: top;\n",
       "    }\n",
       "\n",
       "    .dataframe thead th {\n",
       "        text-align: right;\n",
       "    }\n",
       "</style>\n",
       "<table border=\"1\" class=\"dataframe\">\n",
       "  <thead>\n",
       "    <tr style=\"text-align: right;\">\n",
       "      <th></th>\n",
       "      <th>tweet_id</th>\n",
       "      <th>in_reply_to_status_id</th>\n",
       "      <th>in_reply_to_user_id</th>\n",
       "      <th>timestamp</th>\n",
       "      <th>source</th>\n",
       "      <th>text</th>\n",
       "      <th>retweeted_status_id</th>\n",
       "      <th>retweeted_status_user_id</th>\n",
       "      <th>retweeted_status_timestamp</th>\n",
       "      <th>expanded_urls</th>\n",
       "      <th>rating_numerator</th>\n",
       "      <th>rating_denominator</th>\n",
       "      <th>name</th>\n",
       "      <th>doggo</th>\n",
       "      <th>floofer</th>\n",
       "      <th>pupper</th>\n",
       "      <th>puppo</th>\n",
       "    </tr>\n",
       "  </thead>\n",
       "  <tbody>\n",
       "    <tr>\n",
       "      <th>734</th>\n",
       "      <td>781251288990355457</td>\n",
       "      <td>NaN</td>\n",
       "      <td>NaN</td>\n",
       "      <td>2016-09-28 21:56:36 +0000</td>\n",
       "      <td>&lt;a href=\"http://twitter.com/download/iphone\" r...</td>\n",
       "      <td>This is Oakley. He just got yelled at for goin...</td>\n",
       "      <td>NaN</td>\n",
       "      <td>NaN</td>\n",
       "      <td>NaN</td>\n",
       "      <td>https://twitter.com/dog_rates/status/781251288...</td>\n",
       "      <td>11</td>\n",
       "      <td>10</td>\n",
       "      <td>Oakley</td>\n",
       "      <td>None</td>\n",
       "      <td>None</td>\n",
       "      <td>None</td>\n",
       "      <td>None</td>\n",
       "    </tr>\n",
       "    <tr>\n",
       "      <th>54</th>\n",
       "      <td>881666595344535552</td>\n",
       "      <td>NaN</td>\n",
       "      <td>NaN</td>\n",
       "      <td>2017-07-03 00:11:11 +0000</td>\n",
       "      <td>&lt;a href=\"http://twitter.com/download/iphone\" r...</td>\n",
       "      <td>This is Gary. He couldn't miss this puppertuni...</td>\n",
       "      <td>NaN</td>\n",
       "      <td>NaN</td>\n",
       "      <td>NaN</td>\n",
       "      <td>https://twitter.com/dog_rates/status/881666595...</td>\n",
       "      <td>13</td>\n",
       "      <td>10</td>\n",
       "      <td>Gary</td>\n",
       "      <td>None</td>\n",
       "      <td>None</td>\n",
       "      <td>None</td>\n",
       "      <td>None</td>\n",
       "    </tr>\n",
       "    <tr>\n",
       "      <th>308</th>\n",
       "      <td>835574547218894849</td>\n",
       "      <td>NaN</td>\n",
       "      <td>NaN</td>\n",
       "      <td>2017-02-25 19:37:50 +0000</td>\n",
       "      <td>&lt;a href=\"http://twitter.com/download/iphone\" r...</td>\n",
       "      <td>This is Eli. He works backstage at Bone Jovi c...</td>\n",
       "      <td>NaN</td>\n",
       "      <td>NaN</td>\n",
       "      <td>NaN</td>\n",
       "      <td>https://twitter.com/dog_rates/status/835574547...</td>\n",
       "      <td>11</td>\n",
       "      <td>10</td>\n",
       "      <td>Eli</td>\n",
       "      <td>None</td>\n",
       "      <td>None</td>\n",
       "      <td>None</td>\n",
       "      <td>None</td>\n",
       "    </tr>\n",
       "    <tr>\n",
       "      <th>612</th>\n",
       "      <td>796904159865868288</td>\n",
       "      <td>NaN</td>\n",
       "      <td>NaN</td>\n",
       "      <td>2016-11-11 02:35:32 +0000</td>\n",
       "      <td>&lt;a href=\"http://twitter.com/download/iphone\" r...</td>\n",
       "      <td>RT @dog_rates: This is Tyrone. He's a leaf wiz...</td>\n",
       "      <td>6.873173e+17</td>\n",
       "      <td>4.196984e+09</td>\n",
       "      <td>2016-01-13 16:56:30 +0000</td>\n",
       "      <td>https://twitter.com/dog_rates/status/687317306...</td>\n",
       "      <td>11</td>\n",
       "      <td>10</td>\n",
       "      <td>Tyrone</td>\n",
       "      <td>None</td>\n",
       "      <td>None</td>\n",
       "      <td>None</td>\n",
       "      <td>None</td>\n",
       "    </tr>\n",
       "    <tr>\n",
       "      <th>1094</th>\n",
       "      <td>736736130620620800</td>\n",
       "      <td>NaN</td>\n",
       "      <td>NaN</td>\n",
       "      <td>2016-05-29 01:49:16 +0000</td>\n",
       "      <td>&lt;a href=\"http://twitter.com/download/iphone\" r...</td>\n",
       "      <td>This is Chadrick. He's gnarly af 13/10 https:/...</td>\n",
       "      <td>NaN</td>\n",
       "      <td>NaN</td>\n",
       "      <td>NaN</td>\n",
       "      <td>https://twitter.com/dog_rates/status/736736130...</td>\n",
       "      <td>13</td>\n",
       "      <td>10</td>\n",
       "      <td>Chadrick</td>\n",
       "      <td>None</td>\n",
       "      <td>None</td>\n",
       "      <td>None</td>\n",
       "      <td>None</td>\n",
       "    </tr>\n",
       "    <tr>\n",
       "      <th>798</th>\n",
       "      <td>772877495989305348</td>\n",
       "      <td>NaN</td>\n",
       "      <td>NaN</td>\n",
       "      <td>2016-09-05 19:22:09 +0000</td>\n",
       "      <td>&lt;a href=\"http://twitter.com\" rel=\"nofollow\"&gt;Tw...</td>\n",
       "      <td>You need to watch these two doggos argue throu...</td>\n",
       "      <td>NaN</td>\n",
       "      <td>NaN</td>\n",
       "      <td>NaN</td>\n",
       "      <td>https://twitter.com/dog_rates/status/772877495...</td>\n",
       "      <td>11</td>\n",
       "      <td>10</td>\n",
       "      <td>None</td>\n",
       "      <td>None</td>\n",
       "      <td>None</td>\n",
       "      <td>None</td>\n",
       "      <td>None</td>\n",
       "    </tr>\n",
       "    <tr>\n",
       "      <th>1249</th>\n",
       "      <td>711306686208872448</td>\n",
       "      <td>NaN</td>\n",
       "      <td>NaN</td>\n",
       "      <td>2016-03-19 21:41:44 +0000</td>\n",
       "      <td>&lt;a href=\"http://twitter.com/download/iphone\" r...</td>\n",
       "      <td>What hooligan sent in pictures w/out a dog in ...</td>\n",
       "      <td>NaN</td>\n",
       "      <td>NaN</td>\n",
       "      <td>NaN</td>\n",
       "      <td>https://twitter.com/dog_rates/status/711306686...</td>\n",
       "      <td>3</td>\n",
       "      <td>10</td>\n",
       "      <td>None</td>\n",
       "      <td>None</td>\n",
       "      <td>None</td>\n",
       "      <td>None</td>\n",
       "      <td>None</td>\n",
       "    </tr>\n",
       "    <tr>\n",
       "      <th>694</th>\n",
       "      <td>786729988674449408</td>\n",
       "      <td>NaN</td>\n",
       "      <td>NaN</td>\n",
       "      <td>2016-10-14 00:47:00 +0000</td>\n",
       "      <td>&lt;a href=\"http://twitter.com/download/iphone\" r...</td>\n",
       "      <td>RT @dog_rates: This is Oakley. He has no idea ...</td>\n",
       "      <td>7.594477e+17</td>\n",
       "      <td>4.196984e+09</td>\n",
       "      <td>2016-07-30 17:56:51 +0000</td>\n",
       "      <td>https://twitter.com/dog_rates/status/759447681...</td>\n",
       "      <td>11</td>\n",
       "      <td>10</td>\n",
       "      <td>Oakley</td>\n",
       "      <td>None</td>\n",
       "      <td>None</td>\n",
       "      <td>None</td>\n",
       "      <td>None</td>\n",
       "    </tr>\n",
       "    <tr>\n",
       "      <th>2295</th>\n",
       "      <td>667119796878725120</td>\n",
       "      <td>NaN</td>\n",
       "      <td>NaN</td>\n",
       "      <td>2015-11-18 23:18:48 +0000</td>\n",
       "      <td>&lt;a href=\"http://twitter.com/download/iphone\" r...</td>\n",
       "      <td>This is Gabe. He is a southern Baklava. Gabe h...</td>\n",
       "      <td>NaN</td>\n",
       "      <td>NaN</td>\n",
       "      <td>NaN</td>\n",
       "      <td>https://twitter.com/dog_rates/status/667119796...</td>\n",
       "      <td>10</td>\n",
       "      <td>10</td>\n",
       "      <td>Gabe</td>\n",
       "      <td>None</td>\n",
       "      <td>None</td>\n",
       "      <td>None</td>\n",
       "      <td>None</td>\n",
       "    </tr>\n",
       "    <tr>\n",
       "      <th>1875</th>\n",
       "      <td>675113801096802304</td>\n",
       "      <td>NaN</td>\n",
       "      <td>NaN</td>\n",
       "      <td>2015-12-11 00:44:07 +0000</td>\n",
       "      <td>&lt;a href=\"http://twitter.com/download/iphone\" r...</td>\n",
       "      <td>Meet Zuzu. He just graduated college. Astute p...</td>\n",
       "      <td>NaN</td>\n",
       "      <td>NaN</td>\n",
       "      <td>NaN</td>\n",
       "      <td>https://twitter.com/dog_rates/status/675113801...</td>\n",
       "      <td>10</td>\n",
       "      <td>10</td>\n",
       "      <td>Zuzu</td>\n",
       "      <td>None</td>\n",
       "      <td>None</td>\n",
       "      <td>pupper</td>\n",
       "      <td>None</td>\n",
       "    </tr>\n",
       "  </tbody>\n",
       "</table>\n",
       "</div>"
      ],
      "text/plain": [
       "                tweet_id  in_reply_to_status_id  in_reply_to_user_id  \\\n",
       "734   781251288990355457                    NaN                  NaN   \n",
       "54    881666595344535552                    NaN                  NaN   \n",
       "308   835574547218894849                    NaN                  NaN   \n",
       "612   796904159865868288                    NaN                  NaN   \n",
       "1094  736736130620620800                    NaN                  NaN   \n",
       "798   772877495989305348                    NaN                  NaN   \n",
       "1249  711306686208872448                    NaN                  NaN   \n",
       "694   786729988674449408                    NaN                  NaN   \n",
       "2295  667119796878725120                    NaN                  NaN   \n",
       "1875  675113801096802304                    NaN                  NaN   \n",
       "\n",
       "                      timestamp  \\\n",
       "734   2016-09-28 21:56:36 +0000   \n",
       "54    2017-07-03 00:11:11 +0000   \n",
       "308   2017-02-25 19:37:50 +0000   \n",
       "612   2016-11-11 02:35:32 +0000   \n",
       "1094  2016-05-29 01:49:16 +0000   \n",
       "798   2016-09-05 19:22:09 +0000   \n",
       "1249  2016-03-19 21:41:44 +0000   \n",
       "694   2016-10-14 00:47:00 +0000   \n",
       "2295  2015-11-18 23:18:48 +0000   \n",
       "1875  2015-12-11 00:44:07 +0000   \n",
       "\n",
       "                                                 source  \\\n",
       "734   <a href=\"http://twitter.com/download/iphone\" r...   \n",
       "54    <a href=\"http://twitter.com/download/iphone\" r...   \n",
       "308   <a href=\"http://twitter.com/download/iphone\" r...   \n",
       "612   <a href=\"http://twitter.com/download/iphone\" r...   \n",
       "1094  <a href=\"http://twitter.com/download/iphone\" r...   \n",
       "798   <a href=\"http://twitter.com\" rel=\"nofollow\">Tw...   \n",
       "1249  <a href=\"http://twitter.com/download/iphone\" r...   \n",
       "694   <a href=\"http://twitter.com/download/iphone\" r...   \n",
       "2295  <a href=\"http://twitter.com/download/iphone\" r...   \n",
       "1875  <a href=\"http://twitter.com/download/iphone\" r...   \n",
       "\n",
       "                                                   text  retweeted_status_id  \\\n",
       "734   This is Oakley. He just got yelled at for goin...                  NaN   \n",
       "54    This is Gary. He couldn't miss this puppertuni...                  NaN   \n",
       "308   This is Eli. He works backstage at Bone Jovi c...                  NaN   \n",
       "612   RT @dog_rates: This is Tyrone. He's a leaf wiz...         6.873173e+17   \n",
       "1094  This is Chadrick. He's gnarly af 13/10 https:/...                  NaN   \n",
       "798   You need to watch these two doggos argue throu...                  NaN   \n",
       "1249  What hooligan sent in pictures w/out a dog in ...                  NaN   \n",
       "694   RT @dog_rates: This is Oakley. He has no idea ...         7.594477e+17   \n",
       "2295  This is Gabe. He is a southern Baklava. Gabe h...                  NaN   \n",
       "1875  Meet Zuzu. He just graduated college. Astute p...                  NaN   \n",
       "\n",
       "      retweeted_status_user_id retweeted_status_timestamp  \\\n",
       "734                        NaN                        NaN   \n",
       "54                         NaN                        NaN   \n",
       "308                        NaN                        NaN   \n",
       "612               4.196984e+09  2016-01-13 16:56:30 +0000   \n",
       "1094                       NaN                        NaN   \n",
       "798                        NaN                        NaN   \n",
       "1249                       NaN                        NaN   \n",
       "694               4.196984e+09  2016-07-30 17:56:51 +0000   \n",
       "2295                       NaN                        NaN   \n",
       "1875                       NaN                        NaN   \n",
       "\n",
       "                                          expanded_urls  rating_numerator  \\\n",
       "734   https://twitter.com/dog_rates/status/781251288...                11   \n",
       "54    https://twitter.com/dog_rates/status/881666595...                13   \n",
       "308   https://twitter.com/dog_rates/status/835574547...                11   \n",
       "612   https://twitter.com/dog_rates/status/687317306...                11   \n",
       "1094  https://twitter.com/dog_rates/status/736736130...                13   \n",
       "798   https://twitter.com/dog_rates/status/772877495...                11   \n",
       "1249  https://twitter.com/dog_rates/status/711306686...                 3   \n",
       "694   https://twitter.com/dog_rates/status/759447681...                11   \n",
       "2295  https://twitter.com/dog_rates/status/667119796...                10   \n",
       "1875  https://twitter.com/dog_rates/status/675113801...                10   \n",
       "\n",
       "      rating_denominator      name doggo floofer  pupper puppo  \n",
       "734                   10    Oakley  None    None    None  None  \n",
       "54                    10      Gary  None    None    None  None  \n",
       "308                   10       Eli  None    None    None  None  \n",
       "612                   10    Tyrone  None    None    None  None  \n",
       "1094                  10  Chadrick  None    None    None  None  \n",
       "798                   10      None  None    None    None  None  \n",
       "1249                  10      None  None    None    None  None  \n",
       "694                   10    Oakley  None    None    None  None  \n",
       "2295                  10      Gabe  None    None    None  None  \n",
       "1875                  10      Zuzu  None    None  pupper  None  "
      ]
     },
     "execution_count": 7,
     "metadata": {},
     "output_type": "execute_result"
    }
   ],
   "source": [
    "df_1.sample(10)"
   ]
  },
  {
   "cell_type": "markdown",
   "metadata": {},
   "source": [
    "#### Data Frame 2: Image Predictions"
   ]
  },
  {
   "cell_type": "code",
   "execution_count": 8,
   "metadata": {},
   "outputs": [
    {
     "data": {
      "text/html": [
       "<div>\n",
       "<style scoped>\n",
       "    .dataframe tbody tr th:only-of-type {\n",
       "        vertical-align: middle;\n",
       "    }\n",
       "\n",
       "    .dataframe tbody tr th {\n",
       "        vertical-align: top;\n",
       "    }\n",
       "\n",
       "    .dataframe thead th {\n",
       "        text-align: right;\n",
       "    }\n",
       "</style>\n",
       "<table border=\"1\" class=\"dataframe\">\n",
       "  <thead>\n",
       "    <tr style=\"text-align: right;\">\n",
       "      <th></th>\n",
       "      <th>tweet_id</th>\n",
       "      <th>jpg_url</th>\n",
       "      <th>img_num</th>\n",
       "      <th>p1</th>\n",
       "      <th>p1_conf</th>\n",
       "      <th>p1_dog</th>\n",
       "      <th>p2</th>\n",
       "      <th>p2_conf</th>\n",
       "      <th>p2_dog</th>\n",
       "      <th>p3</th>\n",
       "      <th>p3_conf</th>\n",
       "      <th>p3_dog</th>\n",
       "    </tr>\n",
       "  </thead>\n",
       "  <tbody>\n",
       "    <tr>\n",
       "      <th>514</th>\n",
       "      <td>676237365392908289</td>\n",
       "      <td>https://pbs.twimg.com/media/CWJ6Sc-WwAAlpI6.jpg</td>\n",
       "      <td>1</td>\n",
       "      <td>French_bulldog</td>\n",
       "      <td>0.961996</td>\n",
       "      <td>True</td>\n",
       "      <td>Chihuahua</td>\n",
       "      <td>0.021793</td>\n",
       "      <td>True</td>\n",
       "      <td>Boston_bull</td>\n",
       "      <td>0.006916</td>\n",
       "      <td>True</td>\n",
       "    </tr>\n",
       "    <tr>\n",
       "      <th>1231</th>\n",
       "      <td>745789745784041472</td>\n",
       "      <td>https://pbs.twimg.com/media/ClmT0KHWkAAXbhy.jpg</td>\n",
       "      <td>1</td>\n",
       "      <td>Pekinese</td>\n",
       "      <td>0.984267</td>\n",
       "      <td>True</td>\n",
       "      <td>Shih-Tzu</td>\n",
       "      <td>0.008942</td>\n",
       "      <td>True</td>\n",
       "      <td>cocker_spaniel</td>\n",
       "      <td>0.001928</td>\n",
       "      <td>True</td>\n",
       "    </tr>\n",
       "    <tr>\n",
       "      <th>335</th>\n",
       "      <td>672205392827572224</td>\n",
       "      <td>https://pbs.twimg.com/media/CVQnPMrVAAAzShR.jpg</td>\n",
       "      <td>1</td>\n",
       "      <td>carton</td>\n",
       "      <td>0.952613</td>\n",
       "      <td>False</td>\n",
       "      <td>crate</td>\n",
       "      <td>0.035376</td>\n",
       "      <td>False</td>\n",
       "      <td>pug</td>\n",
       "      <td>0.003267</td>\n",
       "      <td>True</td>\n",
       "    </tr>\n",
       "    <tr>\n",
       "      <th>1023</th>\n",
       "      <td>710283270106132480</td>\n",
       "      <td>https://pbs.twimg.com/media/Cdtu3WRUkAAsRVx.jpg</td>\n",
       "      <td>2</td>\n",
       "      <td>Shih-Tzu</td>\n",
       "      <td>0.932401</td>\n",
       "      <td>True</td>\n",
       "      <td>Lhasa</td>\n",
       "      <td>0.030806</td>\n",
       "      <td>True</td>\n",
       "      <td>Tibetan_terrier</td>\n",
       "      <td>0.008974</td>\n",
       "      <td>True</td>\n",
       "    </tr>\n",
       "    <tr>\n",
       "      <th>156</th>\n",
       "      <td>668826086256599040</td>\n",
       "      <td>https://pbs.twimg.com/media/CUglxbFXAAA5O0d.jpg</td>\n",
       "      <td>1</td>\n",
       "      <td>malinois</td>\n",
       "      <td>0.640185</td>\n",
       "      <td>True</td>\n",
       "      <td>Irish_terrier</td>\n",
       "      <td>0.153700</td>\n",
       "      <td>True</td>\n",
       "      <td>Rhodesian_ridgeback</td>\n",
       "      <td>0.068457</td>\n",
       "      <td>True</td>\n",
       "    </tr>\n",
       "    <tr>\n",
       "      <th>1742</th>\n",
       "      <td>822647212903690241</td>\n",
       "      <td>https://pbs.twimg.com/media/C2oRbOuWEAAbVSl.jpg</td>\n",
       "      <td>1</td>\n",
       "      <td>Samoyed</td>\n",
       "      <td>0.416769</td>\n",
       "      <td>True</td>\n",
       "      <td>malamute</td>\n",
       "      <td>0.252706</td>\n",
       "      <td>True</td>\n",
       "      <td>kuvasz</td>\n",
       "      <td>0.157028</td>\n",
       "      <td>True</td>\n",
       "    </tr>\n",
       "    <tr>\n",
       "      <th>1911</th>\n",
       "      <td>853639147608842240</td>\n",
       "      <td>https://pbs.twimg.com/media/C9i8RhhXoAAdkMT.jpg</td>\n",
       "      <td>1</td>\n",
       "      <td>German_shepherd</td>\n",
       "      <td>0.509879</td>\n",
       "      <td>True</td>\n",
       "      <td>malinois</td>\n",
       "      <td>0.237311</td>\n",
       "      <td>True</td>\n",
       "      <td>kelpie</td>\n",
       "      <td>0.046916</td>\n",
       "      <td>True</td>\n",
       "    </tr>\n",
       "    <tr>\n",
       "      <th>781</th>\n",
       "      <td>689999384604450816</td>\n",
       "      <td>https://pbs.twimg.com/media/CZNexghWAAAYnT-.jpg</td>\n",
       "      <td>1</td>\n",
       "      <td>standard_poodle</td>\n",
       "      <td>0.444499</td>\n",
       "      <td>True</td>\n",
       "      <td>English_springer</td>\n",
       "      <td>0.129830</td>\n",
       "      <td>True</td>\n",
       "      <td>pug</td>\n",
       "      <td>0.073806</td>\n",
       "      <td>True</td>\n",
       "    </tr>\n",
       "    <tr>\n",
       "      <th>1711</th>\n",
       "      <td>818536468981415936</td>\n",
       "      <td>https://pbs.twimg.com/media/C1wGkYoVQAAuC_O.jpg</td>\n",
       "      <td>1</td>\n",
       "      <td>swing</td>\n",
       "      <td>0.999403</td>\n",
       "      <td>False</td>\n",
       "      <td>Welsh_springer_spaniel</td>\n",
       "      <td>0.000062</td>\n",
       "      <td>True</td>\n",
       "      <td>bow</td>\n",
       "      <td>0.000030</td>\n",
       "      <td>False</td>\n",
       "    </tr>\n",
       "    <tr>\n",
       "      <th>1284</th>\n",
       "      <td>750506206503038976</td>\n",
       "      <td>https://pbs.twimg.com/media/CmpVaOZWIAAp3z6.jpg</td>\n",
       "      <td>1</td>\n",
       "      <td>American_black_bear</td>\n",
       "      <td>0.219166</td>\n",
       "      <td>False</td>\n",
       "      <td>lesser_panda</td>\n",
       "      <td>0.214715</td>\n",
       "      <td>False</td>\n",
       "      <td>titi</td>\n",
       "      <td>0.091685</td>\n",
       "      <td>False</td>\n",
       "    </tr>\n",
       "  </tbody>\n",
       "</table>\n",
       "</div>"
      ],
      "text/plain": [
       "                tweet_id                                          jpg_url  \\\n",
       "514   676237365392908289  https://pbs.twimg.com/media/CWJ6Sc-WwAAlpI6.jpg   \n",
       "1231  745789745784041472  https://pbs.twimg.com/media/ClmT0KHWkAAXbhy.jpg   \n",
       "335   672205392827572224  https://pbs.twimg.com/media/CVQnPMrVAAAzShR.jpg   \n",
       "1023  710283270106132480  https://pbs.twimg.com/media/Cdtu3WRUkAAsRVx.jpg   \n",
       "156   668826086256599040  https://pbs.twimg.com/media/CUglxbFXAAA5O0d.jpg   \n",
       "1742  822647212903690241  https://pbs.twimg.com/media/C2oRbOuWEAAbVSl.jpg   \n",
       "1911  853639147608842240  https://pbs.twimg.com/media/C9i8RhhXoAAdkMT.jpg   \n",
       "781   689999384604450816  https://pbs.twimg.com/media/CZNexghWAAAYnT-.jpg   \n",
       "1711  818536468981415936  https://pbs.twimg.com/media/C1wGkYoVQAAuC_O.jpg   \n",
       "1284  750506206503038976  https://pbs.twimg.com/media/CmpVaOZWIAAp3z6.jpg   \n",
       "\n",
       "      img_num                   p1   p1_conf  p1_dog                      p2  \\\n",
       "514         1       French_bulldog  0.961996    True               Chihuahua   \n",
       "1231        1             Pekinese  0.984267    True                Shih-Tzu   \n",
       "335         1               carton  0.952613   False                   crate   \n",
       "1023        2             Shih-Tzu  0.932401    True                   Lhasa   \n",
       "156         1             malinois  0.640185    True           Irish_terrier   \n",
       "1742        1              Samoyed  0.416769    True                malamute   \n",
       "1911        1      German_shepherd  0.509879    True                malinois   \n",
       "781         1      standard_poodle  0.444499    True        English_springer   \n",
       "1711        1                swing  0.999403   False  Welsh_springer_spaniel   \n",
       "1284        1  American_black_bear  0.219166   False            lesser_panda   \n",
       "\n",
       "       p2_conf  p2_dog                   p3   p3_conf  p3_dog  \n",
       "514   0.021793    True          Boston_bull  0.006916    True  \n",
       "1231  0.008942    True       cocker_spaniel  0.001928    True  \n",
       "335   0.035376   False                  pug  0.003267    True  \n",
       "1023  0.030806    True      Tibetan_terrier  0.008974    True  \n",
       "156   0.153700    True  Rhodesian_ridgeback  0.068457    True  \n",
       "1742  0.252706    True               kuvasz  0.157028    True  \n",
       "1911  0.237311    True               kelpie  0.046916    True  \n",
       "781   0.129830    True                  pug  0.073806    True  \n",
       "1711  0.000062    True                  bow  0.000030   False  \n",
       "1284  0.214715   False                 titi  0.091685   False  "
      ]
     },
     "execution_count": 8,
     "metadata": {},
     "output_type": "execute_result"
    }
   ],
   "source": [
    "df_2.sample(10)"
   ]
  },
  {
   "cell_type": "markdown",
   "metadata": {},
   "source": [
    "#### Data Frame 3: Twitter API"
   ]
  },
  {
   "cell_type": "code",
   "execution_count": 9,
   "metadata": {
    "scrolled": true
   },
   "outputs": [
    {
     "data": {
      "text/html": [
       "<div>\n",
       "<style scoped>\n",
       "    .dataframe tbody tr th:only-of-type {\n",
       "        vertical-align: middle;\n",
       "    }\n",
       "\n",
       "    .dataframe tbody tr th {\n",
       "        vertical-align: top;\n",
       "    }\n",
       "\n",
       "    .dataframe thead th {\n",
       "        text-align: right;\n",
       "    }\n",
       "</style>\n",
       "<table border=\"1\" class=\"dataframe\">\n",
       "  <thead>\n",
       "    <tr style=\"text-align: right;\">\n",
       "      <th></th>\n",
       "      <th>created_at</th>\n",
       "      <th>id</th>\n",
       "      <th>id_str</th>\n",
       "      <th>full_text</th>\n",
       "      <th>truncated</th>\n",
       "      <th>display_text_range</th>\n",
       "      <th>entities</th>\n",
       "      <th>extended_entities</th>\n",
       "      <th>source</th>\n",
       "      <th>in_reply_to_status_id</th>\n",
       "      <th>in_reply_to_status_id_str</th>\n",
       "      <th>in_reply_to_user_id</th>\n",
       "      <th>in_reply_to_user_id_str</th>\n",
       "      <th>in_reply_to_screen_name</th>\n",
       "      <th>user</th>\n",
       "      <th>geo</th>\n",
       "      <th>coordinates</th>\n",
       "      <th>place</th>\n",
       "      <th>contributors</th>\n",
       "      <th>is_quote_status</th>\n",
       "      <th>retweet_count</th>\n",
       "      <th>favorite_count</th>\n",
       "      <th>favorited</th>\n",
       "      <th>retweeted</th>\n",
       "      <th>possibly_sensitive</th>\n",
       "      <th>possibly_sensitive_appealable</th>\n",
       "      <th>lang</th>\n",
       "      <th>retweeted_status</th>\n",
       "      <th>quoted_status_id</th>\n",
       "      <th>quoted_status_id_str</th>\n",
       "      <th>quoted_status</th>\n",
       "    </tr>\n",
       "  </thead>\n",
       "  <tbody>\n",
       "    <tr>\n",
       "      <th>785</th>\n",
       "      <td>Sat Sep 10 23:54:11 +0000 2016</td>\n",
       "      <td>774757898236878852</td>\n",
       "      <td>774757898236878852</td>\n",
       "      <td>This is Finley. She's a Beneboop Cumbersplash....</td>\n",
       "      <td>False</td>\n",
       "      <td>[0, 89]</td>\n",
       "      <td>{'hashtags': [], 'symbols': [], 'user_mentions...</td>\n",
       "      <td>{'media': [{'id': 774757887117852673, 'id_str'...</td>\n",
       "      <td>&lt;a href=\"http://twitter.com/download/iphone\" r...</td>\n",
       "      <td>NaN</td>\n",
       "      <td>None</td>\n",
       "      <td>NaN</td>\n",
       "      <td>None</td>\n",
       "      <td>None</td>\n",
       "      <td>{'id': 4196983835, 'id_str': '4196983835', 'na...</td>\n",
       "      <td>None</td>\n",
       "      <td>None</td>\n",
       "      <td>None</td>\n",
       "      <td>None</td>\n",
       "      <td>False</td>\n",
       "      <td>2035</td>\n",
       "      <td>9462</td>\n",
       "      <td>False</td>\n",
       "      <td>False</td>\n",
       "      <td>False</td>\n",
       "      <td>False</td>\n",
       "      <td>en</td>\n",
       "      <td>NaN</td>\n",
       "      <td>NaN</td>\n",
       "      <td>NaN</td>\n",
       "      <td>NaN</td>\n",
       "    </tr>\n",
       "    <tr>\n",
       "      <th>2251</th>\n",
       "      <td>Fri Nov 20 19:55:30 +0000 2015</td>\n",
       "      <td>667793409583771648</td>\n",
       "      <td>667793409583771648</td>\n",
       "      <td>Dogs only please. Small cows and other non can...</td>\n",
       "      <td>False</td>\n",
       "      <td>[0, 119]</td>\n",
       "      <td>{'hashtags': [], 'symbols': [], 'user_mentions...</td>\n",
       "      <td>{'media': [{'id': 667793397835542529, 'id_str'...</td>\n",
       "      <td>&lt;a href=\"http://twitter.com/download/iphone\" r...</td>\n",
       "      <td>NaN</td>\n",
       "      <td>None</td>\n",
       "      <td>NaN</td>\n",
       "      <td>None</td>\n",
       "      <td>None</td>\n",
       "      <td>{'id': 4196983835, 'id_str': '4196983835', 'na...</td>\n",
       "      <td>None</td>\n",
       "      <td>None</td>\n",
       "      <td>None</td>\n",
       "      <td>None</td>\n",
       "      <td>False</td>\n",
       "      <td>358</td>\n",
       "      <td>736</td>\n",
       "      <td>False</td>\n",
       "      <td>False</td>\n",
       "      <td>False</td>\n",
       "      <td>False</td>\n",
       "      <td>en</td>\n",
       "      <td>NaN</td>\n",
       "      <td>NaN</td>\n",
       "      <td>NaN</td>\n",
       "      <td>NaN</td>\n",
       "    </tr>\n",
       "    <tr>\n",
       "      <th>2108</th>\n",
       "      <td>Sat Nov 28 03:31:48 +0000 2015</td>\n",
       "      <td>670444955656130560</td>\n",
       "      <td>670444955656130560</td>\n",
       "      <td>This is Paull. He just stubbed his toe. 10/10 ...</td>\n",
       "      <td>False</td>\n",
       "      <td>[0, 88]</td>\n",
       "      <td>{'hashtags': [], 'symbols': [], 'user_mentions...</td>\n",
       "      <td>{'media': [{'id': 670444949847023616, 'id_str'...</td>\n",
       "      <td>&lt;a href=\"http://twitter.com/download/iphone\" r...</td>\n",
       "      <td>NaN</td>\n",
       "      <td>None</td>\n",
       "      <td>NaN</td>\n",
       "      <td>None</td>\n",
       "      <td>None</td>\n",
       "      <td>{'id': 4196983835, 'id_str': '4196983835', 'na...</td>\n",
       "      <td>None</td>\n",
       "      <td>None</td>\n",
       "      <td>None</td>\n",
       "      <td>None</td>\n",
       "      <td>False</td>\n",
       "      <td>2153</td>\n",
       "      <td>7120</td>\n",
       "      <td>False</td>\n",
       "      <td>False</td>\n",
       "      <td>False</td>\n",
       "      <td>False</td>\n",
       "      <td>en</td>\n",
       "      <td>NaN</td>\n",
       "      <td>NaN</td>\n",
       "      <td>NaN</td>\n",
       "      <td>NaN</td>\n",
       "    </tr>\n",
       "    <tr>\n",
       "      <th>400</th>\n",
       "      <td>Thu Jan 26 17:02:56 +0000 2017</td>\n",
       "      <td>824663926340194305</td>\n",
       "      <td>824663926340194305</td>\n",
       "      <td>This is Wilson. Named after the volleyball. He...</td>\n",
       "      <td>False</td>\n",
       "      <td>[0, 103]</td>\n",
       "      <td>{'hashtags': [], 'symbols': [], 'user_mentions...</td>\n",
       "      <td>{'media': [{'id': 824663919851687936, 'id_str'...</td>\n",
       "      <td>&lt;a href=\"http://twitter.com/download/iphone\" r...</td>\n",
       "      <td>NaN</td>\n",
       "      <td>None</td>\n",
       "      <td>NaN</td>\n",
       "      <td>None</td>\n",
       "      <td>None</td>\n",
       "      <td>{'id': 4196983835, 'id_str': '4196983835', 'na...</td>\n",
       "      <td>None</td>\n",
       "      <td>None</td>\n",
       "      <td>None</td>\n",
       "      <td>None</td>\n",
       "      <td>False</td>\n",
       "      <td>1993</td>\n",
       "      <td>11113</td>\n",
       "      <td>False</td>\n",
       "      <td>False</td>\n",
       "      <td>False</td>\n",
       "      <td>False</td>\n",
       "      <td>en</td>\n",
       "      <td>NaN</td>\n",
       "      <td>NaN</td>\n",
       "      <td>NaN</td>\n",
       "      <td>NaN</td>\n",
       "    </tr>\n",
       "    <tr>\n",
       "      <th>497</th>\n",
       "      <td>Sun Dec 25 21:12:41 +0000 2016</td>\n",
       "      <td>813130366689148928</td>\n",
       "      <td>813130366689148928</td>\n",
       "      <td>I've been informed by multiple sources that th...</td>\n",
       "      <td>False</td>\n",
       "      <td>[0, 131]</td>\n",
       "      <td>{'hashtags': [], 'symbols': [], 'user_mentions...</td>\n",
       "      <td>NaN</td>\n",
       "      <td>&lt;a href=\"http://twitter.com/download/iphone\" r...</td>\n",
       "      <td>8.131273e+17</td>\n",
       "      <td>813127251579564032</td>\n",
       "      <td>4.196984e+09</td>\n",
       "      <td>4196983835</td>\n",
       "      <td>dog_rates</td>\n",
       "      <td>{'id': 4196983835, 'id_str': '4196983835', 'na...</td>\n",
       "      <td>None</td>\n",
       "      <td>None</td>\n",
       "      <td>None</td>\n",
       "      <td>None</td>\n",
       "      <td>False</td>\n",
       "      <td>513</td>\n",
       "      <td>4968</td>\n",
       "      <td>False</td>\n",
       "      <td>False</td>\n",
       "      <td>NaN</td>\n",
       "      <td>NaN</td>\n",
       "      <td>en</td>\n",
       "      <td>NaN</td>\n",
       "      <td>NaN</td>\n",
       "      <td>NaN</td>\n",
       "      <td>NaN</td>\n",
       "    </tr>\n",
       "    <tr>\n",
       "      <th>936</th>\n",
       "      <td>Wed Jul 13 18:26:16 +0000 2016</td>\n",
       "      <td>753294487569522689</td>\n",
       "      <td>753294487569522689</td>\n",
       "      <td>This is Ace. He's a window washer. One of the ...</td>\n",
       "      <td>False</td>\n",
       "      <td>[0, 75]</td>\n",
       "      <td>{'hashtags': [], 'symbols': [], 'user_mentions...</td>\n",
       "      <td>{'media': [{'id': 753294480162295809, 'id_str'...</td>\n",
       "      <td>&lt;a href=\"http://twitter.com/download/iphone\" r...</td>\n",
       "      <td>NaN</td>\n",
       "      <td>None</td>\n",
       "      <td>NaN</td>\n",
       "      <td>None</td>\n",
       "      <td>None</td>\n",
       "      <td>{'id': 4196983835, 'id_str': '4196983835', 'na...</td>\n",
       "      <td>None</td>\n",
       "      <td>None</td>\n",
       "      <td>None</td>\n",
       "      <td>None</td>\n",
       "      <td>False</td>\n",
       "      <td>1191</td>\n",
       "      <td>3758</td>\n",
       "      <td>False</td>\n",
       "      <td>False</td>\n",
       "      <td>False</td>\n",
       "      <td>False</td>\n",
       "      <td>en</td>\n",
       "      <td>NaN</td>\n",
       "      <td>NaN</td>\n",
       "      <td>NaN</td>\n",
       "      <td>NaN</td>\n",
       "    </tr>\n",
       "    <tr>\n",
       "      <th>805</th>\n",
       "      <td>Sat Sep 03 16:04:27 +0000 2016</td>\n",
       "      <td>772102971039580160</td>\n",
       "      <td>772102971039580160</td>\n",
       "      <td>This is Penny. She's an OU cheerleader. About ...</td>\n",
       "      <td>False</td>\n",
       "      <td>[0, 107]</td>\n",
       "      <td>{'hashtags': [], 'symbols': [], 'user_mentions...</td>\n",
       "      <td>{'media': [{'id': 772102964165111808, 'id_str'...</td>\n",
       "      <td>&lt;a href=\"http://twitter.com/download/iphone\" r...</td>\n",
       "      <td>NaN</td>\n",
       "      <td>None</td>\n",
       "      <td>NaN</td>\n",
       "      <td>None</td>\n",
       "      <td>None</td>\n",
       "      <td>{'id': 4196983835, 'id_str': '4196983835', 'na...</td>\n",
       "      <td>None</td>\n",
       "      <td>None</td>\n",
       "      <td>None</td>\n",
       "      <td>None</td>\n",
       "      <td>False</td>\n",
       "      <td>1065</td>\n",
       "      <td>4448</td>\n",
       "      <td>False</td>\n",
       "      <td>False</td>\n",
       "      <td>False</td>\n",
       "      <td>False</td>\n",
       "      <td>en</td>\n",
       "      <td>NaN</td>\n",
       "      <td>NaN</td>\n",
       "      <td>NaN</td>\n",
       "      <td>NaN</td>\n",
       "    </tr>\n",
       "    <tr>\n",
       "      <th>1931</th>\n",
       "      <td>Tue Dec 08 00:15:09 +0000 2015</td>\n",
       "      <td>674019345211760640</td>\n",
       "      <td>674019345211760640</td>\n",
       "      <td>This is Acro. You briefly see her out of the c...</td>\n",
       "      <td>False</td>\n",
       "      <td>[0, 139]</td>\n",
       "      <td>{'hashtags': [], 'symbols': [], 'user_mentions...</td>\n",
       "      <td>{'media': [{'id': 674019340715446272, 'id_str'...</td>\n",
       "      <td>&lt;a href=\"http://twitter.com/download/iphone\" r...</td>\n",
       "      <td>NaN</td>\n",
       "      <td>None</td>\n",
       "      <td>NaN</td>\n",
       "      <td>None</td>\n",
       "      <td>None</td>\n",
       "      <td>{'id': 4196983835, 'id_str': '4196983835', 'na...</td>\n",
       "      <td>None</td>\n",
       "      <td>None</td>\n",
       "      <td>None</td>\n",
       "      <td>None</td>\n",
       "      <td>False</td>\n",
       "      <td>340</td>\n",
       "      <td>1208</td>\n",
       "      <td>False</td>\n",
       "      <td>False</td>\n",
       "      <td>False</td>\n",
       "      <td>False</td>\n",
       "      <td>en</td>\n",
       "      <td>NaN</td>\n",
       "      <td>NaN</td>\n",
       "      <td>NaN</td>\n",
       "      <td>NaN</td>\n",
       "    </tr>\n",
       "  </tbody>\n",
       "</table>\n",
       "</div>"
      ],
      "text/plain": [
       "                          created_at                  id              id_str  \\\n",
       "785   Sat Sep 10 23:54:11 +0000 2016  774757898236878852  774757898236878852   \n",
       "2251  Fri Nov 20 19:55:30 +0000 2015  667793409583771648  667793409583771648   \n",
       "2108  Sat Nov 28 03:31:48 +0000 2015  670444955656130560  670444955656130560   \n",
       "400   Thu Jan 26 17:02:56 +0000 2017  824663926340194305  824663926340194305   \n",
       "497   Sun Dec 25 21:12:41 +0000 2016  813130366689148928  813130366689148928   \n",
       "936   Wed Jul 13 18:26:16 +0000 2016  753294487569522689  753294487569522689   \n",
       "805   Sat Sep 03 16:04:27 +0000 2016  772102971039580160  772102971039580160   \n",
       "1931  Tue Dec 08 00:15:09 +0000 2015  674019345211760640  674019345211760640   \n",
       "\n",
       "                                              full_text  truncated  \\\n",
       "785   This is Finley. She's a Beneboop Cumbersplash....      False   \n",
       "2251  Dogs only please. Small cows and other non can...      False   \n",
       "2108  This is Paull. He just stubbed his toe. 10/10 ...      False   \n",
       "400   This is Wilson. Named after the volleyball. He...      False   \n",
       "497   I've been informed by multiple sources that th...      False   \n",
       "936   This is Ace. He's a window washer. One of the ...      False   \n",
       "805   This is Penny. She's an OU cheerleader. About ...      False   \n",
       "1931  This is Acro. You briefly see her out of the c...      False   \n",
       "\n",
       "     display_text_range                                           entities  \\\n",
       "785             [0, 89]  {'hashtags': [], 'symbols': [], 'user_mentions...   \n",
       "2251           [0, 119]  {'hashtags': [], 'symbols': [], 'user_mentions...   \n",
       "2108            [0, 88]  {'hashtags': [], 'symbols': [], 'user_mentions...   \n",
       "400            [0, 103]  {'hashtags': [], 'symbols': [], 'user_mentions...   \n",
       "497            [0, 131]  {'hashtags': [], 'symbols': [], 'user_mentions...   \n",
       "936             [0, 75]  {'hashtags': [], 'symbols': [], 'user_mentions...   \n",
       "805            [0, 107]  {'hashtags': [], 'symbols': [], 'user_mentions...   \n",
       "1931           [0, 139]  {'hashtags': [], 'symbols': [], 'user_mentions...   \n",
       "\n",
       "                                      extended_entities  \\\n",
       "785   {'media': [{'id': 774757887117852673, 'id_str'...   \n",
       "2251  {'media': [{'id': 667793397835542529, 'id_str'...   \n",
       "2108  {'media': [{'id': 670444949847023616, 'id_str'...   \n",
       "400   {'media': [{'id': 824663919851687936, 'id_str'...   \n",
       "497                                                 NaN   \n",
       "936   {'media': [{'id': 753294480162295809, 'id_str'...   \n",
       "805   {'media': [{'id': 772102964165111808, 'id_str'...   \n",
       "1931  {'media': [{'id': 674019340715446272, 'id_str'...   \n",
       "\n",
       "                                                 source  \\\n",
       "785   <a href=\"http://twitter.com/download/iphone\" r...   \n",
       "2251  <a href=\"http://twitter.com/download/iphone\" r...   \n",
       "2108  <a href=\"http://twitter.com/download/iphone\" r...   \n",
       "400   <a href=\"http://twitter.com/download/iphone\" r...   \n",
       "497   <a href=\"http://twitter.com/download/iphone\" r...   \n",
       "936   <a href=\"http://twitter.com/download/iphone\" r...   \n",
       "805   <a href=\"http://twitter.com/download/iphone\" r...   \n",
       "1931  <a href=\"http://twitter.com/download/iphone\" r...   \n",
       "\n",
       "      in_reply_to_status_id in_reply_to_status_id_str  in_reply_to_user_id  \\\n",
       "785                     NaN                      None                  NaN   \n",
       "2251                    NaN                      None                  NaN   \n",
       "2108                    NaN                      None                  NaN   \n",
       "400                     NaN                      None                  NaN   \n",
       "497            8.131273e+17        813127251579564032         4.196984e+09   \n",
       "936                     NaN                      None                  NaN   \n",
       "805                     NaN                      None                  NaN   \n",
       "1931                    NaN                      None                  NaN   \n",
       "\n",
       "     in_reply_to_user_id_str in_reply_to_screen_name  \\\n",
       "785                     None                    None   \n",
       "2251                    None                    None   \n",
       "2108                    None                    None   \n",
       "400                     None                    None   \n",
       "497               4196983835               dog_rates   \n",
       "936                     None                    None   \n",
       "805                     None                    None   \n",
       "1931                    None                    None   \n",
       "\n",
       "                                                   user   geo coordinates  \\\n",
       "785   {'id': 4196983835, 'id_str': '4196983835', 'na...  None        None   \n",
       "2251  {'id': 4196983835, 'id_str': '4196983835', 'na...  None        None   \n",
       "2108  {'id': 4196983835, 'id_str': '4196983835', 'na...  None        None   \n",
       "400   {'id': 4196983835, 'id_str': '4196983835', 'na...  None        None   \n",
       "497   {'id': 4196983835, 'id_str': '4196983835', 'na...  None        None   \n",
       "936   {'id': 4196983835, 'id_str': '4196983835', 'na...  None        None   \n",
       "805   {'id': 4196983835, 'id_str': '4196983835', 'na...  None        None   \n",
       "1931  {'id': 4196983835, 'id_str': '4196983835', 'na...  None        None   \n",
       "\n",
       "     place contributors  is_quote_status  retweet_count  favorite_count  \\\n",
       "785   None         None            False           2035            9462   \n",
       "2251  None         None            False            358             736   \n",
       "2108  None         None            False           2153            7120   \n",
       "400   None         None            False           1993           11113   \n",
       "497   None         None            False            513            4968   \n",
       "936   None         None            False           1191            3758   \n",
       "805   None         None            False           1065            4448   \n",
       "1931  None         None            False            340            1208   \n",
       "\n",
       "      favorited  retweeted possibly_sensitive possibly_sensitive_appealable  \\\n",
       "785       False      False              False                         False   \n",
       "2251      False      False              False                         False   \n",
       "2108      False      False              False                         False   \n",
       "400       False      False              False                         False   \n",
       "497       False      False                NaN                           NaN   \n",
       "936       False      False              False                         False   \n",
       "805       False      False              False                         False   \n",
       "1931      False      False              False                         False   \n",
       "\n",
       "     lang retweeted_status  quoted_status_id quoted_status_id_str  \\\n",
       "785    en              NaN               NaN                  NaN   \n",
       "2251   en              NaN               NaN                  NaN   \n",
       "2108   en              NaN               NaN                  NaN   \n",
       "400    en              NaN               NaN                  NaN   \n",
       "497    en              NaN               NaN                  NaN   \n",
       "936    en              NaN               NaN                  NaN   \n",
       "805    en              NaN               NaN                  NaN   \n",
       "1931   en              NaN               NaN                  NaN   \n",
       "\n",
       "     quoted_status  \n",
       "785            NaN  \n",
       "2251           NaN  \n",
       "2108           NaN  \n",
       "400            NaN  \n",
       "497            NaN  \n",
       "936            NaN  \n",
       "805            NaN  \n",
       "1931           NaN  "
      ]
     },
     "execution_count": 9,
     "metadata": {},
     "output_type": "execute_result"
    }
   ],
   "source": [
    "pd.set_option('display.max_columns', None)\n",
    "df_3.sample(8)"
   ]
  },
  {
   "cell_type": "markdown",
   "metadata": {},
   "source": [
    "* At first glance it seems that in `df_1` and `df_3` there are columns with `NaN` values.\n",
    "* Also in `df_1` there are dogs without 'name' and 'dog stage' (doggo, floofer, pupper, puppo). Also, the columns for 'dog stage' have tidiness issues.\n",
    "* It can be verified that in `df_2` the algorithm works (it can identify a dog among others that do not)"
   ]
  },
  {
   "cell_type": "markdown",
   "metadata": {},
   "source": [
    "### Programmatic Assessment"
   ]
  },
  {
   "cell_type": "markdown",
   "metadata": {},
   "source": [
    "#### Data Frame 1: Twitter Archive Enhanced"
   ]
  },
  {
   "cell_type": "code",
   "execution_count": 10,
   "metadata": {
    "scrolled": true
   },
   "outputs": [
    {
     "name": "stdout",
     "output_type": "stream",
     "text": [
      "<class 'pandas.core.frame.DataFrame'>\n",
      "RangeIndex: 2356 entries, 0 to 2355\n",
      "Data columns (total 17 columns):\n",
      " #   Column                      Non-Null Count  Dtype  \n",
      "---  ------                      --------------  -----  \n",
      " 0   tweet_id                    2356 non-null   int64  \n",
      " 1   in_reply_to_status_id       78 non-null     float64\n",
      " 2   in_reply_to_user_id         78 non-null     float64\n",
      " 3   timestamp                   2356 non-null   object \n",
      " 4   source                      2356 non-null   object \n",
      " 5   text                        2356 non-null   object \n",
      " 6   retweeted_status_id         181 non-null    float64\n",
      " 7   retweeted_status_user_id    181 non-null    float64\n",
      " 8   retweeted_status_timestamp  181 non-null    object \n",
      " 9   expanded_urls               2297 non-null   object \n",
      " 10  rating_numerator            2356 non-null   int64  \n",
      " 11  rating_denominator          2356 non-null   int64  \n",
      " 12  name                        2356 non-null   object \n",
      " 13  doggo                       2356 non-null   object \n",
      " 14  floofer                     2356 non-null   object \n",
      " 15  pupper                      2356 non-null   object \n",
      " 16  puppo                       2356 non-null   object \n",
      "dtypes: float64(4), int64(3), object(10)\n",
      "memory usage: 313.0+ KB\n"
     ]
    }
   ],
   "source": [
    "# Number 1 tidiness issue: in 'stage of dog' columns (doggo, floofer, pupper, puppo)\n",
    "df_1.info()"
   ]
  },
  {
   "cell_type": "code",
   "execution_count": 11,
   "metadata": {},
   "outputs": [
    {
     "data": {
      "text/plain": [
       "0"
      ]
     },
     "execution_count": 11,
     "metadata": {},
     "output_type": "execute_result"
    }
   ],
   "source": [
    "sum(df_1.duplicated())"
   ]
  },
  {
   "cell_type": "code",
   "execution_count": 12,
   "metadata": {},
   "outputs": [
    {
     "data": {
      "text/plain": [
       "tweet_id                         0\n",
       "in_reply_to_status_id         2278\n",
       "in_reply_to_user_id           2278\n",
       "timestamp                        0\n",
       "source                           0\n",
       "text                             0\n",
       "retweeted_status_id           2175\n",
       "retweeted_status_user_id      2175\n",
       "retweeted_status_timestamp    2175\n",
       "expanded_urls                   59\n",
       "rating_numerator                 0\n",
       "rating_denominator               0\n",
       "name                             0\n",
       "doggo                            0\n",
       "floofer                          0\n",
       "pupper                           0\n",
       "puppo                            0\n",
       "dtype: int64"
      ]
     },
     "execution_count": 12,
     "metadata": {},
     "output_type": "execute_result"
    }
   ],
   "source": [
    "# Number 1 quality issue: NaN values\n",
    "df_1.isnull().sum()"
   ]
  },
  {
   "cell_type": "code",
   "execution_count": 13,
   "metadata": {
    "scrolled": true
   },
   "outputs": [
    {
     "data": {
      "text/html": [
       "<div>\n",
       "<style scoped>\n",
       "    .dataframe tbody tr th:only-of-type {\n",
       "        vertical-align: middle;\n",
       "    }\n",
       "\n",
       "    .dataframe tbody tr th {\n",
       "        vertical-align: top;\n",
       "    }\n",
       "\n",
       "    .dataframe thead th {\n",
       "        text-align: right;\n",
       "    }\n",
       "</style>\n",
       "<table border=\"1\" class=\"dataframe\">\n",
       "  <thead>\n",
       "    <tr style=\"text-align: right;\">\n",
       "      <th></th>\n",
       "      <th>rating_numerator</th>\n",
       "      <th>rating_denominator</th>\n",
       "    </tr>\n",
       "  </thead>\n",
       "  <tbody>\n",
       "    <tr>\n",
       "      <th>count</th>\n",
       "      <td>2356.000000</td>\n",
       "      <td>2356.000000</td>\n",
       "    </tr>\n",
       "    <tr>\n",
       "      <th>mean</th>\n",
       "      <td>13.126486</td>\n",
       "      <td>10.455433</td>\n",
       "    </tr>\n",
       "    <tr>\n",
       "      <th>std</th>\n",
       "      <td>45.876648</td>\n",
       "      <td>6.745237</td>\n",
       "    </tr>\n",
       "    <tr>\n",
       "      <th>min</th>\n",
       "      <td>0.000000</td>\n",
       "      <td>0.000000</td>\n",
       "    </tr>\n",
       "    <tr>\n",
       "      <th>25%</th>\n",
       "      <td>10.000000</td>\n",
       "      <td>10.000000</td>\n",
       "    </tr>\n",
       "    <tr>\n",
       "      <th>50%</th>\n",
       "      <td>11.000000</td>\n",
       "      <td>10.000000</td>\n",
       "    </tr>\n",
       "    <tr>\n",
       "      <th>75%</th>\n",
       "      <td>12.000000</td>\n",
       "      <td>10.000000</td>\n",
       "    </tr>\n",
       "    <tr>\n",
       "      <th>max</th>\n",
       "      <td>1776.000000</td>\n",
       "      <td>170.000000</td>\n",
       "    </tr>\n",
       "  </tbody>\n",
       "</table>\n",
       "</div>"
      ],
      "text/plain": [
       "       rating_numerator  rating_denominator\n",
       "count       2356.000000         2356.000000\n",
       "mean          13.126486           10.455433\n",
       "std           45.876648            6.745237\n",
       "min            0.000000            0.000000\n",
       "25%           10.000000           10.000000\n",
       "50%           11.000000           10.000000\n",
       "75%           12.000000           10.000000\n",
       "max         1776.000000          170.000000"
      ]
     },
     "execution_count": 13,
     "metadata": {},
     "output_type": "execute_result"
    }
   ],
   "source": [
    "df_1[['rating_numerator','rating_denominator']].describe()"
   ]
  },
  {
   "cell_type": "code",
   "execution_count": 14,
   "metadata": {
    "scrolled": true
   },
   "outputs": [
    {
     "data": {
      "text/plain": [
       "0         2\n",
       "1         9\n",
       "2         9\n",
       "3        19\n",
       "4        17\n",
       "5        37\n",
       "6        32\n",
       "7        55\n",
       "8       102\n",
       "9       158\n",
       "10      461\n",
       "11      464\n",
       "12      558\n",
       "13      351\n",
       "14       54\n",
       "15        2\n",
       "17        1\n",
       "20        1\n",
       "24        1\n",
       "26        1\n",
       "27        1\n",
       "44        1\n",
       "45        1\n",
       "50        1\n",
       "60        1\n",
       "75        2\n",
       "80        1\n",
       "84        1\n",
       "88        1\n",
       "99        1\n",
       "121       1\n",
       "143       1\n",
       "144       1\n",
       "165       1\n",
       "182       1\n",
       "204       1\n",
       "420       2\n",
       "666       1\n",
       "960       1\n",
       "1776      1\n",
       "Name: rating_numerator, dtype: int64"
      ]
     },
     "execution_count": 14,
     "metadata": {},
     "output_type": "execute_result"
    }
   ],
   "source": [
    "# Number 2 quality issue: numerator values out of range\n",
    "df_1.rating_numerator.value_counts().sort_index()"
   ]
  },
  {
   "cell_type": "code",
   "execution_count": 15,
   "metadata": {
    "scrolled": false
   },
   "outputs": [
    {
     "data": {
      "text/plain": [
       "0         1\n",
       "2         1\n",
       "7         1\n",
       "10     2333\n",
       "11        3\n",
       "15        1\n",
       "16        1\n",
       "20        2\n",
       "40        1\n",
       "50        3\n",
       "70        1\n",
       "80        2\n",
       "90        1\n",
       "110       1\n",
       "120       1\n",
       "130       1\n",
       "150       1\n",
       "170       1\n",
       "Name: rating_denominator, dtype: int64"
      ]
     },
     "execution_count": 15,
     "metadata": {},
     "output_type": "execute_result"
    }
   ],
   "source": [
    "# Number 3 quality issue: denominator values distinct from 10\n",
    "df_1.rating_denominator.value_counts().sort_index()"
   ]
  },
  {
   "cell_type": "code",
   "execution_count": 16,
   "metadata": {
    "scrolled": true
   },
   "outputs": [
    {
     "data": {
      "text/plain": [
       "None       745\n",
       "a           55\n",
       "Charlie     12\n",
       "Oliver      11\n",
       "Cooper      11\n",
       "          ... \n",
       "Reptar       1\n",
       "Blipson      1\n",
       "Dante        1\n",
       "Jonah        1\n",
       "Coopson      1\n",
       "Name: name, Length: 957, dtype: int64"
      ]
     },
     "execution_count": 16,
     "metadata": {},
     "output_type": "execute_result"
    }
   ],
   "source": [
    "# Number 4 quality issue: dogs without name or valid name ('a')\n",
    "df_1.name.value_counts()"
   ]
  },
  {
   "cell_type": "markdown",
   "metadata": {},
   "source": [
    "#### Data Frame 2: Image Predictions"
   ]
  },
  {
   "cell_type": "code",
   "execution_count": 17,
   "metadata": {},
   "outputs": [
    {
     "name": "stdout",
     "output_type": "stream",
     "text": [
      "<class 'pandas.core.frame.DataFrame'>\n",
      "RangeIndex: 2075 entries, 0 to 2074\n",
      "Data columns (total 12 columns):\n",
      " #   Column    Non-Null Count  Dtype  \n",
      "---  ------    --------------  -----  \n",
      " 0   tweet_id  2075 non-null   int64  \n",
      " 1   jpg_url   2075 non-null   object \n",
      " 2   img_num   2075 non-null   int64  \n",
      " 3   p1        2075 non-null   object \n",
      " 4   p1_conf   2075 non-null   float64\n",
      " 5   p1_dog    2075 non-null   bool   \n",
      " 6   p2        2075 non-null   object \n",
      " 7   p2_conf   2075 non-null   float64\n",
      " 8   p2_dog    2075 non-null   bool   \n",
      " 9   p3        2075 non-null   object \n",
      " 10  p3_conf   2075 non-null   float64\n",
      " 11  p3_dog    2075 non-null   bool   \n",
      "dtypes: bool(3), float64(3), int64(2), object(4)\n",
      "memory usage: 152.1+ KB\n"
     ]
    }
   ],
   "source": [
    "df_2.info()"
   ]
  },
  {
   "cell_type": "code",
   "execution_count": 18,
   "metadata": {},
   "outputs": [
    {
     "data": {
      "text/plain": [
       "0"
      ]
     },
     "execution_count": 18,
     "metadata": {},
     "output_type": "execute_result"
    }
   ],
   "source": [
    "# no duplicated rows\n",
    "sum(df_2.duplicated())"
   ]
  },
  {
   "cell_type": "code",
   "execution_count": 19,
   "metadata": {},
   "outputs": [
    {
     "data": {
      "text/plain": [
       "0"
      ]
     },
     "execution_count": 19,
     "metadata": {},
     "output_type": "execute_result"
    }
   ],
   "source": [
    "# no duplicated tweet id's\n",
    "sum(df_2.tweet_id.duplicated())"
   ]
  },
  {
   "cell_type": "code",
   "execution_count": 20,
   "metadata": {},
   "outputs": [
    {
     "data": {
      "text/plain": [
       "66"
      ]
     },
     "execution_count": 20,
     "metadata": {},
     "output_type": "execute_result"
    }
   ],
   "source": [
    "# Number 5 quality issue: duplicated 'jpg_url'\n",
    "sum(df_2.jpg_url.duplicated())"
   ]
  },
  {
   "cell_type": "code",
   "execution_count": 21,
   "metadata": {},
   "outputs": [
    {
     "data": {
      "text/plain": [
       "tweet_id    0\n",
       "jpg_url     0\n",
       "img_num     0\n",
       "p1          0\n",
       "p1_conf     0\n",
       "p1_dog      0\n",
       "p2          0\n",
       "p2_conf     0\n",
       "p2_dog      0\n",
       "p3          0\n",
       "p3_conf     0\n",
       "p3_dog      0\n",
       "dtype: int64"
      ]
     },
     "execution_count": 21,
     "metadata": {},
     "output_type": "execute_result"
    }
   ],
   "source": [
    "# no NaN values\n",
    "df_2.isnull().sum()"
   ]
  },
  {
   "cell_type": "code",
   "execution_count": 22,
   "metadata": {
    "scrolled": true
   },
   "outputs": [
    {
     "data": {
      "text/plain": [
       "True     1532\n",
       "False     543\n",
       "Name: p1_dog, dtype: int64"
      ]
     },
     "execution_count": 22,
     "metadata": {},
     "output_type": "execute_result"
    }
   ],
   "source": [
    "# Number 6 quality issue: sometimes there are animals or objects that are not dogs\n",
    "# false indicates this is not a dog\n",
    "df_2.p1_dog.value_counts()"
   ]
  },
  {
   "cell_type": "code",
   "execution_count": 23,
   "metadata": {
    "scrolled": true
   },
   "outputs": [
    {
     "data": {
      "text/plain": [
       "p1_dog  p2_dog  p3_dog\n",
       "False   False   False      324\n",
       "                True        64\n",
       "        True    False       54\n",
       "                True       101\n",
       "True    False   False       43\n",
       "                True        91\n",
       "        True    False      155\n",
       "                True      1243\n",
       "Name: p1_dog, dtype: int64"
      ]
     },
     "execution_count": 23,
     "metadata": {},
     "output_type": "execute_result"
    }
   ],
   "source": [
    "# Number 6 quality issue: sometimes there are animals or objects that are not dogs\n",
    "df_2.groupby(['p1_dog','p2_dog','p3_dog'])['p1_dog'].count()"
   ]
  },
  {
   "cell_type": "code",
   "execution_count": 24,
   "metadata": {
    "scrolled": true
   },
   "outputs": [
    {
     "data": {
      "text/html": [
       "<div>\n",
       "<style scoped>\n",
       "    .dataframe tbody tr th:only-of-type {\n",
       "        vertical-align: middle;\n",
       "    }\n",
       "\n",
       "    .dataframe tbody tr th {\n",
       "        vertical-align: top;\n",
       "    }\n",
       "\n",
       "    .dataframe thead th {\n",
       "        text-align: right;\n",
       "    }\n",
       "</style>\n",
       "<table border=\"1\" class=\"dataframe\">\n",
       "  <thead>\n",
       "    <tr style=\"text-align: right;\">\n",
       "      <th></th>\n",
       "      <th>p1_conf</th>\n",
       "      <th>p2_conf</th>\n",
       "      <th>p3_conf</th>\n",
       "    </tr>\n",
       "  </thead>\n",
       "  <tbody>\n",
       "    <tr>\n",
       "      <th>count</th>\n",
       "      <td>2075.000000</td>\n",
       "      <td>2.075000e+03</td>\n",
       "      <td>2.075000e+03</td>\n",
       "    </tr>\n",
       "    <tr>\n",
       "      <th>mean</th>\n",
       "      <td>0.594548</td>\n",
       "      <td>1.345886e-01</td>\n",
       "      <td>6.032417e-02</td>\n",
       "    </tr>\n",
       "    <tr>\n",
       "      <th>std</th>\n",
       "      <td>0.271174</td>\n",
       "      <td>1.006657e-01</td>\n",
       "      <td>5.090593e-02</td>\n",
       "    </tr>\n",
       "    <tr>\n",
       "      <th>min</th>\n",
       "      <td>0.044333</td>\n",
       "      <td>1.011300e-08</td>\n",
       "      <td>1.740170e-10</td>\n",
       "    </tr>\n",
       "    <tr>\n",
       "      <th>25%</th>\n",
       "      <td>0.364412</td>\n",
       "      <td>5.388625e-02</td>\n",
       "      <td>1.622240e-02</td>\n",
       "    </tr>\n",
       "    <tr>\n",
       "      <th>50%</th>\n",
       "      <td>0.588230</td>\n",
       "      <td>1.181810e-01</td>\n",
       "      <td>4.944380e-02</td>\n",
       "    </tr>\n",
       "    <tr>\n",
       "      <th>75%</th>\n",
       "      <td>0.843855</td>\n",
       "      <td>1.955655e-01</td>\n",
       "      <td>9.180755e-02</td>\n",
       "    </tr>\n",
       "    <tr>\n",
       "      <th>max</th>\n",
       "      <td>1.000000</td>\n",
       "      <td>4.880140e-01</td>\n",
       "      <td>2.734190e-01</td>\n",
       "    </tr>\n",
       "  </tbody>\n",
       "</table>\n",
       "</div>"
      ],
      "text/plain": [
       "           p1_conf       p2_conf       p3_conf\n",
       "count  2075.000000  2.075000e+03  2.075000e+03\n",
       "mean      0.594548  1.345886e-01  6.032417e-02\n",
       "std       0.271174  1.006657e-01  5.090593e-02\n",
       "min       0.044333  1.011300e-08  1.740170e-10\n",
       "25%       0.364412  5.388625e-02  1.622240e-02\n",
       "50%       0.588230  1.181810e-01  4.944380e-02\n",
       "75%       0.843855  1.955655e-01  9.180755e-02\n",
       "max       1.000000  4.880140e-01  2.734190e-01"
      ]
     },
     "execution_count": 24,
     "metadata": {},
     "output_type": "execute_result"
    }
   ],
   "source": [
    "df_2[['p1_conf','p2_conf','p3_conf']].describe()"
   ]
  },
  {
   "cell_type": "code",
   "execution_count": 25,
   "metadata": {},
   "outputs": [
    {
     "data": {
      "text/plain": [
       "golden_retriever      150\n",
       "Labrador_retriever    100\n",
       "Pembroke               89\n",
       "Chihuahua              83\n",
       "pug                    57\n",
       "                     ... \n",
       "nail                    1\n",
       "envelope                1\n",
       "bookshop                1\n",
       "rapeseed                1\n",
       "dhole                   1\n",
       "Name: p1, Length: 378, dtype: int64"
      ]
     },
     "execution_count": 25,
     "metadata": {},
     "output_type": "execute_result"
    }
   ],
   "source": [
    "# Number 7 quality issue: lower and upper case\n",
    "df_2.p1.value_counts()"
   ]
  },
  {
   "cell_type": "code",
   "execution_count": 26,
   "metadata": {},
   "outputs": [
    {
     "data": {
      "text/plain": [
       "Labrador_retriever    104\n",
       "golden_retriever       92\n",
       "Cardigan               73\n",
       "Chihuahua              44\n",
       "Pomeranian             42\n",
       "                     ... \n",
       "hotdog                  1\n",
       "dining_table            1\n",
       "screw                   1\n",
       "Gila_monster            1\n",
       "giant_panda             1\n",
       "Name: p2, Length: 405, dtype: int64"
      ]
     },
     "execution_count": 26,
     "metadata": {},
     "output_type": "execute_result"
    }
   ],
   "source": [
    "# Number 7 quality issue: lower and upper case\n",
    "df_2.p2.value_counts()"
   ]
  },
  {
   "cell_type": "code",
   "execution_count": 27,
   "metadata": {},
   "outputs": [
    {
     "data": {
      "text/plain": [
       "Labrador_retriever    79\n",
       "Chihuahua             58\n",
       "golden_retriever      48\n",
       "Eskimo_dog            38\n",
       "kelpie                35\n",
       "                      ..\n",
       "ibex                   1\n",
       "standard_schnauzer     1\n",
       "Kerry_blue_terrier     1\n",
       "desktop_computer       1\n",
       "rhinoceros_beetle      1\n",
       "Name: p3, Length: 408, dtype: int64"
      ]
     },
     "execution_count": 27,
     "metadata": {},
     "output_type": "execute_result"
    }
   ],
   "source": [
    "# Number 7 quality issue: lower and upper case\n",
    "df_2.p3.value_counts()"
   ]
  },
  {
   "cell_type": "markdown",
   "metadata": {},
   "source": [
    "#### Data Frame 3: Twitter API"
   ]
  },
  {
   "cell_type": "code",
   "execution_count": 28,
   "metadata": {},
   "outputs": [
    {
     "name": "stdout",
     "output_type": "stream",
     "text": [
      "<class 'pandas.core.frame.DataFrame'>\n",
      "RangeIndex: 2354 entries, 0 to 2353\n",
      "Data columns (total 31 columns):\n",
      " #   Column                         Non-Null Count  Dtype  \n",
      "---  ------                         --------------  -----  \n",
      " 0   created_at                     2354 non-null   object \n",
      " 1   id                             2354 non-null   int64  \n",
      " 2   id_str                         2354 non-null   object \n",
      " 3   full_text                      2354 non-null   object \n",
      " 4   truncated                      2354 non-null   bool   \n",
      " 5   display_text_range             2354 non-null   object \n",
      " 6   entities                       2354 non-null   object \n",
      " 7   extended_entities              2073 non-null   object \n",
      " 8   source                         2354 non-null   object \n",
      " 9   in_reply_to_status_id          78 non-null     float64\n",
      " 10  in_reply_to_status_id_str      78 non-null     object \n",
      " 11  in_reply_to_user_id            78 non-null     float64\n",
      " 12  in_reply_to_user_id_str        78 non-null     object \n",
      " 13  in_reply_to_screen_name        78 non-null     object \n",
      " 14  user                           2354 non-null   object \n",
      " 15  geo                            0 non-null      object \n",
      " 16  coordinates                    0 non-null      object \n",
      " 17  place                          1 non-null      object \n",
      " 18  contributors                   0 non-null      object \n",
      " 19  is_quote_status                2354 non-null   bool   \n",
      " 20  retweet_count                  2354 non-null   int64  \n",
      " 21  favorite_count                 2354 non-null   int64  \n",
      " 22  favorited                      2354 non-null   bool   \n",
      " 23  retweeted                      2354 non-null   bool   \n",
      " 24  possibly_sensitive             2211 non-null   object \n",
      " 25  possibly_sensitive_appealable  2211 non-null   object \n",
      " 26  lang                           2354 non-null   object \n",
      " 27  retweeted_status               179 non-null    object \n",
      " 28  quoted_status_id               29 non-null     float64\n",
      " 29  quoted_status_id_str           29 non-null     object \n",
      " 30  quoted_status                  28 non-null     object \n",
      "dtypes: bool(4), float64(3), int64(3), object(21)\n",
      "memory usage: 505.9+ KB\n"
     ]
    }
   ],
   "source": [
    "# Number 8 quality issue: 'retweeted_status'\n",
    "df_3.info()"
   ]
  },
  {
   "cell_type": "code",
   "execution_count": 29,
   "metadata": {},
   "outputs": [
    {
     "data": {
      "text/plain": [
       "0"
      ]
     },
     "execution_count": 29,
     "metadata": {},
     "output_type": "execute_result"
    }
   ],
   "source": [
    "# no duplicated tweet id's\n",
    "sum(df_3.id.duplicated())"
   ]
  },
  {
   "cell_type": "code",
   "execution_count": 30,
   "metadata": {
    "scrolled": true
   },
   "outputs": [
    {
     "data": {
      "text/plain": [
       "created_at                          0\n",
       "id                                  0\n",
       "id_str                              0\n",
       "full_text                           0\n",
       "truncated                           0\n",
       "display_text_range                  0\n",
       "entities                            0\n",
       "extended_entities                 281\n",
       "source                              0\n",
       "in_reply_to_status_id            2276\n",
       "in_reply_to_status_id_str        2276\n",
       "in_reply_to_user_id              2276\n",
       "in_reply_to_user_id_str          2276\n",
       "in_reply_to_screen_name          2276\n",
       "user                                0\n",
       "geo                              2354\n",
       "coordinates                      2354\n",
       "place                            2353\n",
       "contributors                     2354\n",
       "is_quote_status                     0\n",
       "retweet_count                       0\n",
       "favorite_count                      0\n",
       "favorited                           0\n",
       "retweeted                           0\n",
       "possibly_sensitive                143\n",
       "possibly_sensitive_appealable     143\n",
       "lang                                0\n",
       "retweeted_status                 2175\n",
       "quoted_status_id                 2325\n",
       "quoted_status_id_str             2325\n",
       "quoted_status                    2326\n",
       "dtype: int64"
      ]
     },
     "execution_count": 30,
     "metadata": {},
     "output_type": "execute_result"
    }
   ],
   "source": [
    "# Number 9 quality issue: NaN values\n",
    "df_3.isnull().sum()"
   ]
  },
  {
   "cell_type": "code",
   "execution_count": 31,
   "metadata": {},
   "outputs": [
    {
     "data": {
      "text/html": [
       "<div>\n",
       "<style scoped>\n",
       "    .dataframe tbody tr th:only-of-type {\n",
       "        vertical-align: middle;\n",
       "    }\n",
       "\n",
       "    .dataframe tbody tr th {\n",
       "        vertical-align: top;\n",
       "    }\n",
       "\n",
       "    .dataframe thead th {\n",
       "        text-align: right;\n",
       "    }\n",
       "</style>\n",
       "<table border=\"1\" class=\"dataframe\">\n",
       "  <thead>\n",
       "    <tr style=\"text-align: right;\">\n",
       "      <th></th>\n",
       "      <th>retweet_count</th>\n",
       "      <th>favorite_count</th>\n",
       "    </tr>\n",
       "  </thead>\n",
       "  <tbody>\n",
       "    <tr>\n",
       "      <th>count</th>\n",
       "      <td>2354.000000</td>\n",
       "      <td>2354.000000</td>\n",
       "    </tr>\n",
       "    <tr>\n",
       "      <th>mean</th>\n",
       "      <td>3164.797366</td>\n",
       "      <td>8080.968564</td>\n",
       "    </tr>\n",
       "    <tr>\n",
       "      <th>std</th>\n",
       "      <td>5284.770364</td>\n",
       "      <td>11814.771334</td>\n",
       "    </tr>\n",
       "    <tr>\n",
       "      <th>min</th>\n",
       "      <td>0.000000</td>\n",
       "      <td>0.000000</td>\n",
       "    </tr>\n",
       "    <tr>\n",
       "      <th>25%</th>\n",
       "      <td>624.500000</td>\n",
       "      <td>1415.000000</td>\n",
       "    </tr>\n",
       "    <tr>\n",
       "      <th>50%</th>\n",
       "      <td>1473.500000</td>\n",
       "      <td>3603.500000</td>\n",
       "    </tr>\n",
       "    <tr>\n",
       "      <th>75%</th>\n",
       "      <td>3652.000000</td>\n",
       "      <td>10122.250000</td>\n",
       "    </tr>\n",
       "    <tr>\n",
       "      <th>max</th>\n",
       "      <td>79515.000000</td>\n",
       "      <td>132810.000000</td>\n",
       "    </tr>\n",
       "  </tbody>\n",
       "</table>\n",
       "</div>"
      ],
      "text/plain": [
       "       retweet_count  favorite_count\n",
       "count    2354.000000     2354.000000\n",
       "mean     3164.797366     8080.968564\n",
       "std      5284.770364    11814.771334\n",
       "min         0.000000        0.000000\n",
       "25%       624.500000     1415.000000\n",
       "50%      1473.500000     3603.500000\n",
       "75%      3652.000000    10122.250000\n",
       "max     79515.000000   132810.000000"
      ]
     },
     "execution_count": 31,
     "metadata": {},
     "output_type": "execute_result"
    }
   ],
   "source": [
    "df_3[['retweet_count','favorite_count']].describe()"
   ]
  },
  {
   "cell_type": "markdown",
   "metadata": {},
   "source": [
    "### Data Quality Issues"
   ]
  },
  {
   "cell_type": "markdown",
   "metadata": {},
   "source": [
    "1. Presence on `NaN` values in `df_1` in columns: `in_reply_to_status_id`, `in_reply_to_user_id`, `retweeted_status_id`, `retweeted_status_user_id`, `retweeted_status_timestamp`, and presence of columns that do not have value for the case study, such as `timestamp`, `source` and `expanded_urls`.\n",
    "2. High numerator values in `df_1`.\n",
    "3. Denominator values distinct from 10 in `df_1`.\n",
    "4. There are dogs without name or valid name in `df_1`.\n",
    "5. Duplicated values for column 'jpg_url' in `df_2`.\n",
    "6. Sometimes there are animals or objects that are not dogs in `df_2`.\n",
    "7. Lowercase and uppercase mix in breed of dogs columns in `df_2`(columns `p1`, `p2`, `p3`).\n",
    "8. Presence of rows with retweets, replies and quoted status in `df_3`.\n",
    "9. Columns without relevant information do not add value in `df_3` (mainly related to reply and quoted status)."
   ]
  },
  {
   "cell_type": "markdown",
   "metadata": {},
   "source": [
    "### Tidiness Issues"
   ]
  },
  {
   "cell_type": "markdown",
   "metadata": {},
   "source": [
    "10. 'Stage of dog' columns (`doggo`, `floofer`, `pupper`, `puppo`), must be one variable in `df_1`.\n",
    "11. In `df_1` `rating_numerator` and `rating_denominator` must be one variable named `rating`\n",
    "12. Join `df_2` and `df_3` to `df_1`"
   ]
  },
  {
   "cell_type": "markdown",
   "metadata": {},
   "source": [
    "## 3rd Step: Cleaning Data"
   ]
  },
  {
   "cell_type": "markdown",
   "metadata": {},
   "source": [
    "Copies of the original pieces of data are made prior to cleaning:"
   ]
  },
  {
   "cell_type": "code",
   "execution_count": 32,
   "metadata": {},
   "outputs": [],
   "source": [
    "df_1_clean=df_1.copy()\n",
    "df_2_clean=df_2.copy()\n",
    "df_3_clean=df_3.copy()"
   ]
  },
  {
   "cell_type": "markdown",
   "metadata": {},
   "source": [
    "### Data Quality Issues"
   ]
  },
  {
   "cell_type": "markdown",
   "metadata": {},
   "source": [
    "#### Define: 1) Presence on `NaN` values in `df_1` in columns: `in_reply_to_status_id`, `in_reply_to_user_id`, `retweeted_status_id`, `retweeted_status_user_id`, `retweeted_status_timestamp`, and presence of columns that do not have value for the case study, such as `timestamp`, `source` and `expanded_urls`"
   ]
  },
  {
   "cell_type": "markdown",
   "metadata": {},
   "source": [
    "##### Code"
   ]
  },
  {
   "cell_type": "code",
   "execution_count": 33,
   "metadata": {},
   "outputs": [
    {
     "data": {
      "text/plain": [
       "(181, 17)"
      ]
     },
     "metadata": {},
     "output_type": "display_data"
    },
    {
     "data": {
      "text/plain": [
       "(78, 17)"
      ]
     },
     "metadata": {},
     "output_type": "display_data"
    }
   ],
   "source": [
    "# DROP VALUES THAT ARE NOT AN ORIGINAL TWEET.\n",
    "\n",
    "# Drop rows with values distincts to NaN in columns 'retweeted_status_id', 'retweeted_status_user_id' \n",
    "# and 'retweeted_status_timestamp'. That means this is a retweet so must be removed.\n",
    "\n",
    "# Drop rows with values distincts to NaN in columns 'in_reply_to_status_id' and 'in_reply_to_user_id'.\n",
    "# That means this is a reply so must be erased.\n",
    "\n",
    "# First validate that the values we want to drop are correct.\n",
    "display(df_1_clean[df_1_clean.retweeted_status_id.notnull()].shape)\n",
    "display(df_1_clean[df_1_clean.in_reply_to_status_id.notnull()].shape)\n",
    "\n",
    "# The lenght of the non null values are the same for the three columns related with 'retweeted status',\n",
    "# so we proceed dropping this rows\n",
    "df_1_clean.drop(df_1_clean[df_1_clean.retweeted_status_id.notnull()].index, inplace=True)\n",
    "\n",
    "# The lenght of the non null values are the same for the three columns related with 'in reply to',\n",
    "# so we proceed dropping this rows\n",
    "df_1_clean.drop(df_1_clean[df_1_clean.in_reply_to_status_id.notnull()].index, inplace=True)\n",
    "\n",
    "\n",
    "# DROP NAN VALUES AND COLUMNS WITHOUT VALUE FOR THE CASE STUDY.\n",
    "\n",
    "# Now drop the columns with NaN's that have no value for us, and also the columns we will not use.\n",
    "df_1_clean = df_1_clean.drop([\n",
    "                              'in_reply_to_status_id', \n",
    "                              'in_reply_to_user_id', \n",
    "                              'retweeted_status_id', \n",
    "                              'retweeted_status_user_id', \n",
    "                              'retweeted_status_timestamp',\n",
    "                              'timestamp',\n",
    "                              'source',\n",
    "                              'expanded_urls'\n",
    "                             ], axis=1)"
   ]
  },
  {
   "cell_type": "markdown",
   "metadata": {},
   "source": [
    "##### Test"
   ]
  },
  {
   "cell_type": "code",
   "execution_count": 34,
   "metadata": {},
   "outputs": [
    {
     "data": {
      "text/plain": [
       "(2097, 9)"
      ]
     },
     "metadata": {},
     "output_type": "display_data"
    },
    {
     "data": {
      "text/html": [
       "<div>\n",
       "<style scoped>\n",
       "    .dataframe tbody tr th:only-of-type {\n",
       "        vertical-align: middle;\n",
       "    }\n",
       "\n",
       "    .dataframe tbody tr th {\n",
       "        vertical-align: top;\n",
       "    }\n",
       "\n",
       "    .dataframe thead th {\n",
       "        text-align: right;\n",
       "    }\n",
       "</style>\n",
       "<table border=\"1\" class=\"dataframe\">\n",
       "  <thead>\n",
       "    <tr style=\"text-align: right;\">\n",
       "      <th></th>\n",
       "      <th>tweet_id</th>\n",
       "      <th>text</th>\n",
       "      <th>rating_numerator</th>\n",
       "      <th>rating_denominator</th>\n",
       "      <th>name</th>\n",
       "      <th>doggo</th>\n",
       "      <th>floofer</th>\n",
       "      <th>pupper</th>\n",
       "      <th>puppo</th>\n",
       "    </tr>\n",
       "  </thead>\n",
       "  <tbody>\n",
       "    <tr>\n",
       "      <th>1607</th>\n",
       "      <td>685663452032069632</td>\n",
       "      <td>Meet Brooks. He's confused by the almighty bal...</td>\n",
       "      <td>12</td>\n",
       "      <td>10</td>\n",
       "      <td>Brooks</td>\n",
       "      <td>None</td>\n",
       "      <td>None</td>\n",
       "      <td>None</td>\n",
       "      <td>None</td>\n",
       "    </tr>\n",
       "    <tr>\n",
       "      <th>1707</th>\n",
       "      <td>680801747103793152</td>\n",
       "      <td>Great picture here. Dog on the right panicked ...</td>\n",
       "      <td>10</td>\n",
       "      <td>10</td>\n",
       "      <td>None</td>\n",
       "      <td>None</td>\n",
       "      <td>None</td>\n",
       "      <td>None</td>\n",
       "      <td>None</td>\n",
       "    </tr>\n",
       "    <tr>\n",
       "      <th>825</th>\n",
       "      <td>769695466921623552</td>\n",
       "      <td>This is Titan. He's trying to make friends. Of...</td>\n",
       "      <td>13</td>\n",
       "      <td>10</td>\n",
       "      <td>Titan</td>\n",
       "      <td>None</td>\n",
       "      <td>None</td>\n",
       "      <td>None</td>\n",
       "      <td>None</td>\n",
       "    </tr>\n",
       "    <tr>\n",
       "      <th>223</th>\n",
       "      <td>849412302885593088</td>\n",
       "      <td>This is Noosh. He noticed you were in the show...</td>\n",
       "      <td>12</td>\n",
       "      <td>10</td>\n",
       "      <td>Noosh</td>\n",
       "      <td>None</td>\n",
       "      <td>None</td>\n",
       "      <td>None</td>\n",
       "      <td>None</td>\n",
       "    </tr>\n",
       "    <tr>\n",
       "      <th>874</th>\n",
       "      <td>761292947749015552</td>\n",
       "      <td>Meet Bonaparte. He's pupset because it's cloud...</td>\n",
       "      <td>11</td>\n",
       "      <td>10</td>\n",
       "      <td>Bonaparte</td>\n",
       "      <td>None</td>\n",
       "      <td>None</td>\n",
       "      <td>None</td>\n",
       "      <td>None</td>\n",
       "    </tr>\n",
       "  </tbody>\n",
       "</table>\n",
       "</div>"
      ],
      "text/plain": [
       "                tweet_id                                               text  \\\n",
       "1607  685663452032069632  Meet Brooks. He's confused by the almighty bal...   \n",
       "1707  680801747103793152  Great picture here. Dog on the right panicked ...   \n",
       "825   769695466921623552  This is Titan. He's trying to make friends. Of...   \n",
       "223   849412302885593088  This is Noosh. He noticed you were in the show...   \n",
       "874   761292947749015552  Meet Bonaparte. He's pupset because it's cloud...   \n",
       "\n",
       "      rating_numerator  rating_denominator       name doggo floofer pupper  \\\n",
       "1607                12                  10     Brooks  None    None   None   \n",
       "1707                10                  10       None  None    None   None   \n",
       "825                 13                  10      Titan  None    None   None   \n",
       "223                 12                  10      Noosh  None    None   None   \n",
       "874                 11                  10  Bonaparte  None    None   None   \n",
       "\n",
       "     puppo  \n",
       "1607  None  \n",
       "1707  None  \n",
       "825   None  \n",
       "223   None  \n",
       "874   None  "
      ]
     },
     "metadata": {},
     "output_type": "display_data"
    },
    {
     "name": "stdout",
     "output_type": "stream",
     "text": [
      "<class 'pandas.core.frame.DataFrame'>\n",
      "Int64Index: 2097 entries, 0 to 2355\n",
      "Data columns (total 9 columns):\n",
      " #   Column              Non-Null Count  Dtype \n",
      "---  ------              --------------  ----- \n",
      " 0   tweet_id            2097 non-null   int64 \n",
      " 1   text                2097 non-null   object\n",
      " 2   rating_numerator    2097 non-null   int64 \n",
      " 3   rating_denominator  2097 non-null   int64 \n",
      " 4   name                2097 non-null   object\n",
      " 5   doggo               2097 non-null   object\n",
      " 6   floofer             2097 non-null   object\n",
      " 7   pupper              2097 non-null   object\n",
      " 8   puppo               2097 non-null   object\n",
      "dtypes: int64(3), object(6)\n",
      "memory usage: 163.8+ KB\n"
     ]
    },
    {
     "data": {
      "text/plain": [
       "None"
      ]
     },
     "metadata": {},
     "output_type": "display_data"
    }
   ],
   "source": [
    "display(df_1_clean.shape)\n",
    "display(df_1_clean.sample(5))\n",
    "display(df_1_clean.info())"
   ]
  },
  {
   "cell_type": "markdown",
   "metadata": {},
   "source": [
    "#### Define: 2) Denominator values distinct from 10 in `df_1`."
   ]
  },
  {
   "cell_type": "markdown",
   "metadata": {},
   "source": [
    "##### Code"
   ]
  },
  {
   "cell_type": "code",
   "execution_count": 35,
   "metadata": {},
   "outputs": [
    {
     "data": {
      "text/plain": [
       "(17, 9)"
      ]
     },
     "metadata": {},
     "output_type": "display_data"
    },
    {
     "data": {
      "text/html": [
       "<div>\n",
       "<style scoped>\n",
       "    .dataframe tbody tr th:only-of-type {\n",
       "        vertical-align: middle;\n",
       "    }\n",
       "\n",
       "    .dataframe tbody tr th {\n",
       "        vertical-align: top;\n",
       "    }\n",
       "\n",
       "    .dataframe thead th {\n",
       "        text-align: right;\n",
       "    }\n",
       "</style>\n",
       "<table border=\"1\" class=\"dataframe\">\n",
       "  <thead>\n",
       "    <tr style=\"text-align: right;\">\n",
       "      <th></th>\n",
       "      <th>tweet_id</th>\n",
       "      <th>text</th>\n",
       "      <th>rating_numerator</th>\n",
       "      <th>rating_denominator</th>\n",
       "    </tr>\n",
       "  </thead>\n",
       "  <tbody>\n",
       "    <tr>\n",
       "      <th>433</th>\n",
       "      <td>820690176645140481</td>\n",
       "      <td>The floofs have been released I repeat the floofs have been released. 84/70 https://t.co/NIYC820tmd</td>\n",
       "      <td>84</td>\n",
       "      <td>70</td>\n",
       "    </tr>\n",
       "    <tr>\n",
       "      <th>516</th>\n",
       "      <td>810984652412424192</td>\n",
       "      <td>Meet Sam. She smiles 24/7 &amp;amp; secretly aspires to be a reindeer. \\nKeep Sam smiling by clicking and sharing this link:\\nhttps://t.co/98tB8y7y7t https://t.co/LouL5vdvxx</td>\n",
       "      <td>24</td>\n",
       "      <td>7</td>\n",
       "    </tr>\n",
       "    <tr>\n",
       "      <th>902</th>\n",
       "      <td>758467244762497024</td>\n",
       "      <td>Why does this never happen at my front door... 165/150 https://t.co/HmwrdfEfUE</td>\n",
       "      <td>165</td>\n",
       "      <td>150</td>\n",
       "    </tr>\n",
       "    <tr>\n",
       "      <th>1068</th>\n",
       "      <td>740373189193256964</td>\n",
       "      <td>After so many requests, this is Bretagne. She was the last surviving 9/11 search dog, and our second ever 14/10. RIP https://t.co/XAVDNDaVgQ</td>\n",
       "      <td>9</td>\n",
       "      <td>11</td>\n",
       "    </tr>\n",
       "    <tr>\n",
       "      <th>1120</th>\n",
       "      <td>731156023742988288</td>\n",
       "      <td>Say hello to this unbelievably well behaved squad of doggos. 204/170 would try to pet all at once https://t.co/yGQI3He3xv</td>\n",
       "      <td>204</td>\n",
       "      <td>170</td>\n",
       "    </tr>\n",
       "    <tr>\n",
       "      <th>1165</th>\n",
       "      <td>722974582966214656</td>\n",
       "      <td>Happy 4/20 from the squad! 13/10 for all https://t.co/eV1diwds8a</td>\n",
       "      <td>4</td>\n",
       "      <td>20</td>\n",
       "    </tr>\n",
       "    <tr>\n",
       "      <th>1202</th>\n",
       "      <td>716439118184652801</td>\n",
       "      <td>This is Bluebert. He just saw that both #FinalFur match ups are split 50/50. Amazed af. 11/10 https://t.co/Kky1DPG4iq</td>\n",
       "      <td>50</td>\n",
       "      <td>50</td>\n",
       "    </tr>\n",
       "    <tr>\n",
       "      <th>1228</th>\n",
       "      <td>713900603437621249</td>\n",
       "      <td>Happy Saturday here's 9 puppers on a bench. 99/90 good work everybody https://t.co/mpvaVxKmc1</td>\n",
       "      <td>99</td>\n",
       "      <td>90</td>\n",
       "    </tr>\n",
       "    <tr>\n",
       "      <th>1254</th>\n",
       "      <td>710658690886586372</td>\n",
       "      <td>Here's a brigade of puppers. All look very prepared for whatever happens next. 80/80 https://t.co/0eb7R1Om12</td>\n",
       "      <td>80</td>\n",
       "      <td>80</td>\n",
       "    </tr>\n",
       "    <tr>\n",
       "      <th>1274</th>\n",
       "      <td>709198395643068416</td>\n",
       "      <td>From left to right:\\nCletus, Jerome, Alejandro, Burp, &amp;amp; Titson\\nNone know where camera is. 45/50 would hug all at once https://t.co/sedre1ivTK</td>\n",
       "      <td>45</td>\n",
       "      <td>50</td>\n",
       "    </tr>\n",
       "    <tr>\n",
       "      <th>1351</th>\n",
       "      <td>704054845121142784</td>\n",
       "      <td>Here is a whole flock of puppers.  60/50 I'll take the lot https://t.co/9dpcw6MdWa</td>\n",
       "      <td>60</td>\n",
       "      <td>50</td>\n",
       "    </tr>\n",
       "    <tr>\n",
       "      <th>1433</th>\n",
       "      <td>697463031882764288</td>\n",
       "      <td>Happy Wednesday here's a bucket of pups. 44/40 would pet all at once https://t.co/HppvrYuamZ</td>\n",
       "      <td>44</td>\n",
       "      <td>40</td>\n",
       "    </tr>\n",
       "    <tr>\n",
       "      <th>1635</th>\n",
       "      <td>684222868335505415</td>\n",
       "      <td>Someone help the girl is being mugged. Several are distracting her while two steal her shoes. Clever puppers 121/110 https://t.co/1zfnTJLt55</td>\n",
       "      <td>121</td>\n",
       "      <td>110</td>\n",
       "    </tr>\n",
       "    <tr>\n",
       "      <th>1662</th>\n",
       "      <td>682962037429899265</td>\n",
       "      <td>This is Darrel. He just robbed a 7/11 and is in a high speed police chase. Was just spotted by the helicopter 10/10 https://t.co/7EsP8LmSp5</td>\n",
       "      <td>7</td>\n",
       "      <td>11</td>\n",
       "    </tr>\n",
       "    <tr>\n",
       "      <th>1779</th>\n",
       "      <td>677716515794329600</td>\n",
       "      <td>IT'S PUPPERGEDDON. Total of 144/120 ...I think https://t.co/ZanVtAtvIq</td>\n",
       "      <td>144</td>\n",
       "      <td>120</td>\n",
       "    </tr>\n",
       "    <tr>\n",
       "      <th>1843</th>\n",
       "      <td>675853064436391936</td>\n",
       "      <td>Here we have an entire platoon of puppers. Total score: 88/80 would pet all at once https://t.co/y93p6FLvVw</td>\n",
       "      <td>88</td>\n",
       "      <td>80</td>\n",
       "    </tr>\n",
       "    <tr>\n",
       "      <th>2335</th>\n",
       "      <td>666287406224695296</td>\n",
       "      <td>This is an Albanian 3 1/2 legged  Episcopalian. Loves well-polished hardwood flooring. Penis on the collar. 9/10 https://t.co/d9NcXFKwLv</td>\n",
       "      <td>1</td>\n",
       "      <td>2</td>\n",
       "    </tr>\n",
       "  </tbody>\n",
       "</table>\n",
       "</div>"
      ],
      "text/plain": [
       "                tweet_id  \\\n",
       "433   820690176645140481   \n",
       "516   810984652412424192   \n",
       "902   758467244762497024   \n",
       "1068  740373189193256964   \n",
       "1120  731156023742988288   \n",
       "1165  722974582966214656   \n",
       "1202  716439118184652801   \n",
       "1228  713900603437621249   \n",
       "1254  710658690886586372   \n",
       "1274  709198395643068416   \n",
       "1351  704054845121142784   \n",
       "1433  697463031882764288   \n",
       "1635  684222868335505415   \n",
       "1662  682962037429899265   \n",
       "1779  677716515794329600   \n",
       "1843  675853064436391936   \n",
       "2335  666287406224695296   \n",
       "\n",
       "                                                                                                                                                                           text  \\\n",
       "433                                                                         The floofs have been released I repeat the floofs have been released. 84/70 https://t.co/NIYC820tmd   \n",
       "516   Meet Sam. She smiles 24/7 &amp; secretly aspires to be a reindeer. \\nKeep Sam smiling by clicking and sharing this link:\\nhttps://t.co/98tB8y7y7t https://t.co/LouL5vdvxx   \n",
       "902                                                                                              Why does this never happen at my front door... 165/150 https://t.co/HmwrdfEfUE   \n",
       "1068                               After so many requests, this is Bretagne. She was the last surviving 9/11 search dog, and our second ever 14/10. RIP https://t.co/XAVDNDaVgQ   \n",
       "1120                                                  Say hello to this unbelievably well behaved squad of doggos. 204/170 would try to pet all at once https://t.co/yGQI3He3xv   \n",
       "1165                                                                                                           Happy 4/20 from the squad! 13/10 for all https://t.co/eV1diwds8a   \n",
       "1202                                                      This is Bluebert. He just saw that both #FinalFur match ups are split 50/50. Amazed af. 11/10 https://t.co/Kky1DPG4iq   \n",
       "1228                                                                              Happy Saturday here's 9 puppers on a bench. 99/90 good work everybody https://t.co/mpvaVxKmc1   \n",
       "1254                                                               Here's a brigade of puppers. All look very prepared for whatever happens next. 80/80 https://t.co/0eb7R1Om12   \n",
       "1274                         From left to right:\\nCletus, Jerome, Alejandro, Burp, &amp; Titson\\nNone know where camera is. 45/50 would hug all at once https://t.co/sedre1ivTK   \n",
       "1351                                                                                         Here is a whole flock of puppers.  60/50 I'll take the lot https://t.co/9dpcw6MdWa   \n",
       "1433                                                                               Happy Wednesday here's a bucket of pups. 44/40 would pet all at once https://t.co/HppvrYuamZ   \n",
       "1635                               Someone help the girl is being mugged. Several are distracting her while two steal her shoes. Clever puppers 121/110 https://t.co/1zfnTJLt55   \n",
       "1662                                This is Darrel. He just robbed a 7/11 and is in a high speed police chase. Was just spotted by the helicopter 10/10 https://t.co/7EsP8LmSp5   \n",
       "1779                                                                                                     IT'S PUPPERGEDDON. Total of 144/120 ...I think https://t.co/ZanVtAtvIq   \n",
       "1843                                                                Here we have an entire platoon of puppers. Total score: 88/80 would pet all at once https://t.co/y93p6FLvVw   \n",
       "2335                                   This is an Albanian 3 1/2 legged  Episcopalian. Loves well-polished hardwood flooring. Penis on the collar. 9/10 https://t.co/d9NcXFKwLv   \n",
       "\n",
       "      rating_numerator  rating_denominator  \n",
       "433                 84                  70  \n",
       "516                 24                   7  \n",
       "902                165                 150  \n",
       "1068                 9                  11  \n",
       "1120               204                 170  \n",
       "1165                 4                  20  \n",
       "1202                50                  50  \n",
       "1228                99                  90  \n",
       "1254                80                  80  \n",
       "1274                45                  50  \n",
       "1351                60                  50  \n",
       "1433                44                  40  \n",
       "1635               121                 110  \n",
       "1662                 7                  11  \n",
       "1779               144                 120  \n",
       "1843                88                  80  \n",
       "2335                 1                   2  "
      ]
     },
     "metadata": {},
     "output_type": "display_data"
    }
   ],
   "source": [
    "# Visualize denominator values distinct from 10\n",
    "pd.set_option('display.max_colwidth', None)\n",
    "df_1_denominator = df_1_clean[df_1_clean['rating_denominator'] != 10]\n",
    "display(df_1_denominator.shape)\n",
    "display(df_1_denominator[['tweet_id', 'text', 'rating_numerator', 'rating_denominator']])"
   ]
  },
  {
   "cell_type": "code",
   "execution_count": 36,
   "metadata": {
    "scrolled": true
   },
   "outputs": [],
   "source": [
    "# Manually correct rating numerators and denominators that have been misassigned\n",
    "rows_to_update = [1068, 1165, 1202, 1662, 2335]\n",
    "cols_to_update = ['rating_numerator', 'rating_denominator']\n",
    "values = [[14,10], [13,10], [11,10], [10,10], [9,10]]\n",
    "df_1_clean.loc[rows_to_update, cols_to_update] = values"
   ]
  },
  {
   "cell_type": "markdown",
   "metadata": {},
   "source": [
    "##### Test"
   ]
  },
  {
   "cell_type": "code",
   "execution_count": 37,
   "metadata": {},
   "outputs": [
    {
     "data": {
      "text/html": [
       "<div>\n",
       "<style scoped>\n",
       "    .dataframe tbody tr th:only-of-type {\n",
       "        vertical-align: middle;\n",
       "    }\n",
       "\n",
       "    .dataframe tbody tr th {\n",
       "        vertical-align: top;\n",
       "    }\n",
       "\n",
       "    .dataframe thead th {\n",
       "        text-align: right;\n",
       "    }\n",
       "</style>\n",
       "<table border=\"1\" class=\"dataframe\">\n",
       "  <thead>\n",
       "    <tr style=\"text-align: right;\">\n",
       "      <th></th>\n",
       "      <th>tweet_id</th>\n",
       "      <th>text</th>\n",
       "      <th>rating_numerator</th>\n",
       "      <th>rating_denominator</th>\n",
       "    </tr>\n",
       "  </thead>\n",
       "  <tbody>\n",
       "    <tr>\n",
       "      <th>433</th>\n",
       "      <td>820690176645140481</td>\n",
       "      <td>The floofs have been released I repeat the floofs have been released. 84/70 https://t.co/NIYC820tmd</td>\n",
       "      <td>84</td>\n",
       "      <td>70</td>\n",
       "    </tr>\n",
       "    <tr>\n",
       "      <th>516</th>\n",
       "      <td>810984652412424192</td>\n",
       "      <td>Meet Sam. She smiles 24/7 &amp;amp; secretly aspires to be a reindeer. \\nKeep Sam smiling by clicking and sharing this link:\\nhttps://t.co/98tB8y7y7t https://t.co/LouL5vdvxx</td>\n",
       "      <td>24</td>\n",
       "      <td>7</td>\n",
       "    </tr>\n",
       "    <tr>\n",
       "      <th>902</th>\n",
       "      <td>758467244762497024</td>\n",
       "      <td>Why does this never happen at my front door... 165/150 https://t.co/HmwrdfEfUE</td>\n",
       "      <td>165</td>\n",
       "      <td>150</td>\n",
       "    </tr>\n",
       "    <tr>\n",
       "      <th>1120</th>\n",
       "      <td>731156023742988288</td>\n",
       "      <td>Say hello to this unbelievably well behaved squad of doggos. 204/170 would try to pet all at once https://t.co/yGQI3He3xv</td>\n",
       "      <td>204</td>\n",
       "      <td>170</td>\n",
       "    </tr>\n",
       "    <tr>\n",
       "      <th>1228</th>\n",
       "      <td>713900603437621249</td>\n",
       "      <td>Happy Saturday here's 9 puppers on a bench. 99/90 good work everybody https://t.co/mpvaVxKmc1</td>\n",
       "      <td>99</td>\n",
       "      <td>90</td>\n",
       "    </tr>\n",
       "    <tr>\n",
       "      <th>1254</th>\n",
       "      <td>710658690886586372</td>\n",
       "      <td>Here's a brigade of puppers. All look very prepared for whatever happens next. 80/80 https://t.co/0eb7R1Om12</td>\n",
       "      <td>80</td>\n",
       "      <td>80</td>\n",
       "    </tr>\n",
       "    <tr>\n",
       "      <th>1274</th>\n",
       "      <td>709198395643068416</td>\n",
       "      <td>From left to right:\\nCletus, Jerome, Alejandro, Burp, &amp;amp; Titson\\nNone know where camera is. 45/50 would hug all at once https://t.co/sedre1ivTK</td>\n",
       "      <td>45</td>\n",
       "      <td>50</td>\n",
       "    </tr>\n",
       "    <tr>\n",
       "      <th>1351</th>\n",
       "      <td>704054845121142784</td>\n",
       "      <td>Here is a whole flock of puppers.  60/50 I'll take the lot https://t.co/9dpcw6MdWa</td>\n",
       "      <td>60</td>\n",
       "      <td>50</td>\n",
       "    </tr>\n",
       "    <tr>\n",
       "      <th>1433</th>\n",
       "      <td>697463031882764288</td>\n",
       "      <td>Happy Wednesday here's a bucket of pups. 44/40 would pet all at once https://t.co/HppvrYuamZ</td>\n",
       "      <td>44</td>\n",
       "      <td>40</td>\n",
       "    </tr>\n",
       "    <tr>\n",
       "      <th>1635</th>\n",
       "      <td>684222868335505415</td>\n",
       "      <td>Someone help the girl is being mugged. Several are distracting her while two steal her shoes. Clever puppers 121/110 https://t.co/1zfnTJLt55</td>\n",
       "      <td>121</td>\n",
       "      <td>110</td>\n",
       "    </tr>\n",
       "    <tr>\n",
       "      <th>1779</th>\n",
       "      <td>677716515794329600</td>\n",
       "      <td>IT'S PUPPERGEDDON. Total of 144/120 ...I think https://t.co/ZanVtAtvIq</td>\n",
       "      <td>144</td>\n",
       "      <td>120</td>\n",
       "    </tr>\n",
       "    <tr>\n",
       "      <th>1843</th>\n",
       "      <td>675853064436391936</td>\n",
       "      <td>Here we have an entire platoon of puppers. Total score: 88/80 would pet all at once https://t.co/y93p6FLvVw</td>\n",
       "      <td>88</td>\n",
       "      <td>80</td>\n",
       "    </tr>\n",
       "  </tbody>\n",
       "</table>\n",
       "</div>"
      ],
      "text/plain": [
       "                tweet_id  \\\n",
       "433   820690176645140481   \n",
       "516   810984652412424192   \n",
       "902   758467244762497024   \n",
       "1120  731156023742988288   \n",
       "1228  713900603437621249   \n",
       "1254  710658690886586372   \n",
       "1274  709198395643068416   \n",
       "1351  704054845121142784   \n",
       "1433  697463031882764288   \n",
       "1635  684222868335505415   \n",
       "1779  677716515794329600   \n",
       "1843  675853064436391936   \n",
       "\n",
       "                                                                                                                                                                           text  \\\n",
       "433                                                                         The floofs have been released I repeat the floofs have been released. 84/70 https://t.co/NIYC820tmd   \n",
       "516   Meet Sam. She smiles 24/7 &amp; secretly aspires to be a reindeer. \\nKeep Sam smiling by clicking and sharing this link:\\nhttps://t.co/98tB8y7y7t https://t.co/LouL5vdvxx   \n",
       "902                                                                                              Why does this never happen at my front door... 165/150 https://t.co/HmwrdfEfUE   \n",
       "1120                                                  Say hello to this unbelievably well behaved squad of doggos. 204/170 would try to pet all at once https://t.co/yGQI3He3xv   \n",
       "1228                                                                              Happy Saturday here's 9 puppers on a bench. 99/90 good work everybody https://t.co/mpvaVxKmc1   \n",
       "1254                                                               Here's a brigade of puppers. All look very prepared for whatever happens next. 80/80 https://t.co/0eb7R1Om12   \n",
       "1274                         From left to right:\\nCletus, Jerome, Alejandro, Burp, &amp; Titson\\nNone know where camera is. 45/50 would hug all at once https://t.co/sedre1ivTK   \n",
       "1351                                                                                         Here is a whole flock of puppers.  60/50 I'll take the lot https://t.co/9dpcw6MdWa   \n",
       "1433                                                                               Happy Wednesday here's a bucket of pups. 44/40 would pet all at once https://t.co/HppvrYuamZ   \n",
       "1635                               Someone help the girl is being mugged. Several are distracting her while two steal her shoes. Clever puppers 121/110 https://t.co/1zfnTJLt55   \n",
       "1779                                                                                                     IT'S PUPPERGEDDON. Total of 144/120 ...I think https://t.co/ZanVtAtvIq   \n",
       "1843                                                                Here we have an entire platoon of puppers. Total score: 88/80 would pet all at once https://t.co/y93p6FLvVw   \n",
       "\n",
       "      rating_numerator  rating_denominator  \n",
       "433                 84                  70  \n",
       "516                 24                   7  \n",
       "902                165                 150  \n",
       "1120               204                 170  \n",
       "1228                99                  90  \n",
       "1254                80                  80  \n",
       "1274                45                  50  \n",
       "1351                60                  50  \n",
       "1433                44                  40  \n",
       "1635               121                 110  \n",
       "1779               144                 120  \n",
       "1843                88                  80  "
      ]
     },
     "metadata": {},
     "output_type": "display_data"
    },
    {
     "data": {
      "text/plain": [
       "(12, 9)"
      ]
     },
     "metadata": {},
     "output_type": "display_data"
    }
   ],
   "source": [
    "# Check those ratings manually corrected\n",
    "df_1_denominator = df_1_clean[df_1_clean['rating_denominator'] != 10]\n",
    "display(df_1_denominator[['tweet_id', 'text', 'rating_numerator', 'rating_denominator']])\n",
    "display(df_1_denominator.shape)"
   ]
  },
  {
   "cell_type": "markdown",
   "metadata": {},
   "source": [
    "#### Define: 3) High numerator values in `df_1`."
   ]
  },
  {
   "cell_type": "markdown",
   "metadata": {},
   "source": [
    "##### Code"
   ]
  },
  {
   "cell_type": "code",
   "execution_count": 38,
   "metadata": {
    "scrolled": true
   },
   "outputs": [
    {
     "data": {
      "text/plain": [
       "(17, 9)"
      ]
     },
     "metadata": {},
     "output_type": "display_data"
    },
    {
     "data": {
      "text/html": [
       "<div>\n",
       "<style scoped>\n",
       "    .dataframe tbody tr th:only-of-type {\n",
       "        vertical-align: middle;\n",
       "    }\n",
       "\n",
       "    .dataframe tbody tr th {\n",
       "        vertical-align: top;\n",
       "    }\n",
       "\n",
       "    .dataframe thead th {\n",
       "        text-align: right;\n",
       "    }\n",
       "</style>\n",
       "<table border=\"1\" class=\"dataframe\">\n",
       "  <thead>\n",
       "    <tr style=\"text-align: right;\">\n",
       "      <th></th>\n",
       "      <th>tweet_id</th>\n",
       "      <th>text</th>\n",
       "      <th>rating_numerator</th>\n",
       "    </tr>\n",
       "  </thead>\n",
       "  <tbody>\n",
       "    <tr>\n",
       "      <th>433</th>\n",
       "      <td>820690176645140481</td>\n",
       "      <td>The floofs have been released I repeat the floofs have been released. 84/70 https://t.co/NIYC820tmd</td>\n",
       "      <td>84</td>\n",
       "    </tr>\n",
       "    <tr>\n",
       "      <th>516</th>\n",
       "      <td>810984652412424192</td>\n",
       "      <td>Meet Sam. She smiles 24/7 &amp;amp; secretly aspires to be a reindeer. \\nKeep Sam smiling by clicking and sharing this link:\\nhttps://t.co/98tB8y7y7t https://t.co/LouL5vdvxx</td>\n",
       "      <td>24</td>\n",
       "    </tr>\n",
       "    <tr>\n",
       "      <th>695</th>\n",
       "      <td>786709082849828864</td>\n",
       "      <td>This is Logan, the Chow who lived. He solemnly swears he's up to lots of good. H*ckin magical af 9.75/10 https://t.co/yBO5wuqaPS</td>\n",
       "      <td>75</td>\n",
       "    </tr>\n",
       "    <tr>\n",
       "      <th>763</th>\n",
       "      <td>778027034220126208</td>\n",
       "      <td>This is Sophie. She's a Jubilant Bush Pupper. Super h*ckin rare. Appears at random just to smile at the locals. 11.27/10 would smile back https://t.co/QFaUiIHxHq</td>\n",
       "      <td>27</td>\n",
       "    </tr>\n",
       "    <tr>\n",
       "      <th>902</th>\n",
       "      <td>758467244762497024</td>\n",
       "      <td>Why does this never happen at my front door... 165/150 https://t.co/HmwrdfEfUE</td>\n",
       "      <td>165</td>\n",
       "    </tr>\n",
       "    <tr>\n",
       "      <th>979</th>\n",
       "      <td>749981277374128128</td>\n",
       "      <td>This is Atticus. He's quite simply America af. 1776/10 https://t.co/GRXwMxLBkh</td>\n",
       "      <td>1776</td>\n",
       "    </tr>\n",
       "    <tr>\n",
       "      <th>1120</th>\n",
       "      <td>731156023742988288</td>\n",
       "      <td>Say hello to this unbelievably well behaved squad of doggos. 204/170 would try to pet all at once https://t.co/yGQI3He3xv</td>\n",
       "      <td>204</td>\n",
       "    </tr>\n",
       "    <tr>\n",
       "      <th>1228</th>\n",
       "      <td>713900603437621249</td>\n",
       "      <td>Happy Saturday here's 9 puppers on a bench. 99/90 good work everybody https://t.co/mpvaVxKmc1</td>\n",
       "      <td>99</td>\n",
       "    </tr>\n",
       "    <tr>\n",
       "      <th>1254</th>\n",
       "      <td>710658690886586372</td>\n",
       "      <td>Here's a brigade of puppers. All look very prepared for whatever happens next. 80/80 https://t.co/0eb7R1Om12</td>\n",
       "      <td>80</td>\n",
       "    </tr>\n",
       "    <tr>\n",
       "      <th>1274</th>\n",
       "      <td>709198395643068416</td>\n",
       "      <td>From left to right:\\nCletus, Jerome, Alejandro, Burp, &amp;amp; Titson\\nNone know where camera is. 45/50 would hug all at once https://t.co/sedre1ivTK</td>\n",
       "      <td>45</td>\n",
       "    </tr>\n",
       "    <tr>\n",
       "      <th>1351</th>\n",
       "      <td>704054845121142784</td>\n",
       "      <td>Here is a whole flock of puppers.  60/50 I'll take the lot https://t.co/9dpcw6MdWa</td>\n",
       "      <td>60</td>\n",
       "    </tr>\n",
       "    <tr>\n",
       "      <th>1433</th>\n",
       "      <td>697463031882764288</td>\n",
       "      <td>Happy Wednesday here's a bucket of pups. 44/40 would pet all at once https://t.co/HppvrYuamZ</td>\n",
       "      <td>44</td>\n",
       "    </tr>\n",
       "    <tr>\n",
       "      <th>1635</th>\n",
       "      <td>684222868335505415</td>\n",
       "      <td>Someone help the girl is being mugged. Several are distracting her while two steal her shoes. Clever puppers 121/110 https://t.co/1zfnTJLt55</td>\n",
       "      <td>121</td>\n",
       "    </tr>\n",
       "    <tr>\n",
       "      <th>1712</th>\n",
       "      <td>680494726643068929</td>\n",
       "      <td>Here we have uncovered an entire battalion of holiday puppers. Average of 11.26/10 https://t.co/eNm2S6p9BD</td>\n",
       "      <td>26</td>\n",
       "    </tr>\n",
       "    <tr>\n",
       "      <th>1779</th>\n",
       "      <td>677716515794329600</td>\n",
       "      <td>IT'S PUPPERGEDDON. Total of 144/120 ...I think https://t.co/ZanVtAtvIq</td>\n",
       "      <td>144</td>\n",
       "    </tr>\n",
       "    <tr>\n",
       "      <th>1843</th>\n",
       "      <td>675853064436391936</td>\n",
       "      <td>Here we have an entire platoon of puppers. Total score: 88/80 would pet all at once https://t.co/y93p6FLvVw</td>\n",
       "      <td>88</td>\n",
       "    </tr>\n",
       "    <tr>\n",
       "      <th>2074</th>\n",
       "      <td>670842764863651840</td>\n",
       "      <td>After so many requests... here you go.\\n\\nGood dogg. 420/10 https://t.co/yfAAo1gdeY</td>\n",
       "      <td>420</td>\n",
       "    </tr>\n",
       "  </tbody>\n",
       "</table>\n",
       "</div>"
      ],
      "text/plain": [
       "                tweet_id  \\\n",
       "433   820690176645140481   \n",
       "516   810984652412424192   \n",
       "695   786709082849828864   \n",
       "763   778027034220126208   \n",
       "902   758467244762497024   \n",
       "979   749981277374128128   \n",
       "1120  731156023742988288   \n",
       "1228  713900603437621249   \n",
       "1254  710658690886586372   \n",
       "1274  709198395643068416   \n",
       "1351  704054845121142784   \n",
       "1433  697463031882764288   \n",
       "1635  684222868335505415   \n",
       "1712  680494726643068929   \n",
       "1779  677716515794329600   \n",
       "1843  675853064436391936   \n",
       "2074  670842764863651840   \n",
       "\n",
       "                                                                                                                                                                           text  \\\n",
       "433                                                                         The floofs have been released I repeat the floofs have been released. 84/70 https://t.co/NIYC820tmd   \n",
       "516   Meet Sam. She smiles 24/7 &amp; secretly aspires to be a reindeer. \\nKeep Sam smiling by clicking and sharing this link:\\nhttps://t.co/98tB8y7y7t https://t.co/LouL5vdvxx   \n",
       "695                                            This is Logan, the Chow who lived. He solemnly swears he's up to lots of good. H*ckin magical af 9.75/10 https://t.co/yBO5wuqaPS   \n",
       "763           This is Sophie. She's a Jubilant Bush Pupper. Super h*ckin rare. Appears at random just to smile at the locals. 11.27/10 would smile back https://t.co/QFaUiIHxHq   \n",
       "902                                                                                              Why does this never happen at my front door... 165/150 https://t.co/HmwrdfEfUE   \n",
       "979                                                                                              This is Atticus. He's quite simply America af. 1776/10 https://t.co/GRXwMxLBkh   \n",
       "1120                                                  Say hello to this unbelievably well behaved squad of doggos. 204/170 would try to pet all at once https://t.co/yGQI3He3xv   \n",
       "1228                                                                              Happy Saturday here's 9 puppers on a bench. 99/90 good work everybody https://t.co/mpvaVxKmc1   \n",
       "1254                                                               Here's a brigade of puppers. All look very prepared for whatever happens next. 80/80 https://t.co/0eb7R1Om12   \n",
       "1274                         From left to right:\\nCletus, Jerome, Alejandro, Burp, &amp; Titson\\nNone know where camera is. 45/50 would hug all at once https://t.co/sedre1ivTK   \n",
       "1351                                                                                         Here is a whole flock of puppers.  60/50 I'll take the lot https://t.co/9dpcw6MdWa   \n",
       "1433                                                                               Happy Wednesday here's a bucket of pups. 44/40 would pet all at once https://t.co/HppvrYuamZ   \n",
       "1635                               Someone help the girl is being mugged. Several are distracting her while two steal her shoes. Clever puppers 121/110 https://t.co/1zfnTJLt55   \n",
       "1712                                                                 Here we have uncovered an entire battalion of holiday puppers. Average of 11.26/10 https://t.co/eNm2S6p9BD   \n",
       "1779                                                                                                     IT'S PUPPERGEDDON. Total of 144/120 ...I think https://t.co/ZanVtAtvIq   \n",
       "1843                                                                Here we have an entire platoon of puppers. Total score: 88/80 would pet all at once https://t.co/y93p6FLvVw   \n",
       "2074                                                                                        After so many requests... here you go.\\n\\nGood dogg. 420/10 https://t.co/yfAAo1gdeY   \n",
       "\n",
       "      rating_numerator  \n",
       "433                 84  \n",
       "516                 24  \n",
       "695                 75  \n",
       "763                 27  \n",
       "902                165  \n",
       "979               1776  \n",
       "1120               204  \n",
       "1228                99  \n",
       "1254                80  \n",
       "1274                45  \n",
       "1351                60  \n",
       "1433                44  \n",
       "1635               121  \n",
       "1712                26  \n",
       "1779               144  \n",
       "1843                88  \n",
       "2074               420  "
      ]
     },
     "metadata": {},
     "output_type": "display_data"
    }
   ],
   "source": [
    "# Visualize numerator values greater than 20\n",
    "df_1_numerator = df_1_clean[df_1_clean['rating_numerator'] >= 20]\n",
    "display(df_1_numerator.shape)\n",
    "display(df_1_numerator[['tweet_id', 'text', 'rating_numerator']])"
   ]
  },
  {
   "cell_type": "code",
   "execution_count": 39,
   "metadata": {},
   "outputs": [],
   "source": [
    "# Manually correct rating numerators that have been misassigned\n",
    "rows_to_update = [695, 763, 1712]\n",
    "cols_to_update = ['rating_numerator']\n",
    "# Round values to the most proximate integer\n",
    "values = [10, 11, 11]\n",
    "df_1_clean.loc[rows_to_update, cols_to_update] = values"
   ]
  },
  {
   "cell_type": "markdown",
   "metadata": {},
   "source": [
    "##### Test"
   ]
  },
  {
   "cell_type": "code",
   "execution_count": 40,
   "metadata": {},
   "outputs": [
    {
     "data": {
      "text/plain": [
       "(14, 9)"
      ]
     },
     "metadata": {},
     "output_type": "display_data"
    },
    {
     "data": {
      "text/html": [
       "<div>\n",
       "<style scoped>\n",
       "    .dataframe tbody tr th:only-of-type {\n",
       "        vertical-align: middle;\n",
       "    }\n",
       "\n",
       "    .dataframe tbody tr th {\n",
       "        vertical-align: top;\n",
       "    }\n",
       "\n",
       "    .dataframe thead th {\n",
       "        text-align: right;\n",
       "    }\n",
       "</style>\n",
       "<table border=\"1\" class=\"dataframe\">\n",
       "  <thead>\n",
       "    <tr style=\"text-align: right;\">\n",
       "      <th></th>\n",
       "      <th>tweet_id</th>\n",
       "      <th>text</th>\n",
       "      <th>rating_numerator</th>\n",
       "    </tr>\n",
       "  </thead>\n",
       "  <tbody>\n",
       "    <tr>\n",
       "      <th>433</th>\n",
       "      <td>820690176645140481</td>\n",
       "      <td>The floofs have been released I repeat the floofs have been released. 84/70 https://t.co/NIYC820tmd</td>\n",
       "      <td>84</td>\n",
       "    </tr>\n",
       "    <tr>\n",
       "      <th>516</th>\n",
       "      <td>810984652412424192</td>\n",
       "      <td>Meet Sam. She smiles 24/7 &amp;amp; secretly aspires to be a reindeer. \\nKeep Sam smiling by clicking and sharing this link:\\nhttps://t.co/98tB8y7y7t https://t.co/LouL5vdvxx</td>\n",
       "      <td>24</td>\n",
       "    </tr>\n",
       "    <tr>\n",
       "      <th>902</th>\n",
       "      <td>758467244762497024</td>\n",
       "      <td>Why does this never happen at my front door... 165/150 https://t.co/HmwrdfEfUE</td>\n",
       "      <td>165</td>\n",
       "    </tr>\n",
       "    <tr>\n",
       "      <th>979</th>\n",
       "      <td>749981277374128128</td>\n",
       "      <td>This is Atticus. He's quite simply America af. 1776/10 https://t.co/GRXwMxLBkh</td>\n",
       "      <td>1776</td>\n",
       "    </tr>\n",
       "    <tr>\n",
       "      <th>1120</th>\n",
       "      <td>731156023742988288</td>\n",
       "      <td>Say hello to this unbelievably well behaved squad of doggos. 204/170 would try to pet all at once https://t.co/yGQI3He3xv</td>\n",
       "      <td>204</td>\n",
       "    </tr>\n",
       "    <tr>\n",
       "      <th>1228</th>\n",
       "      <td>713900603437621249</td>\n",
       "      <td>Happy Saturday here's 9 puppers on a bench. 99/90 good work everybody https://t.co/mpvaVxKmc1</td>\n",
       "      <td>99</td>\n",
       "    </tr>\n",
       "    <tr>\n",
       "      <th>1254</th>\n",
       "      <td>710658690886586372</td>\n",
       "      <td>Here's a brigade of puppers. All look very prepared for whatever happens next. 80/80 https://t.co/0eb7R1Om12</td>\n",
       "      <td>80</td>\n",
       "    </tr>\n",
       "    <tr>\n",
       "      <th>1274</th>\n",
       "      <td>709198395643068416</td>\n",
       "      <td>From left to right:\\nCletus, Jerome, Alejandro, Burp, &amp;amp; Titson\\nNone know where camera is. 45/50 would hug all at once https://t.co/sedre1ivTK</td>\n",
       "      <td>45</td>\n",
       "    </tr>\n",
       "    <tr>\n",
       "      <th>1351</th>\n",
       "      <td>704054845121142784</td>\n",
       "      <td>Here is a whole flock of puppers.  60/50 I'll take the lot https://t.co/9dpcw6MdWa</td>\n",
       "      <td>60</td>\n",
       "    </tr>\n",
       "    <tr>\n",
       "      <th>1433</th>\n",
       "      <td>697463031882764288</td>\n",
       "      <td>Happy Wednesday here's a bucket of pups. 44/40 would pet all at once https://t.co/HppvrYuamZ</td>\n",
       "      <td>44</td>\n",
       "    </tr>\n",
       "    <tr>\n",
       "      <th>1635</th>\n",
       "      <td>684222868335505415</td>\n",
       "      <td>Someone help the girl is being mugged. Several are distracting her while two steal her shoes. Clever puppers 121/110 https://t.co/1zfnTJLt55</td>\n",
       "      <td>121</td>\n",
       "    </tr>\n",
       "    <tr>\n",
       "      <th>1779</th>\n",
       "      <td>677716515794329600</td>\n",
       "      <td>IT'S PUPPERGEDDON. Total of 144/120 ...I think https://t.co/ZanVtAtvIq</td>\n",
       "      <td>144</td>\n",
       "    </tr>\n",
       "    <tr>\n",
       "      <th>1843</th>\n",
       "      <td>675853064436391936</td>\n",
       "      <td>Here we have an entire platoon of puppers. Total score: 88/80 would pet all at once https://t.co/y93p6FLvVw</td>\n",
       "      <td>88</td>\n",
       "    </tr>\n",
       "    <tr>\n",
       "      <th>2074</th>\n",
       "      <td>670842764863651840</td>\n",
       "      <td>After so many requests... here you go.\\n\\nGood dogg. 420/10 https://t.co/yfAAo1gdeY</td>\n",
       "      <td>420</td>\n",
       "    </tr>\n",
       "  </tbody>\n",
       "</table>\n",
       "</div>"
      ],
      "text/plain": [
       "                tweet_id  \\\n",
       "433   820690176645140481   \n",
       "516   810984652412424192   \n",
       "902   758467244762497024   \n",
       "979   749981277374128128   \n",
       "1120  731156023742988288   \n",
       "1228  713900603437621249   \n",
       "1254  710658690886586372   \n",
       "1274  709198395643068416   \n",
       "1351  704054845121142784   \n",
       "1433  697463031882764288   \n",
       "1635  684222868335505415   \n",
       "1779  677716515794329600   \n",
       "1843  675853064436391936   \n",
       "2074  670842764863651840   \n",
       "\n",
       "                                                                                                                                                                           text  \\\n",
       "433                                                                         The floofs have been released I repeat the floofs have been released. 84/70 https://t.co/NIYC820tmd   \n",
       "516   Meet Sam. She smiles 24/7 &amp; secretly aspires to be a reindeer. \\nKeep Sam smiling by clicking and sharing this link:\\nhttps://t.co/98tB8y7y7t https://t.co/LouL5vdvxx   \n",
       "902                                                                                              Why does this never happen at my front door... 165/150 https://t.co/HmwrdfEfUE   \n",
       "979                                                                                              This is Atticus. He's quite simply America af. 1776/10 https://t.co/GRXwMxLBkh   \n",
       "1120                                                  Say hello to this unbelievably well behaved squad of doggos. 204/170 would try to pet all at once https://t.co/yGQI3He3xv   \n",
       "1228                                                                              Happy Saturday here's 9 puppers on a bench. 99/90 good work everybody https://t.co/mpvaVxKmc1   \n",
       "1254                                                               Here's a brigade of puppers. All look very prepared for whatever happens next. 80/80 https://t.co/0eb7R1Om12   \n",
       "1274                         From left to right:\\nCletus, Jerome, Alejandro, Burp, &amp; Titson\\nNone know where camera is. 45/50 would hug all at once https://t.co/sedre1ivTK   \n",
       "1351                                                                                         Here is a whole flock of puppers.  60/50 I'll take the lot https://t.co/9dpcw6MdWa   \n",
       "1433                                                                               Happy Wednesday here's a bucket of pups. 44/40 would pet all at once https://t.co/HppvrYuamZ   \n",
       "1635                               Someone help the girl is being mugged. Several are distracting her while two steal her shoes. Clever puppers 121/110 https://t.co/1zfnTJLt55   \n",
       "1779                                                                                                     IT'S PUPPERGEDDON. Total of 144/120 ...I think https://t.co/ZanVtAtvIq   \n",
       "1843                                                                Here we have an entire platoon of puppers. Total score: 88/80 would pet all at once https://t.co/y93p6FLvVw   \n",
       "2074                                                                                        After so many requests... here you go.\\n\\nGood dogg. 420/10 https://t.co/yfAAo1gdeY   \n",
       "\n",
       "      rating_numerator  \n",
       "433                 84  \n",
       "516                 24  \n",
       "902                165  \n",
       "979               1776  \n",
       "1120               204  \n",
       "1228                99  \n",
       "1254                80  \n",
       "1274                45  \n",
       "1351                60  \n",
       "1433                44  \n",
       "1635               121  \n",
       "1779               144  \n",
       "1843                88  \n",
       "2074               420  "
      ]
     },
     "metadata": {},
     "output_type": "display_data"
    }
   ],
   "source": [
    "# Check those ratings manually corrected\n",
    "df_1_numerator = df_1_clean[df_1_clean['rating_numerator'] >= 20]\n",
    "display(df_1_numerator.shape)\n",
    "display(df_1_numerator[['tweet_id', 'text', 'rating_numerator']])"
   ]
  },
  {
   "cell_type": "markdown",
   "metadata": {},
   "source": [
    "#### Define: 4) There are dogs without name or valid name in `df_1`."
   ]
  },
  {
   "cell_type": "markdown",
   "metadata": {},
   "source": [
    "##### Code"
   ]
  },
  {
   "cell_type": "code",
   "execution_count": 41,
   "metadata": {},
   "outputs": [],
   "source": [
    "# In 'name' column, names that are not capitalized have wrong values, so must be converted to 'None'\n",
    "df_1_clean.loc[df_1_clean.name.str.islower(),'name']='None'\n",
    "\n",
    "# In 'name' column replace 'None' with NaN values\n",
    "df_1_clean.name=df_1_clean.name.replace('None',np.nan)"
   ]
  },
  {
   "cell_type": "markdown",
   "metadata": {},
   "source": [
    "##### Test"
   ]
  },
  {
   "cell_type": "code",
   "execution_count": 42,
   "metadata": {},
   "outputs": [
    {
     "data": {
      "text/html": [
       "<div>\n",
       "<style scoped>\n",
       "    .dataframe tbody tr th:only-of-type {\n",
       "        vertical-align: middle;\n",
       "    }\n",
       "\n",
       "    .dataframe tbody tr th {\n",
       "        vertical-align: top;\n",
       "    }\n",
       "\n",
       "    .dataframe thead th {\n",
       "        text-align: right;\n",
       "    }\n",
       "</style>\n",
       "<table border=\"1\" class=\"dataframe\">\n",
       "  <thead>\n",
       "    <tr style=\"text-align: right;\">\n",
       "      <th></th>\n",
       "      <th>tweet_id</th>\n",
       "      <th>text</th>\n",
       "      <th>rating_numerator</th>\n",
       "      <th>rating_denominator</th>\n",
       "      <th>name</th>\n",
       "      <th>doggo</th>\n",
       "      <th>floofer</th>\n",
       "      <th>pupper</th>\n",
       "      <th>puppo</th>\n",
       "    </tr>\n",
       "  </thead>\n",
       "  <tbody>\n",
       "    <tr>\n",
       "      <th>1606</th>\n",
       "      <td>685667379192414208</td>\n",
       "      <td>This is Marty. He has no idea what happened here. Never seen this stuff in his life. 9/10 very suspicious pupper https://t.co/u427woxFpJ</td>\n",
       "      <td>9</td>\n",
       "      <td>10</td>\n",
       "      <td>Marty</td>\n",
       "      <td>None</td>\n",
       "      <td>None</td>\n",
       "      <td>pupper</td>\n",
       "      <td>None</td>\n",
       "    </tr>\n",
       "    <tr>\n",
       "      <th>635</th>\n",
       "      <td>793601777308463104</td>\n",
       "      <td>This is Dobby. I can't stop looking at her feet. 12/10 would absolutely snug https://t.co/LhzPWv6rTv</td>\n",
       "      <td>12</td>\n",
       "      <td>10</td>\n",
       "      <td>Dobby</td>\n",
       "      <td>None</td>\n",
       "      <td>None</td>\n",
       "      <td>None</td>\n",
       "      <td>None</td>\n",
       "    </tr>\n",
       "    <tr>\n",
       "      <th>1766</th>\n",
       "      <td>678399652199309312</td>\n",
       "      <td>This made my day. 12/10 please enjoy https://t.co/VRTbo3aAcm</td>\n",
       "      <td>12</td>\n",
       "      <td>10</td>\n",
       "      <td>NaN</td>\n",
       "      <td>None</td>\n",
       "      <td>None</td>\n",
       "      <td>None</td>\n",
       "      <td>None</td>\n",
       "    </tr>\n",
       "    <tr>\n",
       "      <th>776</th>\n",
       "      <td>776113305656188928</td>\n",
       "      <td>This is Sampson. He's about to get hit with a vicious draw 2. Has no idea. 11/10 poor pupper https://t.co/FYT9QBEnKG</td>\n",
       "      <td>11</td>\n",
       "      <td>10</td>\n",
       "      <td>Sampson</td>\n",
       "      <td>None</td>\n",
       "      <td>None</td>\n",
       "      <td>pupper</td>\n",
       "      <td>None</td>\n",
       "    </tr>\n",
       "    <tr>\n",
       "      <th>648</th>\n",
       "      <td>793120401413079041</td>\n",
       "      <td>This is Robin. She's desperately trying to do me a frighten, but her tongue drastically decreases her spook value. Still 11/10 great effort https://t.co/sxMrsOZ8zb</td>\n",
       "      <td>11</td>\n",
       "      <td>10</td>\n",
       "      <td>Robin</td>\n",
       "      <td>None</td>\n",
       "      <td>None</td>\n",
       "      <td>None</td>\n",
       "      <td>None</td>\n",
       "    </tr>\n",
       "    <tr>\n",
       "      <th>1925</th>\n",
       "      <td>674063288070742018</td>\n",
       "      <td>This is Earl. Earl is lost. Someone help Earl. He has no tags. Just trying to get home. 5/10 hang in there Earl https://t.co/1ZbfqAVDg6</td>\n",
       "      <td>5</td>\n",
       "      <td>10</td>\n",
       "      <td>Earl</td>\n",
       "      <td>None</td>\n",
       "      <td>None</td>\n",
       "      <td>None</td>\n",
       "      <td>None</td>\n",
       "    </tr>\n",
       "    <tr>\n",
       "      <th>593</th>\n",
       "      <td>798925684722855936</td>\n",
       "      <td>This is Shadow. He's a firm believer that they're all good dogs. H*ckin passionate about it too. 11/10 I stand with Shadow https://t.co/8yvpacwBcu</td>\n",
       "      <td>11</td>\n",
       "      <td>10</td>\n",
       "      <td>Shadow</td>\n",
       "      <td>None</td>\n",
       "      <td>None</td>\n",
       "      <td>None</td>\n",
       "      <td>None</td>\n",
       "    </tr>\n",
       "    <tr>\n",
       "      <th>381</th>\n",
       "      <td>827324948884643840</td>\n",
       "      <td>This is Ralphie. He's being treated for an overactive funny bone, which is no joke. 12/10 would try to pet with a straight face https://t.co/UU3KqQF5n5</td>\n",
       "      <td>12</td>\n",
       "      <td>10</td>\n",
       "      <td>Ralphie</td>\n",
       "      <td>None</td>\n",
       "      <td>None</td>\n",
       "      <td>None</td>\n",
       "      <td>None</td>\n",
       "    </tr>\n",
       "    <tr>\n",
       "      <th>1210</th>\n",
       "      <td>715680795826982913</td>\n",
       "      <td>This is Zeus. He's downright fabulous. 12/10 https://t.co/sSugyyRuTp</td>\n",
       "      <td>12</td>\n",
       "      <td>10</td>\n",
       "      <td>Zeus</td>\n",
       "      <td>None</td>\n",
       "      <td>None</td>\n",
       "      <td>None</td>\n",
       "      <td>None</td>\n",
       "    </tr>\n",
       "    <tr>\n",
       "      <th>1805</th>\n",
       "      <td>676942428000112642</td>\n",
       "      <td>Who leaves the last cupcake just sitting there? 9/10 https://t.co/PWMqAoEx2a</td>\n",
       "      <td>9</td>\n",
       "      <td>10</td>\n",
       "      <td>NaN</td>\n",
       "      <td>None</td>\n",
       "      <td>None</td>\n",
       "      <td>None</td>\n",
       "      <td>None</td>\n",
       "    </tr>\n",
       "  </tbody>\n",
       "</table>\n",
       "</div>"
      ],
      "text/plain": [
       "                tweet_id  \\\n",
       "1606  685667379192414208   \n",
       "635   793601777308463104   \n",
       "1766  678399652199309312   \n",
       "776   776113305656188928   \n",
       "648   793120401413079041   \n",
       "1925  674063288070742018   \n",
       "593   798925684722855936   \n",
       "381   827324948884643840   \n",
       "1210  715680795826982913   \n",
       "1805  676942428000112642   \n",
       "\n",
       "                                                                                                                                                                     text  \\\n",
       "1606                             This is Marty. He has no idea what happened here. Never seen this stuff in his life. 9/10 very suspicious pupper https://t.co/u427woxFpJ   \n",
       "635                                                                  This is Dobby. I can't stop looking at her feet. 12/10 would absolutely snug https://t.co/LhzPWv6rTv   \n",
       "1766                                                                                                         This made my day. 12/10 please enjoy https://t.co/VRTbo3aAcm   \n",
       "776                                                  This is Sampson. He's about to get hit with a vicious draw 2. Has no idea. 11/10 poor pupper https://t.co/FYT9QBEnKG   \n",
       "648   This is Robin. She's desperately trying to do me a frighten, but her tongue drastically decreases her spook value. Still 11/10 great effort https://t.co/sxMrsOZ8zb   \n",
       "1925                              This is Earl. Earl is lost. Someone help Earl. He has no tags. Just trying to get home. 5/10 hang in there Earl https://t.co/1ZbfqAVDg6   \n",
       "593                    This is Shadow. He's a firm believer that they're all good dogs. H*ckin passionate about it too. 11/10 I stand with Shadow https://t.co/8yvpacwBcu   \n",
       "381               This is Ralphie. He's being treated for an overactive funny bone, which is no joke. 12/10 would try to pet with a straight face https://t.co/UU3KqQF5n5   \n",
       "1210                                                                                                 This is Zeus. He's downright fabulous. 12/10 https://t.co/sSugyyRuTp   \n",
       "1805                                                                                         Who leaves the last cupcake just sitting there? 9/10 https://t.co/PWMqAoEx2a   \n",
       "\n",
       "      rating_numerator  rating_denominator     name doggo floofer  pupper  \\\n",
       "1606                 9                  10    Marty  None    None  pupper   \n",
       "635                 12                  10    Dobby  None    None    None   \n",
       "1766                12                  10      NaN  None    None    None   \n",
       "776                 11                  10  Sampson  None    None  pupper   \n",
       "648                 11                  10    Robin  None    None    None   \n",
       "1925                 5                  10     Earl  None    None    None   \n",
       "593                 11                  10   Shadow  None    None    None   \n",
       "381                 12                  10  Ralphie  None    None    None   \n",
       "1210                12                  10     Zeus  None    None    None   \n",
       "1805                 9                  10      NaN  None    None    None   \n",
       "\n",
       "     puppo  \n",
       "1606  None  \n",
       "635   None  \n",
       "1766  None  \n",
       "776   None  \n",
       "648   None  \n",
       "1925  None  \n",
       "593   None  \n",
       "381   None  \n",
       "1210  None  \n",
       "1805  None  "
      ]
     },
     "execution_count": 42,
     "metadata": {},
     "output_type": "execute_result"
    }
   ],
   "source": [
    "df_1_clean.sample(10)"
   ]
  },
  {
   "cell_type": "markdown",
   "metadata": {},
   "source": [
    "#### Define: 5) Duplicated values for column `jpg_url` in `df_2`."
   ]
  },
  {
   "cell_type": "markdown",
   "metadata": {},
   "source": [
    "##### Code"
   ]
  },
  {
   "cell_type": "code",
   "execution_count": 43,
   "metadata": {},
   "outputs": [],
   "source": [
    "# Remove duplicate values and keep the first to appear\n",
    "df_2_clean = df_2_clean.drop_duplicates(subset=['jpg_url'], keep='first')"
   ]
  },
  {
   "cell_type": "markdown",
   "metadata": {},
   "source": [
    "##### Test"
   ]
  },
  {
   "cell_type": "code",
   "execution_count": 44,
   "metadata": {},
   "outputs": [
    {
     "data": {
      "text/plain": [
       "(2009, 12)"
      ]
     },
     "metadata": {},
     "output_type": "display_data"
    }
   ],
   "source": [
    "display(df_2_clean.shape)"
   ]
  },
  {
   "cell_type": "markdown",
   "metadata": {},
   "source": [
    "#### Define: 6) Sometimes there are animals or objects that are not dogs in `df_2`."
   ]
  },
  {
   "cell_type": "markdown",
   "metadata": {},
   "source": [
    "##### Code"
   ]
  },
  {
   "cell_type": "code",
   "execution_count": 45,
   "metadata": {},
   "outputs": [
    {
     "data": {
      "text/plain": [
       "True     1480\n",
       "False     529\n",
       "Name: p1_dog, dtype: int64"
      ]
     },
     "metadata": {},
     "output_type": "display_data"
    }
   ],
   "source": [
    "# I will make the assumption that the first prediction is correct, so \n",
    "# I will not take into account what second and third predictions say.\n",
    "\n",
    "# Remove the 'false' values because that means that the row does not \n",
    "# contain data from a dog but from another animal\n",
    "display(df_2_clean.p1_dog.value_counts())"
   ]
  },
  {
   "cell_type": "code",
   "execution_count": 46,
   "metadata": {},
   "outputs": [],
   "source": [
    "# Remove in 'p1_dog' animals different than dogs\n",
    "df_2_clean.drop(df_2_clean[df_2_clean['p1_dog'] == False].index, inplace=True)\n",
    "\n",
    "# Rename columns 'p1' and 'p1_conf' \n",
    "df_2_clean.rename(columns={'p1': 'predicted_breed', 'p1_conf': 'predicted_confidence'}, inplace=True)\n",
    "\n",
    "# Delete columns with second and third predictions.\n",
    "# Also remove 'img_num' and 'p1_dog' columns because those have no value now.\n",
    "df_2_clean = df_2_clean.drop([\n",
    "                              'img_num', \n",
    "                              'p1_dog', \n",
    "                              'p2', \n",
    "                              'p2_conf', \n",
    "                              'p2_dog',\n",
    "                              'p3',\n",
    "                              'p3_conf',\n",
    "                              'p3_dog'\n",
    "                             ], axis=1)"
   ]
  },
  {
   "cell_type": "markdown",
   "metadata": {},
   "source": [
    "##### Test"
   ]
  },
  {
   "cell_type": "code",
   "execution_count": 47,
   "metadata": {
    "scrolled": true
   },
   "outputs": [
    {
     "data": {
      "text/html": [
       "<div>\n",
       "<style scoped>\n",
       "    .dataframe tbody tr th:only-of-type {\n",
       "        vertical-align: middle;\n",
       "    }\n",
       "\n",
       "    .dataframe tbody tr th {\n",
       "        vertical-align: top;\n",
       "    }\n",
       "\n",
       "    .dataframe thead th {\n",
       "        text-align: right;\n",
       "    }\n",
       "</style>\n",
       "<table border=\"1\" class=\"dataframe\">\n",
       "  <thead>\n",
       "    <tr style=\"text-align: right;\">\n",
       "      <th></th>\n",
       "      <th>tweet_id</th>\n",
       "      <th>jpg_url</th>\n",
       "      <th>predicted_breed</th>\n",
       "      <th>predicted_confidence</th>\n",
       "    </tr>\n",
       "  </thead>\n",
       "  <tbody>\n",
       "    <tr>\n",
       "      <th>1828</th>\n",
       "      <td>835574547218894849</td>\n",
       "      <td>https://pbs.twimg.com/media/C5iOnigWcAAU3Ry.jpg</td>\n",
       "      <td>Staffordshire_bullterrier</td>\n",
       "      <td>0.610655</td>\n",
       "    </tr>\n",
       "    <tr>\n",
       "      <th>1772</th>\n",
       "      <td>827933404142436356</td>\n",
       "      <td>https://pbs.twimg.com/media/C31pCN4UcAAOLNH.jpg</td>\n",
       "      <td>German_shepherd</td>\n",
       "      <td>0.806115</td>\n",
       "    </tr>\n",
       "    <tr>\n",
       "      <th>1657</th>\n",
       "      <td>810896069567610880</td>\n",
       "      <td>https://pbs.twimg.com/media/C0DhpcrUAAAnx88.jpg</td>\n",
       "      <td>flat-coated_retriever</td>\n",
       "      <td>0.820804</td>\n",
       "    </tr>\n",
       "    <tr>\n",
       "      <th>674</th>\n",
       "      <td>683391852557561860</td>\n",
       "      <td>https://pbs.twimg.com/media/CXvlQ2zW8AAE0tp.jpg</td>\n",
       "      <td>French_bulldog</td>\n",
       "      <td>0.992833</td>\n",
       "    </tr>\n",
       "    <tr>\n",
       "      <th>2034</th>\n",
       "      <td>883838122936631299</td>\n",
       "      <td>https://pbs.twimg.com/media/DEQGFgAXUAAEvfi.jpg</td>\n",
       "      <td>Doberman</td>\n",
       "      <td>0.610946</td>\n",
       "    </tr>\n",
       "  </tbody>\n",
       "</table>\n",
       "</div>"
      ],
      "text/plain": [
       "                tweet_id                                          jpg_url  \\\n",
       "1828  835574547218894849  https://pbs.twimg.com/media/C5iOnigWcAAU3Ry.jpg   \n",
       "1772  827933404142436356  https://pbs.twimg.com/media/C31pCN4UcAAOLNH.jpg   \n",
       "1657  810896069567610880  https://pbs.twimg.com/media/C0DhpcrUAAAnx88.jpg   \n",
       "674   683391852557561860  https://pbs.twimg.com/media/CXvlQ2zW8AAE0tp.jpg   \n",
       "2034  883838122936631299  https://pbs.twimg.com/media/DEQGFgAXUAAEvfi.jpg   \n",
       "\n",
       "                predicted_breed  predicted_confidence  \n",
       "1828  Staffordshire_bullterrier              0.610655  \n",
       "1772            German_shepherd              0.806115  \n",
       "1657      flat-coated_retriever              0.820804  \n",
       "674              French_bulldog              0.992833  \n",
       "2034                   Doberman              0.610946  "
      ]
     },
     "metadata": {},
     "output_type": "display_data"
    },
    {
     "data": {
      "text/plain": [
       "(1480, 4)"
      ]
     },
     "metadata": {},
     "output_type": "display_data"
    }
   ],
   "source": [
    "display(df_2_clean.sample(5))\n",
    "display(df_2_clean.shape)"
   ]
  },
  {
   "cell_type": "markdown",
   "metadata": {},
   "source": [
    "#### Define: 7) Lowercase and uppercase mix in `predicted_breed` column in `df_2`."
   ]
  },
  {
   "cell_type": "markdown",
   "metadata": {},
   "source": [
    "##### Code"
   ]
  },
  {
   "cell_type": "code",
   "execution_count": 48,
   "metadata": {},
   "outputs": [],
   "source": [
    "df_2_clean['predicted_breed'] = df_2_clean.predicted_breed.str.capitalize()"
   ]
  },
  {
   "cell_type": "markdown",
   "metadata": {},
   "source": [
    "##### Test"
   ]
  },
  {
   "cell_type": "code",
   "execution_count": 49,
   "metadata": {},
   "outputs": [
    {
     "data": {
      "text/html": [
       "<div>\n",
       "<style scoped>\n",
       "    .dataframe tbody tr th:only-of-type {\n",
       "        vertical-align: middle;\n",
       "    }\n",
       "\n",
       "    .dataframe tbody tr th {\n",
       "        vertical-align: top;\n",
       "    }\n",
       "\n",
       "    .dataframe thead th {\n",
       "        text-align: right;\n",
       "    }\n",
       "</style>\n",
       "<table border=\"1\" class=\"dataframe\">\n",
       "  <thead>\n",
       "    <tr style=\"text-align: right;\">\n",
       "      <th></th>\n",
       "      <th>tweet_id</th>\n",
       "      <th>jpg_url</th>\n",
       "      <th>predicted_breed</th>\n",
       "      <th>predicted_confidence</th>\n",
       "    </tr>\n",
       "  </thead>\n",
       "  <tbody>\n",
       "    <tr>\n",
       "      <th>2027</th>\n",
       "      <td>882268110199369728</td>\n",
       "      <td>https://pbs.twimg.com/media/DD5yKdPW0AArzX8.jpg</td>\n",
       "      <td>Golden_retriever</td>\n",
       "      <td>0.762211</td>\n",
       "    </tr>\n",
       "    <tr>\n",
       "      <th>1812</th>\n",
       "      <td>833124694597443584</td>\n",
       "      <td>https://pbs.twimg.com/media/C4_ad1IUoAEspsk.jpg</td>\n",
       "      <td>Cardigan</td>\n",
       "      <td>0.710523</td>\n",
       "    </tr>\n",
       "    <tr>\n",
       "      <th>146</th>\n",
       "      <td>668627278264475648</td>\n",
       "      <td>https://pbs.twimg.com/media/CUdw9thWsAA4mB9.jpg</td>\n",
       "      <td>French_bulldog</td>\n",
       "      <td>0.965403</td>\n",
       "    </tr>\n",
       "    <tr>\n",
       "      <th>304</th>\n",
       "      <td>671518598289059840</td>\n",
       "      <td>https://pbs.twimg.com/media/CVG2l9jUYAAwg-w.jpg</td>\n",
       "      <td>Lakeland_terrier</td>\n",
       "      <td>0.428275</td>\n",
       "    </tr>\n",
       "    <tr>\n",
       "      <th>968</th>\n",
       "      <td>706346369204748288</td>\n",
       "      <td>https://pbs.twimg.com/media/Cc1yRE2WoAAgxFQ.jpg</td>\n",
       "      <td>Tibetan_mastiff</td>\n",
       "      <td>0.956462</td>\n",
       "    </tr>\n",
       "  </tbody>\n",
       "</table>\n",
       "</div>"
      ],
      "text/plain": [
       "                tweet_id                                          jpg_url  \\\n",
       "2027  882268110199369728  https://pbs.twimg.com/media/DD5yKdPW0AArzX8.jpg   \n",
       "1812  833124694597443584  https://pbs.twimg.com/media/C4_ad1IUoAEspsk.jpg   \n",
       "146   668627278264475648  https://pbs.twimg.com/media/CUdw9thWsAA4mB9.jpg   \n",
       "304   671518598289059840  https://pbs.twimg.com/media/CVG2l9jUYAAwg-w.jpg   \n",
       "968   706346369204748288  https://pbs.twimg.com/media/Cc1yRE2WoAAgxFQ.jpg   \n",
       "\n",
       "       predicted_breed  predicted_confidence  \n",
       "2027  Golden_retriever              0.762211  \n",
       "1812          Cardigan              0.710523  \n",
       "146     French_bulldog              0.965403  \n",
       "304   Lakeland_terrier              0.428275  \n",
       "968    Tibetan_mastiff              0.956462  "
      ]
     },
     "metadata": {},
     "output_type": "display_data"
    },
    {
     "data": {
      "text/plain": [
       "(1480, 4)"
      ]
     },
     "metadata": {},
     "output_type": "display_data"
    },
    {
     "name": "stdout",
     "output_type": "stream",
     "text": [
      "<class 'pandas.core.frame.DataFrame'>\n",
      "Int64Index: 1480 entries, 0 to 2073\n",
      "Data columns (total 4 columns):\n",
      " #   Column                Non-Null Count  Dtype  \n",
      "---  ------                --------------  -----  \n",
      " 0   tweet_id              1480 non-null   int64  \n",
      " 1   jpg_url               1480 non-null   object \n",
      " 2   predicted_breed       1480 non-null   object \n",
      " 3   predicted_confidence  1480 non-null   float64\n",
      "dtypes: float64(1), int64(1), object(2)\n",
      "memory usage: 57.8+ KB\n"
     ]
    },
    {
     "data": {
      "text/plain": [
       "None"
      ]
     },
     "metadata": {},
     "output_type": "display_data"
    }
   ],
   "source": [
    "display(df_2_clean.sample(5))\n",
    "display(df_2_clean.shape)\n",
    "display(df_2_clean.info())"
   ]
  },
  {
   "cell_type": "markdown",
   "metadata": {},
   "source": [
    "#### Define: 8) Presence of rows with retweets, replies and quoted status in `df_3`."
   ]
  },
  {
   "cell_type": "markdown",
   "metadata": {},
   "source": [
    "##### Code"
   ]
  },
  {
   "cell_type": "code",
   "execution_count": 50,
   "metadata": {},
   "outputs": [
    {
     "data": {
      "text/plain": [
       "(179, 31)"
      ]
     },
     "metadata": {},
     "output_type": "display_data"
    },
    {
     "data": {
      "text/plain": [
       "(78, 31)"
      ]
     },
     "metadata": {},
     "output_type": "display_data"
    },
    {
     "data": {
      "text/plain": [
       "(29, 31)"
      ]
     },
     "metadata": {},
     "output_type": "display_data"
    }
   ],
   "source": [
    "# Validate that the values we want to drop are correct.\n",
    "display(df_3_clean[df_3_clean.retweeted_status.notnull()].shape)\n",
    "display(df_3_clean[df_3_clean.in_reply_to_status_id.notnull()].shape)\n",
    "display(df_3_clean[df_3_clean.quoted_status_id.notnull()].shape)"
   ]
  },
  {
   "cell_type": "code",
   "execution_count": 51,
   "metadata": {},
   "outputs": [],
   "source": [
    "# Now we proceed dropping this rows\n",
    "\n",
    "# Retweets\n",
    "df_3_clean.drop(df_3_clean[df_3_clean.retweeted_status.notnull()].index, inplace=True)\n",
    "# Replies\n",
    "df_3_clean.drop(df_3_clean[df_3_clean.in_reply_to_status_id.notnull()].index, inplace=True)\n",
    "# Quoted Status\n",
    "df_3_clean.drop(df_3_clean[df_3_clean.quoted_status_id.notnull()].index, inplace=True)"
   ]
  },
  {
   "cell_type": "markdown",
   "metadata": {},
   "source": [
    "##### Test"
   ]
  },
  {
   "cell_type": "code",
   "execution_count": 52,
   "metadata": {},
   "outputs": [
    {
     "name": "stdout",
     "output_type": "stream",
     "text": [
      "<class 'pandas.core.frame.DataFrame'>\n",
      "Int64Index: 2069 entries, 0 to 2353\n",
      "Data columns (total 31 columns):\n",
      " #   Column                         Non-Null Count  Dtype  \n",
      "---  ------                         --------------  -----  \n",
      " 0   created_at                     2069 non-null   object \n",
      " 1   id                             2069 non-null   int64  \n",
      " 2   id_str                         2069 non-null   object \n",
      " 3   full_text                      2069 non-null   object \n",
      " 4   truncated                      2069 non-null   bool   \n",
      " 5   display_text_range             2069 non-null   object \n",
      " 6   entities                       2069 non-null   object \n",
      " 7   extended_entities              1971 non-null   object \n",
      " 8   source                         2069 non-null   object \n",
      " 9   in_reply_to_status_id          0 non-null      float64\n",
      " 10  in_reply_to_status_id_str      0 non-null      object \n",
      " 11  in_reply_to_user_id            0 non-null      float64\n",
      " 12  in_reply_to_user_id_str        0 non-null      object \n",
      " 13  in_reply_to_screen_name        0 non-null      object \n",
      " 14  user                           2069 non-null   object \n",
      " 15  geo                            0 non-null      object \n",
      " 16  coordinates                    0 non-null      object \n",
      " 17  place                          1 non-null      object \n",
      " 18  contributors                   0 non-null      object \n",
      " 19  is_quote_status                2069 non-null   bool   \n",
      " 20  retweet_count                  2069 non-null   int64  \n",
      " 21  favorite_count                 2069 non-null   int64  \n",
      " 22  favorited                      2069 non-null   bool   \n",
      " 23  retweeted                      2069 non-null   bool   \n",
      " 24  possibly_sensitive             2066 non-null   object \n",
      " 25  possibly_sensitive_appealable  2066 non-null   object \n",
      " 26  lang                           2069 non-null   object \n",
      " 27  retweeted_status               0 non-null      object \n",
      " 28  quoted_status_id               0 non-null      float64\n",
      " 29  quoted_status_id_str           0 non-null      object \n",
      " 30  quoted_status                  0 non-null      object \n",
      "dtypes: bool(4), float64(3), int64(3), object(21)\n",
      "memory usage: 460.7+ KB\n"
     ]
    }
   ],
   "source": [
    "df_3_clean.info()"
   ]
  },
  {
   "cell_type": "markdown",
   "metadata": {},
   "source": [
    "#### Define: 9) Columns without relevant information do not add value in `df_3` ."
   ]
  },
  {
   "cell_type": "markdown",
   "metadata": {},
   "source": [
    "##### Code"
   ]
  },
  {
   "cell_type": "code",
   "execution_count": 53,
   "metadata": {},
   "outputs": [],
   "source": [
    "# DROP NAN VALUES AND COLUMNS WITHOUT VALUE FOR THE CASE STUDY.\n",
    "\n",
    "# Now drop the columns with NaN's that have no value for us, and also the columns we will not use.\n",
    "df_3_clean = df_3_clean.drop([\n",
    "    'created_at', \n",
    "    'id_str', \n",
    "    'full_text', \n",
    "    'truncated', \n",
    "    'display_text_range', \n",
    "    'entities', \n",
    "    'extended_entities', \n",
    "    'source', \n",
    "    'in_reply_to_status_id', \n",
    "    'in_reply_to_status_id_str', \n",
    "    'in_reply_to_user_id', \n",
    "    'in_reply_to_user_id_str', \n",
    "    'in_reply_to_screen_name', \n",
    "    'user',\n",
    "    'geo', \n",
    "    'coordinates', \n",
    "    'place', \n",
    "    'contributors',\n",
    "    'is_quote_status', \n",
    "    'favorited', \n",
    "    'retweeted', \n",
    "    'possibly_sensitive',\n",
    "    'possibly_sensitive_appealable', \n",
    "    'lang', \n",
    "    'retweeted_status', \n",
    "    'quoted_status_id',\n",
    "    'quoted_status_id_str', \n",
    "    'quoted_status'\n",
    "], axis=1)\n",
    "\n",
    "# Rename 'id' column\n",
    "df_3_clean.rename(columns={'id': 'tweet_id'}, inplace=True)"
   ]
  },
  {
   "cell_type": "markdown",
   "metadata": {},
   "source": [
    "##### Test"
   ]
  },
  {
   "cell_type": "code",
   "execution_count": 54,
   "metadata": {},
   "outputs": [
    {
     "data": {
      "text/html": [
       "<div>\n",
       "<style scoped>\n",
       "    .dataframe tbody tr th:only-of-type {\n",
       "        vertical-align: middle;\n",
       "    }\n",
       "\n",
       "    .dataframe tbody tr th {\n",
       "        vertical-align: top;\n",
       "    }\n",
       "\n",
       "    .dataframe thead th {\n",
       "        text-align: right;\n",
       "    }\n",
       "</style>\n",
       "<table border=\"1\" class=\"dataframe\">\n",
       "  <thead>\n",
       "    <tr style=\"text-align: right;\">\n",
       "      <th></th>\n",
       "      <th>tweet_id</th>\n",
       "      <th>retweet_count</th>\n",
       "      <th>favorite_count</th>\n",
       "    </tr>\n",
       "  </thead>\n",
       "  <tbody>\n",
       "    <tr>\n",
       "      <th>517</th>\n",
       "      <td>810657578271330305</td>\n",
       "      <td>3057</td>\n",
       "      <td>12192</td>\n",
       "    </tr>\n",
       "    <tr>\n",
       "      <th>2016</th>\n",
       "      <td>672139350159835138</td>\n",
       "      <td>792</td>\n",
       "      <td>1876</td>\n",
       "    </tr>\n",
       "    <tr>\n",
       "      <th>1054</th>\n",
       "      <td>742161199639494656</td>\n",
       "      <td>1547</td>\n",
       "      <td>4743</td>\n",
       "    </tr>\n",
       "    <tr>\n",
       "      <th>1532</th>\n",
       "      <td>689993469801164801</td>\n",
       "      <td>518</td>\n",
       "      <td>1618</td>\n",
       "    </tr>\n",
       "    <tr>\n",
       "      <th>477</th>\n",
       "      <td>815966073409433600</td>\n",
       "      <td>9907</td>\n",
       "      <td>25057</td>\n",
       "    </tr>\n",
       "  </tbody>\n",
       "</table>\n",
       "</div>"
      ],
      "text/plain": [
       "                tweet_id  retweet_count  favorite_count\n",
       "517   810657578271330305           3057           12192\n",
       "2016  672139350159835138            792            1876\n",
       "1054  742161199639494656           1547            4743\n",
       "1532  689993469801164801            518            1618\n",
       "477   815966073409433600           9907           25057"
      ]
     },
     "metadata": {},
     "output_type": "display_data"
    },
    {
     "data": {
      "text/plain": [
       "(2069, 3)"
      ]
     },
     "metadata": {},
     "output_type": "display_data"
    },
    {
     "name": "stdout",
     "output_type": "stream",
     "text": [
      "<class 'pandas.core.frame.DataFrame'>\n",
      "Int64Index: 2069 entries, 0 to 2353\n",
      "Data columns (total 3 columns):\n",
      " #   Column          Non-Null Count  Dtype\n",
      "---  ------          --------------  -----\n",
      " 0   tweet_id        2069 non-null   int64\n",
      " 1   retweet_count   2069 non-null   int64\n",
      " 2   favorite_count  2069 non-null   int64\n",
      "dtypes: int64(3)\n",
      "memory usage: 64.7 KB\n"
     ]
    },
    {
     "data": {
      "text/plain": [
       "None"
      ]
     },
     "metadata": {},
     "output_type": "display_data"
    }
   ],
   "source": [
    "display(df_3_clean.sample(5))\n",
    "display(df_3_clean.shape)\n",
    "display(df_3_clean.info())"
   ]
  },
  {
   "cell_type": "markdown",
   "metadata": {},
   "source": [
    "### Tidiness Issues"
   ]
  },
  {
   "cell_type": "markdown",
   "metadata": {},
   "source": [
    "#### Define: 10) 'Stage of dog' columns (`doggo`, `floofer`, `pupper`, `puppo`), must be one variable in `df_1`."
   ]
  },
  {
   "cell_type": "markdown",
   "metadata": {},
   "source": [
    "##### Code"
   ]
  },
  {
   "cell_type": "code",
   "execution_count": 55,
   "metadata": {},
   "outputs": [],
   "source": [
    "# replace all the 'None'\n",
    "stage_of_dog = ['doggo', 'pupper', 'floofer', 'puppo' ]\n",
    "for i in stage_of_dog:\n",
    "        df_1_clean[i] = df_1_clean[i].replace('None', '')\n",
    "        \n",
    "# using 'cat' to combine the columns\n",
    "df_1_clean['stage_of_dog'] = df_1_clean.doggo.str.cat(df_1_clean.floofer).str.cat(df_1_clean.pupper).str.cat(df_1_clean.puppo)\n",
    "\n",
    "# erase the columns been replaced\n",
    "df_1_clean=df_1_clean.drop(['doggo','floofer','pupper','puppo'], axis=1)\n",
    "\n",
    "# assign NaN values to empty spaces\n",
    "df_1_clean.stage_of_dog=df_1_clean.stage_of_dog.replace('', np.nan)\n",
    "\n",
    "# replacing wrong outputs of 'stage_of_dog'\n",
    "df_1_clean.loc[df_1_clean.stage_of_dog == 'doggopupper', 'stage_of_dog'] = 'doggo, pupper'\n",
    "df_1_clean.loc[df_1_clean.stage_of_dog == 'doggopuppo', 'stage_of_dog'] = 'doggo, puppo'\n",
    "df_1_clean.loc[df_1_clean.stage_of_dog == 'doggofloofer', 'stage_of_dog'] = 'doggo, floofer'"
   ]
  },
  {
   "cell_type": "markdown",
   "metadata": {},
   "source": [
    "##### Test"
   ]
  },
  {
   "cell_type": "code",
   "execution_count": 56,
   "metadata": {
    "scrolled": false
   },
   "outputs": [
    {
     "data": {
      "text/html": [
       "<div>\n",
       "<style scoped>\n",
       "    .dataframe tbody tr th:only-of-type {\n",
       "        vertical-align: middle;\n",
       "    }\n",
       "\n",
       "    .dataframe tbody tr th {\n",
       "        vertical-align: top;\n",
       "    }\n",
       "\n",
       "    .dataframe thead th {\n",
       "        text-align: right;\n",
       "    }\n",
       "</style>\n",
       "<table border=\"1\" class=\"dataframe\">\n",
       "  <thead>\n",
       "    <tr style=\"text-align: right;\">\n",
       "      <th></th>\n",
       "      <th>tweet_id</th>\n",
       "      <th>text</th>\n",
       "      <th>rating_numerator</th>\n",
       "      <th>rating_denominator</th>\n",
       "      <th>name</th>\n",
       "      <th>stage_of_dog</th>\n",
       "    </tr>\n",
       "  </thead>\n",
       "  <tbody>\n",
       "    <tr>\n",
       "      <th>1762</th>\n",
       "      <td>678643457146150913</td>\n",
       "      <td>Meet Grizz. He just arrived. Couldn't wait until Christmas. Worried bc he saw the swastikas on the carpet. 10/10 https://t.co/QBGwYrT7rv</td>\n",
       "      <td>10</td>\n",
       "      <td>10</td>\n",
       "      <td>Grizz</td>\n",
       "      <td>NaN</td>\n",
       "    </tr>\n",
       "    <tr>\n",
       "      <th>1824</th>\n",
       "      <td>676496375194980353</td>\n",
       "      <td>Say hello to Griffin. He's upset because his costume for Halloween didn't arrive until today. 9/10 cheer up pup https://t.co/eoBCjSFajX</td>\n",
       "      <td>9</td>\n",
       "      <td>10</td>\n",
       "      <td>Griffin</td>\n",
       "      <td>NaN</td>\n",
       "    </tr>\n",
       "    <tr>\n",
       "      <th>321</th>\n",
       "      <td>834209720923721728</td>\n",
       "      <td>This is Wilson. He's aware that he has something on his face. Waiting for you to get it for him. 12/10 https://t.co/FaeinVjzTZ</td>\n",
       "      <td>12</td>\n",
       "      <td>10</td>\n",
       "      <td>Wilson</td>\n",
       "      <td>NaN</td>\n",
       "    </tr>\n",
       "    <tr>\n",
       "      <th>1439</th>\n",
       "      <td>696894894812565505</td>\n",
       "      <td>These two pirates crashed their ship and don't know what to do now. Very irresponsible of them. Both 9/10 https://t.co/RJvUjgGH5z</td>\n",
       "      <td>9</td>\n",
       "      <td>10</td>\n",
       "      <td>NaN</td>\n",
       "      <td>NaN</td>\n",
       "    </tr>\n",
       "    <tr>\n",
       "      <th>729</th>\n",
       "      <td>781955203444699136</td>\n",
       "      <td>This is Chipson. He weighed in at .3 ounces and is officially super h*ckin smol. Space-saving af. 11/10 would snug delicately https://t.co/FjEsk7A1JV</td>\n",
       "      <td>11</td>\n",
       "      <td>10</td>\n",
       "      <td>Chipson</td>\n",
       "      <td>NaN</td>\n",
       "    </tr>\n",
       "  </tbody>\n",
       "</table>\n",
       "</div>"
      ],
      "text/plain": [
       "                tweet_id  \\\n",
       "1762  678643457146150913   \n",
       "1824  676496375194980353   \n",
       "321   834209720923721728   \n",
       "1439  696894894812565505   \n",
       "729   781955203444699136   \n",
       "\n",
       "                                                                                                                                                       text  \\\n",
       "1762               Meet Grizz. He just arrived. Couldn't wait until Christmas. Worried bc he saw the swastikas on the carpet. 10/10 https://t.co/QBGwYrT7rv   \n",
       "1824                Say hello to Griffin. He's upset because his costume for Halloween didn't arrive until today. 9/10 cheer up pup https://t.co/eoBCjSFajX   \n",
       "321                          This is Wilson. He's aware that he has something on his face. Waiting for you to get it for him. 12/10 https://t.co/FaeinVjzTZ   \n",
       "1439                      These two pirates crashed their ship and don't know what to do now. Very irresponsible of them. Both 9/10 https://t.co/RJvUjgGH5z   \n",
       "729   This is Chipson. He weighed in at .3 ounces and is officially super h*ckin smol. Space-saving af. 11/10 would snug delicately https://t.co/FjEsk7A1JV   \n",
       "\n",
       "      rating_numerator  rating_denominator     name stage_of_dog  \n",
       "1762                10                  10    Grizz          NaN  \n",
       "1824                 9                  10  Griffin          NaN  \n",
       "321                 12                  10   Wilson          NaN  \n",
       "1439                 9                  10      NaN          NaN  \n",
       "729                 11                  10  Chipson          NaN  "
      ]
     },
     "execution_count": 56,
     "metadata": {},
     "output_type": "execute_result"
    }
   ],
   "source": [
    "df_1_clean.sample(5)"
   ]
  },
  {
   "cell_type": "code",
   "execution_count": 57,
   "metadata": {},
   "outputs": [
    {
     "data": {
      "text/plain": [
       "pupper            221\n",
       "doggo              72\n",
       "puppo              23\n",
       "doggo, pupper       9\n",
       "floofer             9\n",
       "doggo, floofer      1\n",
       "doggo, puppo        1\n",
       "Name: stage_of_dog, dtype: int64"
      ]
     },
     "execution_count": 57,
     "metadata": {},
     "output_type": "execute_result"
    }
   ],
   "source": [
    "df_1_clean.stage_of_dog.value_counts()"
   ]
  },
  {
   "cell_type": "markdown",
   "metadata": {},
   "source": [
    "#### Define: 11) In df_1 `rating_numerator` and `rating_denominator` must be one variable named `rating`"
   ]
  },
  {
   "cell_type": "markdown",
   "metadata": {},
   "source": [
    "##### Code"
   ]
  },
  {
   "cell_type": "code",
   "execution_count": 58,
   "metadata": {},
   "outputs": [],
   "source": [
    "# Making the operation to obtain 'rating' variable\n",
    "df_1_clean['rating']=df_1_clean.rating_numerator/df_1_clean.rating_denominator\n",
    "df_1_clean=df_1_clean.drop(['rating_numerator','rating_denominator'], axis=1)"
   ]
  },
  {
   "cell_type": "markdown",
   "metadata": {},
   "source": [
    "##### Test"
   ]
  },
  {
   "cell_type": "code",
   "execution_count": 59,
   "metadata": {},
   "outputs": [
    {
     "data": {
      "text/html": [
       "<div>\n",
       "<style scoped>\n",
       "    .dataframe tbody tr th:only-of-type {\n",
       "        vertical-align: middle;\n",
       "    }\n",
       "\n",
       "    .dataframe tbody tr th {\n",
       "        vertical-align: top;\n",
       "    }\n",
       "\n",
       "    .dataframe thead th {\n",
       "        text-align: right;\n",
       "    }\n",
       "</style>\n",
       "<table border=\"1\" class=\"dataframe\">\n",
       "  <thead>\n",
       "    <tr style=\"text-align: right;\">\n",
       "      <th></th>\n",
       "      <th>tweet_id</th>\n",
       "      <th>text</th>\n",
       "      <th>name</th>\n",
       "      <th>stage_of_dog</th>\n",
       "      <th>rating</th>\n",
       "    </tr>\n",
       "  </thead>\n",
       "  <tbody>\n",
       "    <tr>\n",
       "      <th>1323</th>\n",
       "      <td>706265994973601792</td>\n",
       "      <td>This is Kara. She's been trying to solve that thing for 3 days. \"I don't have thumbs,\" she said. 11/10 solid effort https://t.co/lA6a8GefrV</td>\n",
       "      <td>Kara</td>\n",
       "      <td>NaN</td>\n",
       "      <td>1.1</td>\n",
       "    </tr>\n",
       "    <tr>\n",
       "      <th>157</th>\n",
       "      <td>861288531465048066</td>\n",
       "      <td>HI. MY. NAME. IS. BOOMER. AND. I. WANT. TO. SAY. IT'S. H*CKIN. RIDICULOUS. THAT. DOGS. CAN'T VOTE. ABSOLUTE. CODSWALLUP. THANK. YOU. 13/10 https://t.co/SqKJPwbQ2g</td>\n",
       "      <td>NaN</td>\n",
       "      <td>NaN</td>\n",
       "      <td>1.3</td>\n",
       "    </tr>\n",
       "    <tr>\n",
       "      <th>1394</th>\n",
       "      <td>700002074055016451</td>\n",
       "      <td>This is Thumas. He covered himself in nanners for maximum camouflage. It didn't work. I can still see u Thumas. 9/10 https://t.co/x0ZDlNqfb1</td>\n",
       "      <td>Thumas</td>\n",
       "      <td>NaN</td>\n",
       "      <td>0.9</td>\n",
       "    </tr>\n",
       "    <tr>\n",
       "      <th>1615</th>\n",
       "      <td>685268753634967552</td>\n",
       "      <td>This is Hubertson. He's a Carmel Haberdashery. Enjoys long summer days on his boat. Very peaceful pupper. 10/10 https://t.co/vzCl35fKlZ</td>\n",
       "      <td>Hubertson</td>\n",
       "      <td>pupper</td>\n",
       "      <td>1.0</td>\n",
       "    </tr>\n",
       "    <tr>\n",
       "      <th>491</th>\n",
       "      <td>813800681631023104</td>\n",
       "      <td>This is Sky. She's learning how to roll her R's. 12/10 cultured af https://t.co/OuaVvVkwJ1</td>\n",
       "      <td>Sky</td>\n",
       "      <td>NaN</td>\n",
       "      <td>1.2</td>\n",
       "    </tr>\n",
       "  </tbody>\n",
       "</table>\n",
       "</div>"
      ],
      "text/plain": [
       "                tweet_id  \\\n",
       "1323  706265994973601792   \n",
       "157   861288531465048066   \n",
       "1394  700002074055016451   \n",
       "1615  685268753634967552   \n",
       "491   813800681631023104   \n",
       "\n",
       "                                                                                                                                                                    text  \\\n",
       "1323                         This is Kara. She's been trying to solve that thing for 3 days. \"I don't have thumbs,\" she said. 11/10 solid effort https://t.co/lA6a8GefrV   \n",
       "157   HI. MY. NAME. IS. BOOMER. AND. I. WANT. TO. SAY. IT'S. H*CKIN. RIDICULOUS. THAT. DOGS. CAN'T VOTE. ABSOLUTE. CODSWALLUP. THANK. YOU. 13/10 https://t.co/SqKJPwbQ2g   \n",
       "1394                        This is Thumas. He covered himself in nanners for maximum camouflage. It didn't work. I can still see u Thumas. 9/10 https://t.co/x0ZDlNqfb1   \n",
       "1615                             This is Hubertson. He's a Carmel Haberdashery. Enjoys long summer days on his boat. Very peaceful pupper. 10/10 https://t.co/vzCl35fKlZ   \n",
       "491                                                                           This is Sky. She's learning how to roll her R's. 12/10 cultured af https://t.co/OuaVvVkwJ1   \n",
       "\n",
       "           name stage_of_dog  rating  \n",
       "1323       Kara          NaN     1.1  \n",
       "157         NaN          NaN     1.3  \n",
       "1394     Thumas          NaN     0.9  \n",
       "1615  Hubertson       pupper     1.0  \n",
       "491         Sky          NaN     1.2  "
      ]
     },
     "metadata": {},
     "output_type": "display_data"
    },
    {
     "data": {
      "text/plain": [
       "(2097, 5)"
      ]
     },
     "metadata": {},
     "output_type": "display_data"
    },
    {
     "name": "stdout",
     "output_type": "stream",
     "text": [
      "<class 'pandas.core.frame.DataFrame'>\n",
      "Int64Index: 2097 entries, 0 to 2355\n",
      "Data columns (total 5 columns):\n",
      " #   Column        Non-Null Count  Dtype  \n",
      "---  ------        --------------  -----  \n",
      " 0   tweet_id      2097 non-null   int64  \n",
      " 1   text          2097 non-null   object \n",
      " 2   name          1390 non-null   object \n",
      " 3   stage_of_dog  336 non-null    object \n",
      " 4   rating        2097 non-null   float64\n",
      "dtypes: float64(1), int64(1), object(3)\n",
      "memory usage: 178.3+ KB\n"
     ]
    },
    {
     "data": {
      "text/plain": [
       "None"
      ]
     },
     "metadata": {},
     "output_type": "display_data"
    }
   ],
   "source": [
    "display(df_1_clean.sample(5))\n",
    "display(df_1_clean.shape)\n",
    "display(df_1_clean.info())"
   ]
  },
  {
   "cell_type": "markdown",
   "metadata": {},
   "source": [
    "#### Define: 12) Join `df_2` and `df_3` to `df_1`"
   ]
  },
  {
   "cell_type": "markdown",
   "metadata": {},
   "source": [
    "##### Code"
   ]
  },
  {
   "cell_type": "code",
   "execution_count": 60,
   "metadata": {},
   "outputs": [],
   "source": [
    "# I make the assumption of an inner join because I want the lowest amount of missing data \n",
    "# (except for columns 'name' and 'stage_of_dog')\n",
    "\n",
    "# First join 'df_1_clean' with 'df_3_clean'\n",
    "df_merge_1 = pd.merge(left=df_1_clean, right=df_3_clean, on=['tweet_id'], how='inner')\n",
    "\n",
    "# And now merging 'df_2_clean' with 'df_merge_1'\n",
    "final_df_clean = pd.merge(left=df_merge_1, right=df_2_clean, on=['tweet_id'], how='inner')\n",
    "\n",
    "# Finally converting 'tweet_id' to a string\n",
    "final_df_clean['tweet_id'] = final_df_clean['tweet_id'].apply(str)\n"
   ]
  },
  {
   "cell_type": "markdown",
   "metadata": {},
   "source": [
    "##### Test"
   ]
  },
  {
   "cell_type": "code",
   "execution_count": 61,
   "metadata": {
    "scrolled": true
   },
   "outputs": [
    {
     "data": {
      "text/plain": [
       "(1463, 10)"
      ]
     },
     "metadata": {},
     "output_type": "display_data"
    },
    {
     "name": "stdout",
     "output_type": "stream",
     "text": [
      "<class 'pandas.core.frame.DataFrame'>\n",
      "Int64Index: 1463 entries, 0 to 1462\n",
      "Data columns (total 10 columns):\n",
      " #   Column                Non-Null Count  Dtype  \n",
      "---  ------                --------------  -----  \n",
      " 0   tweet_id              1463 non-null   object \n",
      " 1   text                  1463 non-null   object \n",
      " 2   name                  1044 non-null   object \n",
      " 3   stage_of_dog          227 non-null    object \n",
      " 4   rating                1463 non-null   float64\n",
      " 5   retweet_count         1463 non-null   int64  \n",
      " 6   favorite_count        1463 non-null   int64  \n",
      " 7   jpg_url               1463 non-null   object \n",
      " 8   predicted_breed       1463 non-null   object \n",
      " 9   predicted_confidence  1463 non-null   float64\n",
      "dtypes: float64(2), int64(2), object(6)\n",
      "memory usage: 125.7+ KB\n"
     ]
    },
    {
     "data": {
      "text/plain": [
       "None"
      ]
     },
     "metadata": {},
     "output_type": "display_data"
    },
    {
     "data": {
      "text/plain": [
       "tweet_id                   0\n",
       "text                       0\n",
       "name                     419\n",
       "stage_of_dog            1236\n",
       "rating                     0\n",
       "retweet_count              0\n",
       "favorite_count             0\n",
       "jpg_url                    0\n",
       "predicted_breed            0\n",
       "predicted_confidence       0\n",
       "dtype: int64"
      ]
     },
     "metadata": {},
     "output_type": "display_data"
    },
    {
     "data": {
      "text/plain": [
       "0"
      ]
     },
     "metadata": {},
     "output_type": "display_data"
    },
    {
     "data": {
      "text/html": [
       "<div>\n",
       "<style scoped>\n",
       "    .dataframe tbody tr th:only-of-type {\n",
       "        vertical-align: middle;\n",
       "    }\n",
       "\n",
       "    .dataframe tbody tr th {\n",
       "        vertical-align: top;\n",
       "    }\n",
       "\n",
       "    .dataframe thead th {\n",
       "        text-align: right;\n",
       "    }\n",
       "</style>\n",
       "<table border=\"1\" class=\"dataframe\">\n",
       "  <thead>\n",
       "    <tr style=\"text-align: right;\">\n",
       "      <th></th>\n",
       "      <th>tweet_id</th>\n",
       "      <th>text</th>\n",
       "      <th>name</th>\n",
       "      <th>stage_of_dog</th>\n",
       "      <th>rating</th>\n",
       "      <th>retweet_count</th>\n",
       "      <th>favorite_count</th>\n",
       "      <th>jpg_url</th>\n",
       "      <th>predicted_breed</th>\n",
       "      <th>predicted_confidence</th>\n",
       "    </tr>\n",
       "  </thead>\n",
       "  <tbody>\n",
       "    <tr>\n",
       "      <th>406</th>\n",
       "      <td>786664955043049472</td>\n",
       "      <td>\"Honestly Kathleen I just want more Ken Bone\" 12/10 https://t.co/HmlEvAMP4r</td>\n",
       "      <td>NaN</td>\n",
       "      <td>NaN</td>\n",
       "      <td>1.2</td>\n",
       "      <td>2996</td>\n",
       "      <td>11957</td>\n",
       "      <td>https://pbs.twimg.com/media/CurLmoqXgAEPoJ-.jpg</td>\n",
       "      <td>Leonberg</td>\n",
       "      <td>0.512034</td>\n",
       "    </tr>\n",
       "    <tr>\n",
       "      <th>1073</th>\n",
       "      <td>679722016581222400</td>\n",
       "      <td>This is Mike. He is a Jordanian Frito Pilates. Frowning because he can't see directly in front of him. 8/10 https://t.co/NL5QJwdEpF</td>\n",
       "      <td>Mike</td>\n",
       "      <td>NaN</td>\n",
       "      <td>0.8</td>\n",
       "      <td>539</td>\n",
       "      <td>1817</td>\n",
       "      <td>https://pbs.twimg.com/media/CW7bkW6WQAAksgB.jpg</td>\n",
       "      <td>Boxer</td>\n",
       "      <td>0.459604</td>\n",
       "    </tr>\n",
       "    <tr>\n",
       "      <th>441</th>\n",
       "      <td>778408200802557953</td>\n",
       "      <td>RIP Loki. Thank you for the good times. You will be missed by many. 14/10 https://t.co/gJKD9pst5A</td>\n",
       "      <td>NaN</td>\n",
       "      <td>NaN</td>\n",
       "      <td>1.4</td>\n",
       "      <td>5023</td>\n",
       "      <td>15135</td>\n",
       "      <td>https://pbs.twimg.com/media/Cs12ICuWAAECNRy.jpg</td>\n",
       "      <td>Pembroke</td>\n",
       "      <td>0.848362</td>\n",
       "    </tr>\n",
       "    <tr>\n",
       "      <th>576</th>\n",
       "      <td>750026558547456000</td>\n",
       "      <td>Meet Jax &amp;amp; Jil. Jil is yelling the pledge of allegiance. If u cant take the freedom get out the kitchen Jax. 10/10s https://t.co/jrg29NDNhI</td>\n",
       "      <td>Jax</td>\n",
       "      <td>NaN</td>\n",
       "      <td>1.0</td>\n",
       "      <td>888</td>\n",
       "      <td>2986</td>\n",
       "      <td>https://pbs.twimg.com/media/CmieRQRXgAA8MV3.jpg</td>\n",
       "      <td>Standard_poodle</td>\n",
       "      <td>0.258732</td>\n",
       "    </tr>\n",
       "    <tr>\n",
       "      <th>1028</th>\n",
       "      <td>683030066213818368</td>\n",
       "      <td>This is Lulu. She's contemplating all her unreached 2015 goals and daydreaming of a more efficient tomorrow. 10/10 https://t.co/h3ScYuz77J</td>\n",
       "      <td>Lulu</td>\n",
       "      <td>NaN</td>\n",
       "      <td>1.0</td>\n",
       "      <td>832</td>\n",
       "      <td>2370</td>\n",
       "      <td>https://pbs.twimg.com/media/CXqcOHCUQAAugTB.jpg</td>\n",
       "      <td>Boxer</td>\n",
       "      <td>0.722218</td>\n",
       "    </tr>\n",
       "  </tbody>\n",
       "</table>\n",
       "</div>"
      ],
      "text/plain": [
       "                tweet_id  \\\n",
       "406   786664955043049472   \n",
       "1073  679722016581222400   \n",
       "441   778408200802557953   \n",
       "576   750026558547456000   \n",
       "1028  683030066213818368   \n",
       "\n",
       "                                                                                                                                                 text  \\\n",
       "406                                                                       \"Honestly Kathleen I just want more Ken Bone\" 12/10 https://t.co/HmlEvAMP4r   \n",
       "1073              This is Mike. He is a Jordanian Frito Pilates. Frowning because he can't see directly in front of him. 8/10 https://t.co/NL5QJwdEpF   \n",
       "441                                                 RIP Loki. Thank you for the good times. You will be missed by many. 14/10 https://t.co/gJKD9pst5A   \n",
       "576   Meet Jax &amp; Jil. Jil is yelling the pledge of allegiance. If u cant take the freedom get out the kitchen Jax. 10/10s https://t.co/jrg29NDNhI   \n",
       "1028       This is Lulu. She's contemplating all her unreached 2015 goals and daydreaming of a more efficient tomorrow. 10/10 https://t.co/h3ScYuz77J   \n",
       "\n",
       "      name stage_of_dog  rating  retweet_count  favorite_count  \\\n",
       "406    NaN          NaN     1.2           2996           11957   \n",
       "1073  Mike          NaN     0.8            539            1817   \n",
       "441    NaN          NaN     1.4           5023           15135   \n",
       "576    Jax          NaN     1.0            888            2986   \n",
       "1028  Lulu          NaN     1.0            832            2370   \n",
       "\n",
       "                                              jpg_url  predicted_breed  \\\n",
       "406   https://pbs.twimg.com/media/CurLmoqXgAEPoJ-.jpg         Leonberg   \n",
       "1073  https://pbs.twimg.com/media/CW7bkW6WQAAksgB.jpg            Boxer   \n",
       "441   https://pbs.twimg.com/media/Cs12ICuWAAECNRy.jpg         Pembroke   \n",
       "576   https://pbs.twimg.com/media/CmieRQRXgAA8MV3.jpg  Standard_poodle   \n",
       "1028  https://pbs.twimg.com/media/CXqcOHCUQAAugTB.jpg            Boxer   \n",
       "\n",
       "      predicted_confidence  \n",
       "406               0.512034  \n",
       "1073              0.459604  \n",
       "441               0.848362  \n",
       "576               0.258732  \n",
       "1028              0.722218  "
      ]
     },
     "metadata": {},
     "output_type": "display_data"
    }
   ],
   "source": [
    "# Final results of cleaning process\n",
    "display(final_df_clean.shape)\n",
    "display(final_df_clean.info())\n",
    "display(final_df_clean.isnull().sum())\n",
    "display(sum(final_df_clean.duplicated()))\n",
    "display(final_df_clean.sample(5))"
   ]
  },
  {
   "cell_type": "markdown",
   "metadata": {},
   "source": [
    "* Finally, there are 1463 rows and 10 columns that will be used for EDA.\n",
    "* See that there are no duplicated values.\n",
    "* Also, the only missing values are in name and state of the dog."
   ]
  },
  {
   "cell_type": "markdown",
   "metadata": {},
   "source": [
    "## 4th Step: Storing and Acting on Wrangled Data"
   ]
  },
  {
   "cell_type": "markdown",
   "metadata": {},
   "source": [
    "### Saving the final data frame\n",
    "Storing the cleaned data set in a `csv` file named  `twitter_archive_master.csv`"
   ]
  },
  {
   "cell_type": "code",
   "execution_count": 62,
   "metadata": {},
   "outputs": [],
   "source": [
    "final_df_clean.to_csv('twitter_archive_master.csv', index=False)"
   ]
  },
  {
   "cell_type": "markdown",
   "metadata": {},
   "source": [
    "### Exploratory Data Analysis"
   ]
  },
  {
   "cell_type": "code",
   "execution_count": 63,
   "metadata": {
    "scrolled": false
   },
   "outputs": [
    {
     "data": {
      "text/html": [
       "<div>\n",
       "<style scoped>\n",
       "    .dataframe tbody tr th:only-of-type {\n",
       "        vertical-align: middle;\n",
       "    }\n",
       "\n",
       "    .dataframe tbody tr th {\n",
       "        vertical-align: top;\n",
       "    }\n",
       "\n",
       "    .dataframe thead th {\n",
       "        text-align: right;\n",
       "    }\n",
       "</style>\n",
       "<table border=\"1\" class=\"dataframe\">\n",
       "  <thead>\n",
       "    <tr style=\"text-align: right;\">\n",
       "      <th></th>\n",
       "      <th>rating</th>\n",
       "      <th>retweet_count</th>\n",
       "      <th>favorite_count</th>\n",
       "      <th>predicted_confidence</th>\n",
       "    </tr>\n",
       "  </thead>\n",
       "  <tbody>\n",
       "    <tr>\n",
       "      <th>count</th>\n",
       "      <td>1463.000000</td>\n",
       "      <td>1463.000000</td>\n",
       "      <td>1463.000000</td>\n",
       "      <td>1463.000000</td>\n",
       "    </tr>\n",
       "    <tr>\n",
       "      <th>mean</th>\n",
       "      <td>1.092774</td>\n",
       "      <td>2802.971975</td>\n",
       "      <td>9332.433356</td>\n",
       "      <td>0.615043</td>\n",
       "    </tr>\n",
       "    <tr>\n",
       "      <th>std</th>\n",
       "      <td>0.179633</td>\n",
       "      <td>4783.379234</td>\n",
       "      <td>12641.104102</td>\n",
       "      <td>0.260249</td>\n",
       "    </tr>\n",
       "    <tr>\n",
       "      <th>min</th>\n",
       "      <td>0.200000</td>\n",
       "      <td>16.000000</td>\n",
       "      <td>81.000000</td>\n",
       "      <td>0.044333</td>\n",
       "    </tr>\n",
       "    <tr>\n",
       "      <th>25%</th>\n",
       "      <td>1.000000</td>\n",
       "      <td>656.000000</td>\n",
       "      <td>2234.000000</td>\n",
       "      <td>0.392933</td>\n",
       "    </tr>\n",
       "    <tr>\n",
       "      <th>50%</th>\n",
       "      <td>1.100000</td>\n",
       "      <td>1451.000000</td>\n",
       "      <td>4531.000000</td>\n",
       "      <td>0.615741</td>\n",
       "    </tr>\n",
       "    <tr>\n",
       "      <th>75%</th>\n",
       "      <td>1.200000</td>\n",
       "      <td>3265.500000</td>\n",
       "      <td>11836.000000</td>\n",
       "      <td>0.853345</td>\n",
       "    </tr>\n",
       "    <tr>\n",
       "      <th>max</th>\n",
       "      <td>3.428571</td>\n",
       "      <td>79515.000000</td>\n",
       "      <td>132810.000000</td>\n",
       "      <td>0.999956</td>\n",
       "    </tr>\n",
       "  </tbody>\n",
       "</table>\n",
       "</div>"
      ],
      "text/plain": [
       "            rating  retweet_count  favorite_count  predicted_confidence\n",
       "count  1463.000000    1463.000000     1463.000000           1463.000000\n",
       "mean      1.092774    2802.971975     9332.433356              0.615043\n",
       "std       0.179633    4783.379234    12641.104102              0.260249\n",
       "min       0.200000      16.000000       81.000000              0.044333\n",
       "25%       1.000000     656.000000     2234.000000              0.392933\n",
       "50%       1.100000    1451.000000     4531.000000              0.615741\n",
       "75%       1.200000    3265.500000    11836.000000              0.853345\n",
       "max       3.428571   79515.000000   132810.000000              0.999956"
      ]
     },
     "execution_count": 63,
     "metadata": {},
     "output_type": "execute_result"
    }
   ],
   "source": [
    "final_df_clean.describe()"
   ]
  },
  {
   "cell_type": "markdown",
   "metadata": {},
   "source": [
    "* To compare **who are the most popular dogs**, a weight will be assigned to each numerical variable. \n",
    "* **An assumption has been made**, giving 30% of importance to `rating`, `retweet_count` and `favorite_count`. \n",
    "* `predicted_confidence` will be assigned with 10% of importance so **a new aggregated variable will be added**.\n",
    "* But first of all, a **data normalization** must be made, and the technique used is [z-score](https://towardsdatascience.com/data-normalization-with-pandas-and-scikit-learn-7c1cc6ed6475)"
   ]
  },
  {
   "cell_type": "code",
   "execution_count": 64,
   "metadata": {},
   "outputs": [],
   "source": [
    "# Apply the z-score method in Pandas using the .mean() and .std() methods\n",
    "def z_score(df):\n",
    "    # copy the dataframe\n",
    "    df_std = df.copy()\n",
    "    # apply the z-score method\n",
    "    for column in df_std.columns:\n",
    "        df_std[column] = (df_std[column] - df_std[column].mean()) / df_std[column].std()\n",
    "        \n",
    "    return df_std"
   ]
  },
  {
   "cell_type": "code",
   "execution_count": 65,
   "metadata": {
    "scrolled": true
   },
   "outputs": [
    {
     "data": {
      "text/html": [
       "<div>\n",
       "<style scoped>\n",
       "    .dataframe tbody tr th:only-of-type {\n",
       "        vertical-align: middle;\n",
       "    }\n",
       "\n",
       "    .dataframe tbody tr th {\n",
       "        vertical-align: top;\n",
       "    }\n",
       "\n",
       "    .dataframe thead th {\n",
       "        text-align: right;\n",
       "    }\n",
       "</style>\n",
       "<table border=\"1\" class=\"dataframe\">\n",
       "  <thead>\n",
       "    <tr style=\"text-align: right;\">\n",
       "      <th></th>\n",
       "      <th>score</th>\n",
       "    </tr>\n",
       "  </thead>\n",
       "  <tbody>\n",
       "    <tr>\n",
       "      <th>0</th>\n",
       "      <td>0.578827</td>\n",
       "    </tr>\n",
       "    <tr>\n",
       "      <th>1</th>\n",
       "      <td>0.274720</td>\n",
       "    </tr>\n",
       "    <tr>\n",
       "      <th>2</th>\n",
       "      <td>0.616278</td>\n",
       "    </tr>\n",
       "    <tr>\n",
       "      <th>3</th>\n",
       "      <td>0.374808</td>\n",
       "    </tr>\n",
       "    <tr>\n",
       "      <th>4</th>\n",
       "      <td>0.305631</td>\n",
       "    </tr>\n",
       "  </tbody>\n",
       "</table>\n",
       "</div>"
      ],
      "text/plain": [
       "      score\n",
       "0  0.578827\n",
       "1  0.274720\n",
       "2  0.616278\n",
       "3  0.374808\n",
       "4  0.305631"
      ]
     },
     "metadata": {},
     "output_type": "display_data"
    }
   ],
   "source": [
    "# Call the z_score function\n",
    "df_final_standardized = z_score(final_df_clean[['rating','retweet_count','favorite_count','predicted_confidence']])\n",
    "\n",
    "# Obtain the final score using the weights assumed before\n",
    "df_final_standardized['score'] = 0.3*df_final_standardized['rating'] + 0.3*df_final_standardized['retweet_count'] \n",
    "+ 0.3*df_final_standardized['favorite_count'] + 0.1*df_final_standardized['predicted_confidence']\n",
    "\n",
    "# Drop all normalized columns but keeping'score'\n",
    "df_final_standardized = df_final_standardized.drop(['rating', \n",
    "                                                    'retweet_count', \n",
    "                                                    'favorite_count', \n",
    "                                                    'predicted_confidence'\n",
    "                                                   ], axis=1)\n",
    "display(df_final_standardized.head())"
   ]
  },
  {
   "cell_type": "code",
   "execution_count": 66,
   "metadata": {
    "scrolled": true
   },
   "outputs": [
    {
     "data": {
      "text/html": [
       "<div>\n",
       "<style scoped>\n",
       "    .dataframe tbody tr th:only-of-type {\n",
       "        vertical-align: middle;\n",
       "    }\n",
       "\n",
       "    .dataframe tbody tr th {\n",
       "        vertical-align: top;\n",
       "    }\n",
       "\n",
       "    .dataframe thead th {\n",
       "        text-align: right;\n",
       "    }\n",
       "</style>\n",
       "<table border=\"1\" class=\"dataframe\">\n",
       "  <thead>\n",
       "    <tr style=\"text-align: right;\">\n",
       "      <th></th>\n",
       "      <th>tweet_id</th>\n",
       "      <th>text</th>\n",
       "      <th>name</th>\n",
       "      <th>stage_of_dog</th>\n",
       "      <th>rating</th>\n",
       "      <th>retweet_count</th>\n",
       "      <th>favorite_count</th>\n",
       "      <th>jpg_url</th>\n",
       "      <th>predicted_breed</th>\n",
       "      <th>predicted_confidence</th>\n",
       "      <th>score</th>\n",
       "    </tr>\n",
       "  </thead>\n",
       "  <tbody>\n",
       "    <tr>\n",
       "      <th>0</th>\n",
       "      <td>892177421306343426</td>\n",
       "      <td>This is Tilly. She's just checking pup on you. Hopes you're doing ok. If not, she's available for pats, snugs, boops, the whole bit. 13/10 https://t.co/0Xxu71qeIV</td>\n",
       "      <td>Tilly</td>\n",
       "      <td>NaN</td>\n",
       "      <td>1.3</td>\n",
       "      <td>6514</td>\n",
       "      <td>33819</td>\n",
       "      <td>https://pbs.twimg.com/media/DGGmoV4XsAAUL6n.jpg</td>\n",
       "      <td>Chihuahua</td>\n",
       "      <td>0.323581</td>\n",
       "      <td>0.578827</td>\n",
       "    </tr>\n",
       "    <tr>\n",
       "      <th>1</th>\n",
       "      <td>891815181378084864</td>\n",
       "      <td>This is Archie. He is a rare Norwegian Pouncing Corgo. Lives in the tall grass. You never know when one may strike. 12/10 https://t.co/wUnZnhtVJB</td>\n",
       "      <td>Archie</td>\n",
       "      <td>NaN</td>\n",
       "      <td>1.2</td>\n",
       "      <td>4328</td>\n",
       "      <td>25461</td>\n",
       "      <td>https://pbs.twimg.com/media/DGBdLU1WsAANxJ9.jpg</td>\n",
       "      <td>Chihuahua</td>\n",
       "      <td>0.716012</td>\n",
       "      <td>0.274720</td>\n",
       "    </tr>\n",
       "    <tr>\n",
       "      <th>2</th>\n",
       "      <td>891327558926688256</td>\n",
       "      <td>This is Franklin. He would like you to stop calling him \"cute.\" He is a very fierce shark and should be respected as such. 12/10 #BarkWeek https://t.co/AtUZn91f7f</td>\n",
       "      <td>Franklin</td>\n",
       "      <td>NaN</td>\n",
       "      <td>1.2</td>\n",
       "      <td>9774</td>\n",
       "      <td>41048</td>\n",
       "      <td>https://pbs.twimg.com/media/DF6hr6BUMAAzZgT.jpg</td>\n",
       "      <td>Basset</td>\n",
       "      <td>0.555712</td>\n",
       "      <td>0.616278</td>\n",
       "    </tr>\n",
       "    <tr>\n",
       "      <th>3</th>\n",
       "      <td>891087950875897856</td>\n",
       "      <td>Here we have a majestic great white breaching off South Africa's coast. Absolutely h*ckin breathtaking. 13/10 (IG: tucker_marlo) #BarkWeek https://t.co/kQ04fDDRmh</td>\n",
       "      <td>NaN</td>\n",
       "      <td>NaN</td>\n",
       "      <td>1.3</td>\n",
       "      <td>3261</td>\n",
       "      <td>20562</td>\n",
       "      <td>https://pbs.twimg.com/media/DF3HwyEWsAABqE6.jpg</td>\n",
       "      <td>Chesapeake_bay_retriever</td>\n",
       "      <td>0.425595</td>\n",
       "      <td>0.374808</td>\n",
       "    </tr>\n",
       "    <tr>\n",
       "      <th>4</th>\n",
       "      <td>890971913173991426</td>\n",
       "      <td>Meet Jax. He enjoys ice cream so much he gets nervous around it. 13/10 help Jax enjoy more things by clicking below\\n\\nhttps://t.co/Zr4hWfAs1H https://t.co/tVJBRMnhxl</td>\n",
       "      <td>Jax</td>\n",
       "      <td>NaN</td>\n",
       "      <td>1.3</td>\n",
       "      <td>2158</td>\n",
       "      <td>12041</td>\n",
       "      <td>https://pbs.twimg.com/media/DF1eOmZXUAALUcq.jpg</td>\n",
       "      <td>Appenzeller</td>\n",
       "      <td>0.341703</td>\n",
       "      <td>0.305631</td>\n",
       "    </tr>\n",
       "  </tbody>\n",
       "</table>\n",
       "</div>"
      ],
      "text/plain": [
       "             tweet_id  \\\n",
       "0  892177421306343426   \n",
       "1  891815181378084864   \n",
       "2  891327558926688256   \n",
       "3  891087950875897856   \n",
       "4  890971913173991426   \n",
       "\n",
       "                                                                                                                                                                     text  \\\n",
       "0      This is Tilly. She's just checking pup on you. Hopes you're doing ok. If not, she's available for pats, snugs, boops, the whole bit. 13/10 https://t.co/0Xxu71qeIV   \n",
       "1                       This is Archie. He is a rare Norwegian Pouncing Corgo. Lives in the tall grass. You never know when one may strike. 12/10 https://t.co/wUnZnhtVJB   \n",
       "2      This is Franklin. He would like you to stop calling him \"cute.\" He is a very fierce shark and should be respected as such. 12/10 #BarkWeek https://t.co/AtUZn91f7f   \n",
       "3      Here we have a majestic great white breaching off South Africa's coast. Absolutely h*ckin breathtaking. 13/10 (IG: tucker_marlo) #BarkWeek https://t.co/kQ04fDDRmh   \n",
       "4  Meet Jax. He enjoys ice cream so much he gets nervous around it. 13/10 help Jax enjoy more things by clicking below\\n\\nhttps://t.co/Zr4hWfAs1H https://t.co/tVJBRMnhxl   \n",
       "\n",
       "       name stage_of_dog  rating  retweet_count  favorite_count  \\\n",
       "0     Tilly          NaN     1.3           6514           33819   \n",
       "1    Archie          NaN     1.2           4328           25461   \n",
       "2  Franklin          NaN     1.2           9774           41048   \n",
       "3       NaN          NaN     1.3           3261           20562   \n",
       "4       Jax          NaN     1.3           2158           12041   \n",
       "\n",
       "                                           jpg_url           predicted_breed  \\\n",
       "0  https://pbs.twimg.com/media/DGGmoV4XsAAUL6n.jpg                 Chihuahua   \n",
       "1  https://pbs.twimg.com/media/DGBdLU1WsAANxJ9.jpg                 Chihuahua   \n",
       "2  https://pbs.twimg.com/media/DF6hr6BUMAAzZgT.jpg                    Basset   \n",
       "3  https://pbs.twimg.com/media/DF3HwyEWsAABqE6.jpg  Chesapeake_bay_retriever   \n",
       "4  https://pbs.twimg.com/media/DF1eOmZXUAALUcq.jpg               Appenzeller   \n",
       "\n",
       "   predicted_confidence     score  \n",
       "0              0.323581  0.578827  \n",
       "1              0.716012  0.274720  \n",
       "2              0.555712  0.616278  \n",
       "3              0.425595  0.374808  \n",
       "4              0.341703  0.305631  "
      ]
     },
     "metadata": {},
     "output_type": "display_data"
    },
    {
     "name": "stdout",
     "output_type": "stream",
     "text": [
      "<class 'pandas.core.frame.DataFrame'>\n",
      "Int64Index: 1463 entries, 0 to 1462\n",
      "Data columns (total 11 columns):\n",
      " #   Column                Non-Null Count  Dtype  \n",
      "---  ------                --------------  -----  \n",
      " 0   tweet_id              1463 non-null   object \n",
      " 1   text                  1463 non-null   object \n",
      " 2   name                  1044 non-null   object \n",
      " 3   stage_of_dog          227 non-null    object \n",
      " 4   rating                1463 non-null   float64\n",
      " 5   retweet_count         1463 non-null   int64  \n",
      " 6   favorite_count        1463 non-null   int64  \n",
      " 7   jpg_url               1463 non-null   object \n",
      " 8   predicted_breed       1463 non-null   object \n",
      " 9   predicted_confidence  1463 non-null   float64\n",
      " 10  score                 1463 non-null   float64\n",
      "dtypes: float64(3), int64(2), object(6)\n",
      "memory usage: 177.2+ KB\n"
     ]
    },
    {
     "data": {
      "text/plain": [
       "None"
      ]
     },
     "metadata": {},
     "output_type": "display_data"
    }
   ],
   "source": [
    "# Merge 'df_final_standardized' to  'final_df_clean' by indexes\n",
    "df_final = pd.merge(final_df_clean, df_final_standardized, left_index=True, right_index=True, how='inner')\n",
    "display(df_final.head())\n",
    "display(df_final.info())\n",
    "\n",
    "# Saving changes for the new column added\n",
    "df_final.to_csv('twitter_archive_master.csv', index=False)"
   ]
  },
  {
   "cell_type": "markdown",
   "metadata": {},
   "source": [
    "* Finally the dataset is sorted by 'score'. \n",
    "* Below are the five most popular dogs.\n",
    "* Note that some images are captures of videos, that's why sometimes those are blurred and with low quality, but it can be seen in the original tweet."
   ]
  },
  {
   "cell_type": "code",
   "execution_count": 67,
   "metadata": {},
   "outputs": [
    {
     "data": {
      "text/html": [
       "<div>\n",
       "<style scoped>\n",
       "    .dataframe tbody tr th:only-of-type {\n",
       "        vertical-align: middle;\n",
       "    }\n",
       "\n",
       "    .dataframe tbody tr th {\n",
       "        vertical-align: top;\n",
       "    }\n",
       "\n",
       "    .dataframe thead th {\n",
       "        text-align: right;\n",
       "    }\n",
       "</style>\n",
       "<table border=\"1\" class=\"dataframe\">\n",
       "  <thead>\n",
       "    <tr style=\"text-align: right;\">\n",
       "      <th></th>\n",
       "      <th>tweet_id</th>\n",
       "      <th>text</th>\n",
       "      <th>name</th>\n",
       "      <th>stage_of_dog</th>\n",
       "      <th>rating</th>\n",
       "      <th>retweet_count</th>\n",
       "      <th>favorite_count</th>\n",
       "      <th>jpg_url</th>\n",
       "      <th>predicted_breed</th>\n",
       "      <th>predicted_confidence</th>\n",
       "      <th>score</th>\n",
       "    </tr>\n",
       "  </thead>\n",
       "  <tbody>\n",
       "    <tr>\n",
       "      <th>614</th>\n",
       "      <td>744234799360020481</td>\n",
       "      <td>Here's a doggo realizing you can stand in a pool. 13/10 enlightened af (vid by Tina Conrad) https://t.co/7wE9LTEXC4</td>\n",
       "      <td>NaN</td>\n",
       "      <td>doggo</td>\n",
       "      <td>1.300000</td>\n",
       "      <td>79515</td>\n",
       "      <td>131075</td>\n",
       "      <td>https://pbs.twimg.com/ext_tw_video_thumb/744234667679821824/pu/img/1GaWmtJtdqzZV7jy.jpg</td>\n",
       "      <td>Labrador_retriever</td>\n",
       "      <td>0.825333</td>\n",
       "      <td>5.157243</td>\n",
       "    </tr>\n",
       "    <tr>\n",
       "      <th>310</th>\n",
       "      <td>810984652412424192</td>\n",
       "      <td>Meet Sam. She smiles 24/7 &amp;amp; secretly aspires to be a reindeer. \\nKeep Sam smiling by clicking and sharing this link:\\nhttps://t.co/98tB8y7y7t https://t.co/LouL5vdvxx</td>\n",
       "      <td>Sam</td>\n",
       "      <td>NaN</td>\n",
       "      <td>3.428571</td>\n",
       "      <td>1655</td>\n",
       "      <td>5927</td>\n",
       "      <td>https://pbs.twimg.com/media/C0EyPZbXAAAceSc.jpg</td>\n",
       "      <td>Golden_retriever</td>\n",
       "      <td>0.871342</td>\n",
       "      <td>3.828951</td>\n",
       "    </tr>\n",
       "    <tr>\n",
       "      <th>324</th>\n",
       "      <td>807106840509214720</td>\n",
       "      <td>This is Stephan. He just wants to help. 13/10 such a good boy https://t.co/DkBYaCAg2d</td>\n",
       "      <td>Stephan</td>\n",
       "      <td>NaN</td>\n",
       "      <td>1.300000</td>\n",
       "      <td>56625</td>\n",
       "      <td>107015</td>\n",
       "      <td>https://pbs.twimg.com/ext_tw_video_thumb/807106774843039744/pu/img/8XZg1xW35Xp2J6JW.jpg</td>\n",
       "      <td>Chihuahua</td>\n",
       "      <td>0.505370</td>\n",
       "      <td>3.721647</td>\n",
       "    </tr>\n",
       "    <tr>\n",
       "      <th>639</th>\n",
       "      <td>739238157791694849</td>\n",
       "      <td>Here's a doggo blowing bubbles. It's downright legendary. 13/10 would watch on repeat forever (vid by Kent Duryee) https://t.co/YcXgHfp1EC</td>\n",
       "      <td>NaN</td>\n",
       "      <td>doggo</td>\n",
       "      <td>1.300000</td>\n",
       "      <td>52360</td>\n",
       "      <td>75163</td>\n",
       "      <td>https://pbs.twimg.com/ext_tw_video_thumb/739238016737267712/pu/img/-tLpyiuIzD5zR1et.jpg</td>\n",
       "      <td>Eskimo_dog</td>\n",
       "      <td>0.503372</td>\n",
       "      <td>3.454158</td>\n",
       "    </tr>\n",
       "    <tr>\n",
       "      <th>247</th>\n",
       "      <td>822872901745569793</td>\n",
       "      <td>Here's a super supportive puppo participating in the Toronto  #WomensMarch today. 13/10 https://t.co/nTz3FtorBc</td>\n",
       "      <td>NaN</td>\n",
       "      <td>puppo</td>\n",
       "      <td>1.300000</td>\n",
       "      <td>48265</td>\n",
       "      <td>132810</td>\n",
       "      <td>https://pbs.twimg.com/media/C2tugXLXgAArJO4.jpg</td>\n",
       "      <td>Lakeland_terrier</td>\n",
       "      <td>0.196015</td>\n",
       "      <td>3.197332</td>\n",
       "    </tr>\n",
       "  </tbody>\n",
       "</table>\n",
       "</div>"
      ],
      "text/plain": [
       "               tweet_id  \\\n",
       "614  744234799360020481   \n",
       "310  810984652412424192   \n",
       "324  807106840509214720   \n",
       "639  739238157791694849   \n",
       "247  822872901745569793   \n",
       "\n",
       "                                                                                                                                                                          text  \\\n",
       "614                                                        Here's a doggo realizing you can stand in a pool. 13/10 enlightened af (vid by Tina Conrad) https://t.co/7wE9LTEXC4   \n",
       "310  Meet Sam. She smiles 24/7 &amp; secretly aspires to be a reindeer. \\nKeep Sam smiling by clicking and sharing this link:\\nhttps://t.co/98tB8y7y7t https://t.co/LouL5vdvxx   \n",
       "324                                                                                      This is Stephan. He just wants to help. 13/10 such a good boy https://t.co/DkBYaCAg2d   \n",
       "639                                 Here's a doggo blowing bubbles. It's downright legendary. 13/10 would watch on repeat forever (vid by Kent Duryee) https://t.co/YcXgHfp1EC   \n",
       "247                                                            Here's a super supportive puppo participating in the Toronto  #WomensMarch today. 13/10 https://t.co/nTz3FtorBc   \n",
       "\n",
       "        name stage_of_dog    rating  retweet_count  favorite_count  \\\n",
       "614      NaN        doggo  1.300000          79515          131075   \n",
       "310      Sam          NaN  3.428571           1655            5927   \n",
       "324  Stephan          NaN  1.300000          56625          107015   \n",
       "639      NaN        doggo  1.300000          52360           75163   \n",
       "247      NaN        puppo  1.300000          48265          132810   \n",
       "\n",
       "                                                                                     jpg_url  \\\n",
       "614  https://pbs.twimg.com/ext_tw_video_thumb/744234667679821824/pu/img/1GaWmtJtdqzZV7jy.jpg   \n",
       "310                                          https://pbs.twimg.com/media/C0EyPZbXAAAceSc.jpg   \n",
       "324  https://pbs.twimg.com/ext_tw_video_thumb/807106774843039744/pu/img/8XZg1xW35Xp2J6JW.jpg   \n",
       "639  https://pbs.twimg.com/ext_tw_video_thumb/739238016737267712/pu/img/-tLpyiuIzD5zR1et.jpg   \n",
       "247                                          https://pbs.twimg.com/media/C2tugXLXgAArJO4.jpg   \n",
       "\n",
       "        predicted_breed  predicted_confidence     score  \n",
       "614  Labrador_retriever              0.825333  5.157243  \n",
       "310    Golden_retriever              0.871342  3.828951  \n",
       "324           Chihuahua              0.505370  3.721647  \n",
       "639          Eskimo_dog              0.503372  3.454158  \n",
       "247    Lakeland_terrier              0.196015  3.197332  "
      ]
     },
     "execution_count": 67,
     "metadata": {},
     "output_type": "execute_result"
    }
   ],
   "source": [
    "df_final.sort_values('score',ascending=False).head()"
   ]
  },
  {
   "cell_type": "markdown",
   "metadata": {},
   "source": [
    "### Visualizations"
   ]
  },
  {
   "cell_type": "markdown",
   "metadata": {},
   "source": [
    "#### The most popular Dog Breeds"
   ]
  },
  {
   "cell_type": "code",
   "execution_count": 68,
   "metadata": {},
   "outputs": [
    {
     "data": {
      "image/png": "[encoded data removed]",
      "text/plain": [
       "<Figure size 720x288 with 1 Axes>"
      ]
     },
     "metadata": {
      "needs_background": "light"
     },
     "output_type": "display_data"
    }
   ],
   "source": [
    "plt.figure(figsize = (10,4))\n",
    "\n",
    "ax = sns.barplot(\n",
    "    x = final_df_clean['predicted_breed'].value_counts()[0:15].index, \n",
    "    y =final_df_clean['predicted_breed'].value_counts()[0:15], \n",
    "    data = final_df_clean, \n",
    "    palette=\"mako\"\n",
    ");\n",
    "\n",
    "plt.ylabel(\"Prediction Count\",fontsize = 15);\n",
    "plt.xlabel(\"Breed of Dogs\",fontsize = 15);\n",
    "plt.title(\"The most popular Dog Breeds\",fontsize = 18);\n",
    "ax.set_xticklabels(ax.get_xticklabels(),rotation = 90, fontsize = 14);"
   ]
  },
  {
   "cell_type": "markdown",
   "metadata": {},
   "source": [
    "#### Boxplot, Scatterplot and Kernel Density Estimate (KDE) Analysis"
   ]
  },
  {
   "cell_type": "code",
   "execution_count": 69,
   "metadata": {
    "scrolled": true
   },
   "outputs": [
    {
     "data": {
      "image/png": "[encoded data removed]",
      "text/plain": [
       "<Figure size 720x720 with 20 Axes>"
      ]
     },
     "metadata": {
      "needs_background": "light"
     },
     "output_type": "display_data"
    }
   ],
   "source": [
    "g = sns.PairGrid(final_df_clean);\n",
    "g.map_diag(sns.boxplot);\n",
    "g.map_upper(sns.scatterplot);\n",
    "g.map_lower(sns.kdeplot);"
   ]
  },
  {
   "cell_type": "markdown",
   "metadata": {},
   "source": [
    "##### Insights\n",
    "* **Boxplots (main diagonal)**: \n",
    " + `retweet_count` and `favorite_count` are the variables with the biggest amount of outliers. \n",
    " + Meanwhile `predicted_confidence` has no outliers\n",
    " + and `rating` has outliers that show values under 1.0 are less common. \n",
    "* **Scatterplots (upper diagonal)**:\n",
    " + The only variables that have positive correlation are `retweet_count` and `favorite_count`. \n",
    " + It can not be assumed any kind of correlation between the other variables.\n",
    "* **Kernel Density Estimate(KDE)** \n",
    " + This a method for visualizing the distribution of observations in a dataset, analagous to a [histogram](https://seaborn.pydata.org/generated/seaborn.kdeplot.html).\n",
    " + In the case of `retweet_count` and` favorite_count` there is a high density of data represented by concentric lines very close togheter."
   ]
  }
 ],
 "metadata": {
  "kernelspec": {
   "display_name": "Python 3",
   "language": "python",
   "name": "python3"
  },
  "language_info": {
   "codemirror_mode": {
    "name": "ipython",
    "version": 3
   },
   "file_extension": ".py",
   "mimetype": "text/x-python",
   "name": "python",
   "nbconvert_exporter": "python",
   "pygments_lexer": "ipython3",
   "version": "3.8.5"
  }
 },
 "nbformat": 4,
 "nbformat_minor": 4
}
